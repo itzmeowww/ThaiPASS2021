{
 "cells": [
  {
   "cell_type": "markdown",
   "metadata": {},
   "source": [
    "![thaipass_logo](https://indico.narit.or.th/event/81/logo-2988874644.png)"
   ]
  },
  {
   "cell_type": "markdown",
   "metadata": {},
   "source": [
    "# Advanced Topics in Python\n",
    "\n",
    "In the first set of notes we have covered the basics of the Python programming language. There are many other uses for Python however, and many more tools which you can use to perform calculations, sort data, draw graphs and other tasks.\n",
    "\n",
    "There are too many tools to cover in this introduction, so we have put together a list of some of the most important topics which we will cover in this pack.\n",
    "\n",
    "These are:\n",
    "\n",
    "* Functions\n",
    "    * What are they?\n",
    "    * How do we define them?\n",
    "    * Why are they useful?\n",
    "    * Types of argument\n",
    "    \n",
    "    \n",
    "* Using Python packages\n",
    "    * What is a package?\n",
    "    * What are the ones most commonly used in astrophysics?\n",
    "    * How to load them and use functions from them \n",
    "    \n",
    "\n",
    "* Reading and writing to a file\n",
    "    * Reading a data file\n",
    "    * Producing files with your results saved to it\n",
    "    \n",
    "    \n",
    "* Plotting data\n",
    "    * What packages can we use to plot data?\n",
    "    * How do we use real data to produce these plots?\n",
    "\n",
    "\n",
    "We will also cover three more advanced topics. While not strictly necessary for the work we will be doing, these topics are very useful for further study in Python, and will make data handling much easier if you learn how to apply them correctly.\n",
    "\n",
    "These three topics are:\n",
    "\n",
    "* Exception handling\n",
    "* Dictionaries\n",
    "* Using the builtin **open** function\n",
    "\n",
    "After working through these topics, you will be given two tasks to be completed before the Summer school.\n",
    "   "
   ]
  },
  {
   "cell_type": "markdown",
   "metadata": {},
   "source": [
    "# Functions\n",
    "\n",
    "### What are they?\n",
    "\n",
    "A function is a piece of code which performs a task, and can be used over and over again. An example is shown below:"
   ]
  },
  {
   "cell_type": "code",
   "execution_count": 28,
   "metadata": {},
   "outputs": [],
   "source": [
    "def squares(numbers):\n",
    "    \"A function to print the square of a number passed to it\"\n",
    "    for i in numbers:\n",
    "        print(i**2)\n"
   ]
  },
  {
   "cell_type": "markdown",
   "metadata": {},
   "source": [
    "def **defines** a function, called squares\n",
    "\n",
    "squares takes an **argument**, called numbers. The argument is the bit that you add and which the function works on. This is a list of numbers for squares, but can be many different types of input.\n",
    "\n",
    "The doc string (short for documentation string) is next, and gives some information about the function. You can read this information by typing the name of your function, followed by a ?\n",
    "\n",
    "For example:"
   ]
  },
  {
   "cell_type": "code",
   "execution_count": 29,
   "metadata": {},
   "outputs": [
    {
     "output_type": "stream",
     "text": [
      "\u001b[1;31mSignature:\u001b[0m \u001b[0msquares\u001b[0m\u001b[1;33m(\u001b[0m\u001b[0mnumbers\u001b[0m\u001b[1;33m)\u001b[0m\u001b[1;33m\u001b[0m\u001b[1;33m\u001b[0m\u001b[0m\n",
      "\u001b[1;31mDocstring:\u001b[0m A function to print the square of a number passed to it\n",
      "\u001b[1;31mFile:\u001b[0m      d:\\pre thaipass\\thaipass2021\\tutorials\\<ipython-input-28-7cb81af82337>\n",
      "\u001b[1;31mType:\u001b[0m      function\n"
     ],
     "name": "stdout"
    }
   ],
   "source": [
    "squares?"
   ]
  },
  {
   "cell_type": "markdown",
   "metadata": {},
   "source": [
    "when executed, will give you information about the squares function. This should appear at the bottom of your screen.\n",
    "\n",
    "Next in this example, a simple **for** loop is used to cycle through the values in numbers, and print those values to the power of two.\n",
    "\n",
    "Let's see this in action:"
   ]
  },
  {
   "cell_type": "code",
   "execution_count": 30,
   "metadata": {},
   "outputs": [
    {
     "output_type": "stream",
     "name": "stdout",
     "text": [
      "1\n4\n9\n16\n25\n"
     ]
    }
   ],
   "source": [
    "squares([1,2,3,4,5])"
   ]
  },
  {
   "cell_type": "markdown",
   "metadata": {},
   "source": [
    "Here we have **called** the function squares, and **passed** it a list as an argument [1,2,3,4,5]\n",
    "\n",
    "Note, for this example numbers must be a list or array, but depending on how you define your function this could be a string an integer, a float or a boolean, or any object type which python suports.\n",
    "\n",
    "Functions are very useful, because they allow us to reuse code that we have written in different situations. For example, if you were to have many lists of numbers:"
   ]
  },
  {
   "cell_type": "code",
   "execution_count": 31,
   "metadata": {},
   "outputs": [],
   "source": [
    "numbers_1 = [11,59,70,33,92]\n",
    "numbers_2 = [22,21,44,16,10]\n",
    "numbers_3 = [43,12,19,16,32]"
   ]
  },
  {
   "cell_type": "markdown",
   "metadata": {},
   "source": [
    "you may check the squares of each of these simply by **passing** the lists numbers_1, numbers_2 and numbers_3 to the squares function:"
   ]
  },
  {
   "cell_type": "code",
   "execution_count": 32,
   "metadata": {},
   "outputs": [
    {
     "output_type": "stream",
     "name": "stdout",
     "text": [
      "numbers_1 squared:\n121\n3481\n4900\n1089\n8464\nnumbers_2 squared:\n484\n441\n1936\n256\n100\nnumbers_3 squared:\n1849\n144\n361\n256\n1024\n"
     ]
    }
   ],
   "source": [
    "print('numbers_1 squared:')\n",
    "squares(numbers_1)\n",
    "print('numbers_2 squared:')\n",
    "squares(numbers_2)\n",
    "print('numbers_3 squared:')\n",
    "squares(numbers_3)"
   ]
  },
  {
   "cell_type": "markdown",
   "metadata": {},
   "source": [
    "See below another example of a function"
   ]
  },
  {
   "cell_type": "code",
   "execution_count": 33,
   "metadata": {},
   "outputs": [],
   "source": [
    "def is_string(func_input):\n",
    "    \"A function to determine whether the argument given is a string or a different data type\"\n",
    "    if type(func_input) == str:\n",
    "        print('This is a string')\n",
    "    else:\n",
    "        print('This is not a string')"
   ]
  },
  {
   "cell_type": "code",
   "execution_count": 34,
   "metadata": {},
   "outputs": [
    {
     "output_type": "stream",
     "name": "stdout",
     "text": [
      "This is a string\n"
     ]
    }
   ],
   "source": [
    "is_string('Cat')"
   ]
  },
  {
   "cell_type": "markdown",
   "metadata": {},
   "source": [
    "Here we **define** a function, is_string, who's **argument** is func_input. We check what **type** of object func_input is, and **if** it is a string, we print a message. **else** we print a different message.\n",
    "\n",
    "You may like to try writing your own function to print the type of any argument passed to this function. (For a list of object types, see the first set of lecture notes)."
   ]
  },
  {
   "cell_type": "markdown",
   "metadata": {},
   "source": [
    "### Task:\n",
    "\n",
    "**Define** a function called prime.\n",
    "\n",
    "This should take the **argument** number.\n",
    "\n",
    "Your function should take number (between 1 and 50) and find if it is a prime.\n",
    "\n",
    "**If** it is a prime, it should print your number\n",
    "\n",
    "**else** it should write 'try a different number'"
   ]
  },
  {
   "cell_type": "markdown",
   "metadata": {},
   "source": [
    "### Why are they useful?\n",
    "\n",
    "These examples show you some of the ways that fuctions can be used in python, but any piece of code which you need to reuse can be written as a function. This can make writing code much faster and easier, and make it more readable for people looking at your work.\n",
    "\n",
    "\n",
    "\n",
    "# Types of argument\n",
    "\n",
    "There are 4 types of argument which can be used in a function. We will only describe three here, but if you are interested there are links other materials at the end of these notes which you may use to learn more.\n",
    "\n",
    "\n",
    "### Required arguments\n",
    "\n",
    "These are arguments that you **must** provide when you use the function. All of the arguments above are required arguments, and the functions we have defined will not work without these. You must give required arguments in the same order as they are listed in the function.\n",
    "\n",
    "### Keyword arguments\n",
    "\n",
    "When you use a **keyword argument**, you specify which argument you are passing to the function with a keyword. This alows you to change the order that you pass arguments to the function. For example:\n"
   ]
  },
  {
   "cell_type": "code",
   "execution_count": 35,
   "metadata": {},
   "outputs": [
    {
     "output_type": "stream",
     "name": "stdout",
     "text": [
      "This is a string\n"
     ]
    }
   ],
   "source": [
    "is_string(func_input='Cat')"
   ]
  },
  {
   "cell_type": "markdown",
   "metadata": {},
   "source": [
    "is an example of passing a **keyword** to the is_string function. If your function has more than one **required argument**, then these must be given in order unless you call them using the **keyword**.\n",
    "\n",
    "Here is a function as an example:"
   ]
  },
  {
   "cell_type": "code",
   "execution_count": 36,
   "metadata": {},
   "outputs": [],
   "source": [
    "def menu(food,price):\n",
    "    \"This will print a type of food an its cost\"\n",
    "    print('The type of food is '+str(food))\n",
    "    print('The cost is ' + u'\\u0E3F' + str(price))"
   ]
  },
  {
   "cell_type": "markdown",
   "metadata": {},
   "source": [
    "And using a **keyword** argument, these may be passed to the function in any order:"
   ]
  },
  {
   "cell_type": "code",
   "execution_count": 37,
   "metadata": {},
   "outputs": [
    {
     "output_type": "stream",
     "name": "stdout",
     "text": [
      "The type of food is pizza\nThe cost is ฿250\n"
     ]
    }
   ],
   "source": [
    "menu(price=250,food='pizza')"
   ]
  },
  {
   "cell_type": "markdown",
   "metadata": {},
   "source": [
    "Without the keyword arguments, this would give:"
   ]
  },
  {
   "cell_type": "code",
   "execution_count": 38,
   "metadata": {},
   "outputs": [
    {
     "output_type": "stream",
     "name": "stdout",
     "text": [
      "The type of food is 250\nThe cost is ฿pizza\n"
     ]
    }
   ],
   "source": [
    "menu(250,'pizza')"
   ]
  },
  {
   "cell_type": "markdown",
   "metadata": {},
   "source": [
    "Which is clearly wrong.\n",
    "\n",
    "### Default arguments\n",
    "\n",
    "The final type of argument we will describe is the **default argument**. When you write a function, you can give a default value to some or all of the **arguments** you must pass to it. This is used as the value for thatargument, unless you **pass** a different argument using a **keyword**. For example:"
   ]
  },
  {
   "cell_type": "code",
   "execution_count": 39,
   "metadata": {},
   "outputs": [],
   "source": [
    "def menu2(food,price=350):\n",
    "    \"This will print a type of food an its cost\"\n",
    "    print('The type of food is '+str(food))\n",
    "    print('The cost is ' + u'\\u0E3F' + str(price))"
   ]
  },
  {
   "cell_type": "markdown",
   "metadata": {},
   "source": [
    "Has a default value for price of 350. You can **call** this function with only the food argument:"
   ]
  },
  {
   "cell_type": "code",
   "execution_count": 40,
   "metadata": {},
   "outputs": [
    {
     "output_type": "stream",
     "name": "stdout",
     "text": [
      "The type of food is Tom Yum Goong\nThe cost is ฿350\n"
     ]
    }
   ],
   "source": [
    "menu2('Tom Yum Goong')"
   ]
  },
  {
   "cell_type": "markdown",
   "metadata": {},
   "source": [
    "# Using python packages\n",
    "\n",
    "There are many functions available which perform many different tasks. These might be finding the mean of a set of numbers, or their standard deviation, or any number of numerical operations. \n",
    "\n",
    "These functions are collected into **modules**, and these **modules** are collected into **packages**. Packages contain a file called **\\__init__.py**, which tells python that it is working with a package. We must **import** packages to our script to use them. **Modules** and **packages** can contain other python objects, but we will not cover these here.\n",
    "\n",
    "Importing packages is simple, in the cell below we will import the package numpy"
   ]
  },
  {
   "cell_type": "code",
   "execution_count": 41,
   "metadata": {},
   "outputs": [],
   "source": [
    "import numpy"
   ]
  },
  {
   "cell_type": "markdown",
   "metadata": {},
   "source": [
    "numpy is a package that is used in many branches of science, and contains many useful functions. You can call a function from a package by writing the package name, followed by a . (full stop), and then the name of the function.\n",
    "\n",
    "Here are some examples:"
   ]
  },
  {
   "cell_type": "code",
   "execution_count": 42,
   "metadata": {},
   "outputs": [
    {
     "output_type": "stream",
     "name": "stdout",
     "text": [
      "1.0\n0.0\n0.0\n"
     ]
    }
   ],
   "source": [
    "print(numpy.cos(0))\n",
    "print(numpy.sin(0))\n",
    "print(numpy.tan(0))"
   ]
  },
  {
   "cell_type": "markdown",
   "metadata": {},
   "source": [
    "In these three lines, we have used the inbuilt python **print** function to print the value of sin, cos and tan at 0 radians. To calculate this value, we have uesd the numpy **functions** cos, sin and tan, with the **argument** 0.\n",
    "\n",
    "To call these we have used the name of our package, numpy, followed by . (a full stop) and the name of the function we want to use from the numpy package. There are lots of functions in the numpy package, and you can see a list of them by typing numpy, followed by a . (full stop), and pressing the tab key - try this in the cell below, pressing the down arrow key to cycle through the options (there are many!)."
   ]
  },
  {
   "cell_type": "code",
   "execution_count": 43,
   "metadata": {},
   "outputs": [],
   "source": [
    "# try typing numpy. and pressing tab in a line below, cycle through the options that appear with the down arrow\n",
    "\n"
   ]
  },
  {
   "cell_type": "markdown",
   "metadata": {},
   "source": [
    "When we import a module, we can rename it to make writing code neater and more readable. It is standard practice in the science community to **import** numpy **as** np\n",
    "\n",
    "When this is done, we can call the same functions as above, using the new shorter name np."
   ]
  },
  {
   "cell_type": "code",
   "execution_count": 44,
   "metadata": {},
   "outputs": [
    {
     "output_type": "stream",
     "name": "stdout",
     "text": [
      "1.0\n0.0\n0.0\n"
     ]
    }
   ],
   "source": [
    "import numpy as np\n",
    "\n",
    "print(np.cos(0))\n",
    "print(np.sin(0))\n",
    "print(np.tan(0))\n",
    "\n"
   ]
  },
  {
   "cell_type": "markdown",
   "metadata": {},
   "source": [
    "We can use these functions inside our own functions, meaning that we do not have to write new functions every time we need to perform a mathematical operation.\n",
    "\n",
    "For example, if we wanted to find the values of sin, cos and tan for every angle between 0 and 180 degrees, we could use a **for** loop to loop over these angles, and the numpy functions cos, sin and tan to compute the values. Remember that the numpy functions cos, sin and tan, take an **argument** in radians, so we must use a different function, np.deg2rad, to convert our i in degrees into radians to get the correct result.\n",
    "\n",
    "We have used range before as a inbuilt python tool, however numpy also has options for generating a range of values. So, for example, this task could be done in the following ways:"
   ]
  },
  {
   "cell_type": "code",
   "execution_count": 45,
   "metadata": {},
   "outputs": [],
   "source": [
    "all_cos = []\n",
    "all_sin = []\n",
    "all_tan = []\n",
    "theta   = []\n",
    "for i in range(0,181,1):\n",
    "    all_cos.append(np.cos(np.deg2rad(i)))\n",
    "    all_sin.append(np.sin(np.deg2rad(i)))\n",
    "    all_tan.append(np.tan(np.deg2rad(i)))\n",
    "    theta.append(i)"
   ]
  },
  {
   "cell_type": "markdown",
   "metadata": {},
   "source": [
    "or we could use the numpy function np.arange to take smaller steps in our loop:"
   ]
  },
  {
   "cell_type": "code",
   "execution_count": 46,
   "metadata": {},
   "outputs": [],
   "source": [
    "all_cos_2 = []\n",
    "all_sin_2 = []\n",
    "all_tan_2 = []\n",
    "theta_2   = []\n",
    "for i in np.arange(0,181,0.1):\n",
    "    all_cos.append(np.cos(np.deg2rad(i)))\n",
    "    all_sin.append(np.sin(np.deg2rad(i)))\n",
    "    all_tan.append(np.tan(np.deg2rad(i)))\n",
    "    theta_2.append(i)"
   ]
  },
  {
   "cell_type": "markdown",
   "metadata": {},
   "source": [
    "The inbuilt python **range** function only takes integer values, where as **np.arange** can take floats. It means for the two examples above, there are ten times as many values of theta_2 etc. as for theta. we can check this using another inbuilt function **len** which checks the lenght of a list:"
   ]
  },
  {
   "cell_type": "code",
   "execution_count": 47,
   "metadata": {},
   "outputs": [
    {
     "output_type": "stream",
     "name": "stdout",
     "text": [
      "181\n1810\n"
     ]
    }
   ],
   "source": [
    "print(len(theta))\n",
    "print(len(theta_2))"
   ]
  },
  {
   "cell_type": "markdown",
   "metadata": {},
   "source": [
    "There are many other modules that are used in scientific computing, all of which have documentation to help you understand their aplications. If you are not sure what a module or a function does you can use a ? to find out more about it.\n",
    "\n",
    "For example:"
   ]
  },
  {
   "cell_type": "code",
   "execution_count": 48,
   "metadata": {},
   "outputs": [
    {
     "output_type": "stream",
     "text": [
      "\u001b[1;31mType:\u001b[0m        module\n",
      "\u001b[1;31mString form:\u001b[0m <module 'numpy' from 'C:\\\\Users\\\\6200313\\\\AppData\\\\Local\\\\Programs\\\\Python\\\\Python39\\\\lib\\\\site-packages\\\\numpy\\\\__init__.py'>\n",
      "\u001b[1;31mFile:\u001b[0m        c:\\users\\6200313\\appdata\\local\\programs\\python\\python39\\lib\\site-packages\\numpy\\__init__.py\n",
      "\u001b[1;31mDocstring:\u001b[0m  \n",
      "NumPy\n",
      "=====\n",
      "\n",
      "Provides\n",
      "  1. An array object of arbitrary homogeneous items\n",
      "  2. Fast mathematical operations over arrays\n",
      "  3. Linear Algebra, Fourier Transforms, Random Number Generation\n",
      "\n",
      "How to use the documentation\n",
      "----------------------------\n",
      "Documentation is available in two forms: docstrings provided\n",
      "with the code, and a loose standing reference guide, available from\n",
      "`the NumPy homepage <https://www.scipy.org>`_.\n",
      "\n",
      "We recommend exploring the docstrings using\n",
      "`IPython <https://ipython.org>`_, an advanced Python shell with\n",
      "TAB-completion and introspection capabilities.  See below for further\n",
      "instructions.\n",
      "\n",
      "The docstring examples assume that `numpy` has been imported as `np`::\n",
      "\n",
      "  >>> import numpy as np\n",
      "\n",
      "Code snippets are indicated by three greater-than signs::\n",
      "\n",
      "  >>> x = 42\n",
      "  >>> x = x + 1\n",
      "\n",
      "Use the built-in ``help`` function to view a function's docstring::\n",
      "\n",
      "  >>> help(np.sort)\n",
      "  ... # doctest: +SKIP\n",
      "\n",
      "For some objects, ``np.info(obj)`` may provide additional help.  This is\n",
      "particularly true if you see the line \"Help on ufunc object:\" at the top\n",
      "of the help() page.  Ufuncs are implemented in C, not Python, for speed.\n",
      "The native Python help() does not know how to view their help, but our\n",
      "np.info() function does.\n",
      "\n",
      "To search for documents containing a keyword, do::\n",
      "\n",
      "  >>> np.lookfor('keyword')\n",
      "  ... # doctest: +SKIP\n",
      "\n",
      "General-purpose documents like a glossary and help on the basic concepts\n",
      "of numpy are available under the ``doc`` sub-module::\n",
      "\n",
      "  >>> from numpy import doc\n",
      "  >>> help(doc)\n",
      "  ... # doctest: +SKIP\n",
      "\n",
      "Available subpackages\n",
      "---------------------\n",
      "doc\n",
      "    Topical documentation on broadcasting, indexing, etc.\n",
      "lib\n",
      "    Basic functions used by several sub-packages.\n",
      "random\n",
      "    Core Random Tools\n",
      "linalg\n",
      "    Core Linear Algebra Tools\n",
      "fft\n",
      "    Core FFT routines\n",
      "polynomial\n",
      "    Polynomial tools\n",
      "testing\n",
      "    NumPy testing tools\n",
      "f2py\n",
      "    Fortran to Python Interface Generator.\n",
      "distutils\n",
      "    Enhancements to distutils with support for\n",
      "    Fortran compilers support and more.\n",
      "\n",
      "Utilities\n",
      "---------\n",
      "test\n",
      "    Run numpy unittests\n",
      "show_config\n",
      "    Show numpy build configuration\n",
      "dual\n",
      "    Overwrite certain functions with high-performance Scipy tools\n",
      "matlib\n",
      "    Make everything matrices.\n",
      "__version__\n",
      "    NumPy version string\n",
      "\n",
      "Viewing documentation using IPython\n",
      "-----------------------------------\n",
      "Start IPython with the NumPy profile (``ipython -p numpy``), which will\n",
      "import `numpy` under the alias `np`.  Then, use the ``cpaste`` command to\n",
      "paste examples into the shell.  To see which functions are available in\n",
      "`numpy`, type ``np.<TAB>`` (where ``<TAB>`` refers to the TAB key), or use\n",
      "``np.*cos*?<ENTER>`` (where ``<ENTER>`` refers to the ENTER key) to narrow\n",
      "down the list.  To view the docstring for a function, use\n",
      "``np.cos?<ENTER>`` (to view the docstring) and ``np.cos??<ENTER>`` (to view\n",
      "the source code).\n",
      "\n",
      "Copies vs. in-place operation\n",
      "-----------------------------\n",
      "Most of the functions in `numpy` return a copy of the array argument\n",
      "(e.g., `np.sort`).  In-place versions of these functions are often\n",
      "available as array methods, i.e. ``x = np.array([1,2,3]); x.sort()``.\n",
      "Exceptions to this rule are documented.\n"
     ],
     "name": "stdout"
    }
   ],
   "source": [
    "numpy?"
   ]
  },
  {
   "cell_type": "markdown",
   "metadata": {},
   "source": [
    "will tell you about the numpy module"
   ]
  },
  {
   "cell_type": "code",
   "execution_count": 49,
   "metadata": {},
   "outputs": [
    {
     "output_type": "stream",
     "text": [
      "\u001b[1;31mCall signature:\u001b[0m  \u001b[0mnp\u001b[0m\u001b[1;33m.\u001b[0m\u001b[0msin\u001b[0m\u001b[1;33m(\u001b[0m\u001b[1;33m*\u001b[0m\u001b[0margs\u001b[0m\u001b[1;33m,\u001b[0m \u001b[1;33m**\u001b[0m\u001b[0mkwargs\u001b[0m\u001b[1;33m)\u001b[0m\u001b[1;33m\u001b[0m\u001b[1;33m\u001b[0m\u001b[0m\n",
      "\u001b[1;31mType:\u001b[0m            ufunc\n",
      "\u001b[1;31mString form:\u001b[0m     <ufunc 'sin'>\n",
      "\u001b[1;31mFile:\u001b[0m            c:\\users\\6200313\\appdata\\local\\programs\\python\\python39\\lib\\site-packages\\numpy\\__init__.py\n",
      "\u001b[1;31mDocstring:\u001b[0m      \n",
      "sin(x, /, out=None, *, where=True, casting='same_kind', order='K', dtype=None, subok=True[, signature, extobj])\n",
      "\n",
      "Trigonometric sine, element-wise.\n",
      "\n",
      "Parameters\n",
      "----------\n",
      "x : array_like\n",
      "    Angle, in radians (:math:`2 \\pi` rad equals 360 degrees).\n",
      "out : ndarray, None, or tuple of ndarray and None, optional\n",
      "    A location into which the result is stored. If provided, it must have\n",
      "    a shape that the inputs broadcast to. If not provided or None,\n",
      "    a freshly-allocated array is returned. A tuple (possible only as a\n",
      "    keyword argument) must have length equal to the number of outputs.\n",
      "where : array_like, optional\n",
      "    This condition is broadcast over the input. At locations where the\n",
      "    condition is True, the `out` array will be set to the ufunc result.\n",
      "    Elsewhere, the `out` array will retain its original value.\n",
      "    Note that if an uninitialized `out` array is created via the default\n",
      "    ``out=None``, locations within it where the condition is False will\n",
      "    remain uninitialized.\n",
      "**kwargs\n",
      "    For other keyword-only arguments, see the\n",
      "    :ref:`ufunc docs <ufuncs.kwargs>`.\n",
      "\n",
      "Returns\n",
      "-------\n",
      "y : array_like\n",
      "    The sine of each element of x.\n",
      "    This is a scalar if `x` is a scalar.\n",
      "\n",
      "See Also\n",
      "--------\n",
      "arcsin, sinh, cos\n",
      "\n",
      "Notes\n",
      "-----\n",
      "The sine is one of the fundamental functions of trigonometry (the\n",
      "mathematical study of triangles).  Consider a circle of radius 1\n",
      "centered on the origin.  A ray comes in from the :math:`+x` axis, makes\n",
      "an angle at the origin (measured counter-clockwise from that axis), and\n",
      "departs from the origin.  The :math:`y` coordinate of the outgoing\n",
      "ray's intersection with the unit circle is the sine of that angle.  It\n",
      "ranges from -1 for :math:`x=3\\pi / 2` to +1 for :math:`\\pi / 2.`  The\n",
      "function has zeroes where the angle is a multiple of :math:`\\pi`.\n",
      "Sines of angles between :math:`\\pi` and :math:`2\\pi` are negative.\n",
      "The numerous properties of the sine and related functions are included\n",
      "in any standard trigonometry text.\n",
      "\n",
      "Examples\n",
      "--------\n",
      "Print sine of one angle:\n",
      "\n",
      ">>> np.sin(np.pi/2.)\n",
      "1.0\n",
      "\n",
      "Print sines of an array of angles given in degrees:\n",
      "\n",
      ">>> np.sin(np.array((0., 30., 45., 60., 90.)) * np.pi / 180. )\n",
      "array([ 0.        ,  0.5       ,  0.70710678,  0.8660254 ,  1.        ])\n",
      "\n",
      "Plot the sine function:\n",
      "\n",
      ">>> import matplotlib.pylab as plt\n",
      ">>> x = np.linspace(-np.pi, np.pi, 201)\n",
      ">>> plt.plot(x, np.sin(x))\n",
      ">>> plt.xlabel('Angle [rad]')\n",
      ">>> plt.ylabel('sin(x)')\n",
      ">>> plt.axis('tight')\n",
      ">>> plt.show()\n",
      "\u001b[1;31mClass docstring:\u001b[0m\n",
      "Functions that operate element by element on whole arrays.\n",
      "\n",
      "To see the documentation for a specific ufunc, use `info`.  For\n",
      "example, ``np.info(np.sin)``.  Because ufuncs are written in C\n",
      "(for speed) and linked into Python with NumPy's ufunc facility,\n",
      "Python's help() function finds this page whenever help() is called\n",
      "on a ufunc.\n",
      "\n",
      "A detailed explanation of ufuncs can be found in the docs for :ref:`ufuncs`.\n",
      "\n",
      "Calling ufuncs:\n",
      "===============\n",
      "\n",
      "op(*x[, out], where=True, **kwargs)\n",
      "Apply `op` to the arguments `*x` elementwise, broadcasting the arguments.\n",
      "\n",
      "The broadcasting rules are:\n",
      "\n",
      "* Dimensions of length 1 may be prepended to either array.\n",
      "* Arrays may be repeated along dimensions of length 1.\n",
      "\n",
      "Parameters\n",
      "----------\n",
      "*x : array_like\n",
      "    Input arrays.\n",
      "out : ndarray, None, or tuple of ndarray and None, optional\n",
      "    Alternate array object(s) in which to put the result; if provided, it\n",
      "    must have a shape that the inputs broadcast to. A tuple of arrays\n",
      "    (possible only as a keyword argument) must have length equal to the\n",
      "    number of outputs; use None for uninitialized outputs to be\n",
      "    allocated by the ufunc.\n",
      "where : array_like, optional\n",
      "    This condition is broadcast over the input. At locations where the\n",
      "    condition is True, the `out` array will be set to the ufunc result.\n",
      "    Elsewhere, the `out` array will retain its original value.\n",
      "    Note that if an uninitialized `out` array is created via the default\n",
      "    ``out=None``, locations within it where the condition is False will\n",
      "    remain uninitialized.\n",
      "**kwargs\n",
      "    For other keyword-only arguments, see the :ref:`ufunc docs <ufuncs.kwargs>`.\n",
      "\n",
      "Returns\n",
      "-------\n",
      "r : ndarray or tuple of ndarray\n",
      "    `r` will have the shape that the arrays in `x` broadcast to; if `out` is\n",
      "    provided, it will be returned. If not, `r` will be allocated and\n",
      "    may contain uninitialized values. If the function has more than one\n",
      "    output, then the result will be a tuple of arrays.\n"
     ],
     "name": "stdout"
    }
   ],
   "source": [
    "np.sin?"
   ]
  },
  {
   "cell_type": "markdown",
   "metadata": {},
   "source": [
    "will tell you about the sin function in the numpy module.\n",
    "\n",
    "Some other modules which will be useful are given in the table below:\n",
    "\n",
    "\n",
    "\n",
    "Module     |Use                     |Example functions    |Web link\n",
    "-----------|------------------------|---------------------|---------:\n",
    "NumPy      |maths functions, utility|np.arange, np.nan    |[NumPy.org](http://www.numpy.org)\n",
    "Astropy    |astronomy functions     |                     |[Astropy.org](http://www.astropy.org)\n",
    "SciPy      |many                    |                     |[Scipy.org](https://www.scipy.org)\n",
    "Pandas     |data handling           |                     |[Pandas.pydata.org](https://pandas.pydata.org)\n",
    "\n",
    "\n",
    "\n",
    "\n",
    "\n"
   ]
  },
  {
   "cell_type": "markdown",
   "metadata": {},
   "source": [
    "\n",
    "\n",
    "# Reading and writing files\n",
    "\n",
    "Often, you will want to read data from a file that you have, and save data which you have made to another file.\n",
    "\n",
    "There are many ways that this can be done in python, we will cover two in this section:\n",
    "\n",
    "* using the np.genfromtxt function\n",
    "* using pandas dataframes\n",
    "\n",
    "A third, using the built in **open** function, will be presented in the advanced topics section at the end of these notes.\n",
    "\n",
    "### np.genfromtxt\n",
    "\n",
    "np.genfromtxt is a function of the **numpy** module which takes an input file and generates a list or 2D array from this containing the information in that file.\n",
    "\n",
    "An example of how it is used is shown below. The file thaipass_data.txt **must** be in the same directory/folder as this notebook for this to work."
   ]
  },
  {
   "cell_type": "code",
   "execution_count": 51,
   "metadata": {},
   "outputs": [],
   "source": [
    "import numpy as np\n",
    "\n",
    "data = np.genfromtxt('thaipass_data.txt')"
   ]
  },
  {
   "cell_type": "markdown",
   "metadata": {},
   "source": [
    "Here, we have **imported** the numpy module as np and made an object data, which contains the data from the file thaipass_data.txt by using the function **genfromtxt**\n",
    "\n",
    "You can see what the data looks like below by typing data and executing the cell. You can also see the shape of the data by typing np.shape(data) using the numpy function **shape** on the object **data**"
   ]
  },
  {
   "cell_type": "code",
   "execution_count": null,
   "metadata": {},
   "outputs": [],
   "source": []
  },
  {
   "cell_type": "markdown",
   "metadata": {},
   "source": [
    "numpy also has a function which will allow you to save data to a file. This function is **np.savetxt**\n",
    "\n",
    "**Task:**\n",
    "\n",
    "In the cell bellow, use a **for** loop to evaluate the following expression between the values 0 < t < 6 in steps of 0.01:\n",
    "\n",
    "y = e$^{-\\gamma t}$a $\\cos[\\omega_1t-\\alpha]$\n",
    "\n",
    "where:\n",
    "\n",
    "$\\gamma$ = 1.4\n",
    "    \n",
    "a = 15\n",
    "    \n",
    "$\\alpha$ = 5\n",
    "\n",
    "$\\omega$ = 8.3\n",
    "\n",
    "Store your data in a variable named y, and the times you produce in a variable t."
   ]
  },
  {
   "cell_type": "code",
   "execution_count": 52,
   "metadata": {
    "tags": []
   },
   "outputs": [],
   "source": [
    "# compute y and t here. you can do this by starting with two empty arrays, y and t, and appending\n",
    "# your data to these in a loop.\n",
    "import numpy as np\n",
    "\n",
    "y = []\n",
    "t = []\n",
    "gamma = 1.4\n",
    "a = 15\n",
    "alpha = 5\n",
    "omega = 8.3\n",
    "maxT = 6\n",
    "minT = 0\n",
    "stepT = 0.01\n",
    "ti = minT + stepT\n",
    "\n",
    "while ti < maxT:\n",
    "    ti = ti + stepT\n",
    "    \n",
    "    t.append(ti)\n",
    "    yi = np.exp(-1*gamma*ti)*a*np.cos(omega*ti-alpha)\n",
    "    y.append(yi)\n",
    "    \n",
    "\n",
    "\n",
    "\n",
    "\n",
    "\n",
    "\n",
    "\n",
    "\n"
   ]
  },
  {
   "cell_type": "markdown",
   "metadata": {},
   "source": [
    "Now that you have some data, we can save this to a file so that we can use it in the future.\n",
    "\n",
    "To do this, we can use the np.savetxt function. We can see the arguments we can pass to the genfrom txt function by typing it below followed by a ?"
   ]
  },
  {
   "cell_type": "code",
   "execution_count": 53,
   "metadata": {},
   "outputs": [
    {
     "output_type": "stream",
     "text": [
      "\u001b[1;31mSignature:\u001b[0m\n",
      "\u001b[0mnp\u001b[0m\u001b[1;33m.\u001b[0m\u001b[0msavetxt\u001b[0m\u001b[1;33m(\u001b[0m\u001b[1;33m\n",
      "\u001b[0m    \u001b[0mfname\u001b[0m\u001b[1;33m,\u001b[0m\u001b[1;33m\n",
      "\u001b[0m    \u001b[0mX\u001b[0m\u001b[1;33m,\u001b[0m\u001b[1;33m\n",
      "\u001b[0m    \u001b[0mfmt\u001b[0m\u001b[1;33m=\u001b[0m\u001b[1;34m'%.18e'\u001b[0m\u001b[1;33m,\u001b[0m\u001b[1;33m\n",
      "\u001b[0m    \u001b[0mdelimiter\u001b[0m\u001b[1;33m=\u001b[0m\u001b[1;34m' '\u001b[0m\u001b[1;33m,\u001b[0m\u001b[1;33m\n",
      "\u001b[0m    \u001b[0mnewline\u001b[0m\u001b[1;33m=\u001b[0m\u001b[1;34m'\\n'\u001b[0m\u001b[1;33m,\u001b[0m\u001b[1;33m\n",
      "\u001b[0m    \u001b[0mheader\u001b[0m\u001b[1;33m=\u001b[0m\u001b[1;34m''\u001b[0m\u001b[1;33m,\u001b[0m\u001b[1;33m\n",
      "\u001b[0m    \u001b[0mfooter\u001b[0m\u001b[1;33m=\u001b[0m\u001b[1;34m''\u001b[0m\u001b[1;33m,\u001b[0m\u001b[1;33m\n",
      "\u001b[0m    \u001b[0mcomments\u001b[0m\u001b[1;33m=\u001b[0m\u001b[1;34m'# '\u001b[0m\u001b[1;33m,\u001b[0m\u001b[1;33m\n",
      "\u001b[0m    \u001b[0mencoding\u001b[0m\u001b[1;33m=\u001b[0m\u001b[1;32mNone\u001b[0m\u001b[1;33m,\u001b[0m\u001b[1;33m\n",
      "\u001b[0m\u001b[1;33m)\u001b[0m\u001b[1;33m\u001b[0m\u001b[1;33m\u001b[0m\u001b[0m\n",
      "\u001b[1;31mDocstring:\u001b[0m\n",
      "Save an array to a text file.\n",
      "\n",
      "Parameters\n",
      "----------\n",
      "fname : filename or file handle\n",
      "    If the filename ends in ``.gz``, the file is automatically saved in\n",
      "    compressed gzip format.  `loadtxt` understands gzipped files\n",
      "    transparently.\n",
      "X : 1D or 2D array_like\n",
      "    Data to be saved to a text file.\n",
      "fmt : str or sequence of strs, optional\n",
      "    A single format (%10.5f), a sequence of formats, or a\n",
      "    multi-format string, e.g. 'Iteration %d -- %10.5f', in which\n",
      "    case `delimiter` is ignored. For complex `X`, the legal options\n",
      "    for `fmt` are:\n",
      "\n",
      "    * a single specifier, `fmt='%.4e'`, resulting in numbers formatted\n",
      "      like `' (%s+%sj)' % (fmt, fmt)`\n",
      "    * a full string specifying every real and imaginary part, e.g.\n",
      "      `' %.4e %+.4ej %.4e %+.4ej %.4e %+.4ej'` for 3 columns\n",
      "    * a list of specifiers, one per column - in this case, the real\n",
      "      and imaginary part must have separate specifiers,\n",
      "      e.g. `['%.3e + %.3ej', '(%.15e%+.15ej)']` for 2 columns\n",
      "delimiter : str, optional\n",
      "    String or character separating columns.\n",
      "newline : str, optional\n",
      "    String or character separating lines.\n",
      "\n",
      "    .. versionadded:: 1.5.0\n",
      "header : str, optional\n",
      "    String that will be written at the beginning of the file.\n",
      "\n",
      "    .. versionadded:: 1.7.0\n",
      "footer : str, optional\n",
      "    String that will be written at the end of the file.\n",
      "\n",
      "    .. versionadded:: 1.7.0\n",
      "comments : str, optional\n",
      "    String that will be prepended to the ``header`` and ``footer`` strings,\n",
      "    to mark them as comments. Default: '# ',  as expected by e.g.\n",
      "    ``numpy.loadtxt``.\n",
      "\n",
      "    .. versionadded:: 1.7.0\n",
      "encoding : {None, str}, optional\n",
      "    Encoding used to encode the outputfile. Does not apply to output\n",
      "    streams. If the encoding is something other than 'bytes' or 'latin1'\n",
      "    you will not be able to load the file in NumPy versions < 1.14. Default\n",
      "    is 'latin1'.\n",
      "\n",
      "    .. versionadded:: 1.14.0\n",
      "\n",
      "\n",
      "See Also\n",
      "--------\n",
      "save : Save an array to a binary file in NumPy ``.npy`` format\n",
      "savez : Save several arrays into an uncompressed ``.npz`` archive\n",
      "savez_compressed : Save several arrays into a compressed ``.npz`` archive\n",
      "\n",
      "Notes\n",
      "-----\n",
      "Further explanation of the `fmt` parameter\n",
      "(``%[flag]width[.precision]specifier``):\n",
      "\n",
      "flags:\n",
      "    ``-`` : left justify\n",
      "\n",
      "    ``+`` : Forces to precede result with + or -.\n",
      "\n",
      "    ``0`` : Left pad the number with zeros instead of space (see width).\n",
      "\n",
      "width:\n",
      "    Minimum number of characters to be printed. The value is not truncated\n",
      "    if it has more characters.\n",
      "\n",
      "precision:\n",
      "    - For integer specifiers (eg. ``d,i,o,x``), the minimum number of\n",
      "      digits.\n",
      "    - For ``e, E`` and ``f`` specifiers, the number of digits to print\n",
      "      after the decimal point.\n",
      "    - For ``g`` and ``G``, the maximum number of significant digits.\n",
      "    - For ``s``, the maximum number of characters.\n",
      "\n",
      "specifiers:\n",
      "    ``c`` : character\n",
      "\n",
      "    ``d`` or ``i`` : signed decimal integer\n",
      "\n",
      "    ``e`` or ``E`` : scientific notation with ``e`` or ``E``.\n",
      "\n",
      "    ``f`` : decimal floating point\n",
      "\n",
      "    ``g,G`` : use the shorter of ``e,E`` or ``f``\n",
      "\n",
      "    ``o`` : signed octal\n",
      "\n",
      "    ``s`` : string of characters\n",
      "\n",
      "    ``u`` : unsigned decimal integer\n",
      "\n",
      "    ``x,X`` : unsigned hexadecimal integer\n",
      "\n",
      "This explanation of ``fmt`` is not complete, for an exhaustive\n",
      "specification see [1]_.\n",
      "\n",
      "References\n",
      "----------\n",
      ".. [1] `Format Specification Mini-Language\n",
      "       <https://docs.python.org/library/string.html#format-specification-mini-language>`_,\n",
      "       Python Documentation.\n",
      "\n",
      "Examples\n",
      "--------\n",
      ">>> x = y = z = np.arange(0.0,5.0,1.0)\n",
      ">>> np.savetxt('test.out', x, delimiter=',')   # X is an array\n",
      ">>> np.savetxt('test.out', (x,y,z))   # x,y,z equal sized 1D arrays\n",
      ">>> np.savetxt('test.out', x, fmt='%1.4e')   # use exponential notation\n",
      "\u001b[1;31mFile:\u001b[0m      c:\\users\\6200313\\appdata\\local\\programs\\python\\python39\\lib\\site-packages\\numpy\\lib\\npyio.py\n",
      "\u001b[1;31mType:\u001b[0m      function\n"
     ],
     "name": "stdout"
    }
   ],
   "source": [
    "np.savetxt?"
   ]
  },
  {
   "cell_type": "markdown",
   "metadata": {},
   "source": [
    "From this we can see that savetxt has two required arguments, *filename*, which must be a string - for instance 'thaipass_test.txt', and the data you are saving, which may be any of a number of python objects.\n",
    "\n",
    "The data which we pass to the savetxt function must be in a 1D array or a 2D array, which means, if we want to save our x,y data from the previous task in a file, we have to make it into a 2D array. This is easy with numpy, we can use the np.vstack function to turn the two 1D arrays into a 2D array\n"
   ]
  },
  {
   "cell_type": "code",
   "execution_count": 54,
   "metadata": {},
   "outputs": [
    {
     "output_type": "stream",
     "name": "stdout",
     "text": [
      "[[ 2.00000000e-02  3.00000000e-02  4.00000000e-02 ...  5.99000000e+00\n   6.00000000e+00  6.01000000e+00]\n [ 1.76942816e+00  5.55206123e-01 -6.29366043e-01 ...  2.53816113e-03\n   2.30679793e-03  2.06571558e-03]]\n"
     ]
    }
   ],
   "source": [
    "data = np.vstack((t,y))\n",
    "print(data)"
   ]
  },
  {
   "cell_type": "markdown",
   "metadata": {},
   "source": [
    "Here I have assumed the arrays you have created in the task above are called x and y, if they are not then you must change these in this cell in order for the vstack function to work.\n",
    "\n",
    "There are other default arguments for the savetxt function:\n",
    "\n",
    "delimiter - which tells the function what character to use to split up the items in your file\n",
    "\n",
    "header - which lets you add information on the content of the file\n",
    "\n",
    "comments - which specify what the comment character is for this file\n",
    "\n",
    "you will have to use these if you want to use the savetxt function correctly. For now though, we will use the savetxt function to save the data you have made to a file:\n",
    "\n",
    "**Task:**\n",
    "\n",
    "In the cell bellow, use the *savetxt* function to save your *data* to a file called damped_oscilator.txt (Remember - this should be a string)\n",
    "\n",
    "You may use the online savetxt documentation, to decide if you would like to include header information, a different delimiter or change other things about your saved file.\n",
    "\n",
    "https://docs.scipy.org/doc/numpy/reference/generated/numpy.savetxt.html"
   ]
  },
  {
   "cell_type": "code",
   "execution_count": 55,
   "metadata": {},
   "outputs": [],
   "source": [
    "np.savetxt('damped_oscilator.txt',data)"
   ]
  },
  {
   "cell_type": "markdown",
   "metadata": {},
   "source": [
    "This *should* save the data you have made to a file in the same directory as this notebook - have a look to see if it is there!\n",
    "\n",
    "It is possible to access files in other directories from the one that you are in, and to save to a different place too, but we will cover this in the lectures in October."
   ]
  },
  {
   "cell_type": "markdown",
   "metadata": {},
   "source": [
    "### Pandas\n",
    "\n"
   ]
  },
  {
   "cell_type": "markdown",
   "metadata": {},
   "source": [
    "Pandas is a module with many tools for handling data. You may find it easier to store and save text using the pandas module than the numpy text functions, as the pandas function can lable headers and columns for you. this may make working with data easier, but it may take more time to get used to the functions in pandas.\n",
    "\n",
    "The function for loading text in pandas is called read_csv (csv stands for comma separated variable).\n",
    "\n",
    "The pd.read_csv function has a lot of potential arguments, but the ones which are most important are the filepath_or_buffer and the delimiter, which are similar to those metioned in the genfromtxt section.\n",
    "\n",
    "The piece of code below performs the same task as the genfromtxt code above - loading the data from thaipass_data.txt - it's up to you which to use in the summer school!\n",
    "\n",
    "Here is a link to the read_csv documentation:\n",
    "\n",
    "https://pandas.pydata.org/pandas-docs/stable/generated/pandas.read_csv.html"
   ]
  },
  {
   "cell_type": "code",
   "execution_count": 26,
   "metadata": {},
   "outputs": [
    {
     "output_type": "error",
     "ename": "FileNotFoundError",
     "evalue": "[Errno 2] No such file or directory: 'thaipass_data.txt'",
     "traceback": [
      "\u001b[1;31m---------------------------------------------------------------------------\u001b[0m",
      "\u001b[1;31mFileNotFoundError\u001b[0m                         Traceback (most recent call last)",
      "\u001b[1;32m<ipython-input-26-99b7222b6154>\u001b[0m in \u001b[0;36m<module>\u001b[1;34m\u001b[0m\n\u001b[0;32m      2\u001b[0m \u001b[1;33m\u001b[0m\u001b[0m\n\u001b[0;32m      3\u001b[0m \u001b[1;33m\u001b[0m\u001b[0m\n\u001b[1;32m----> 4\u001b[1;33m \u001b[0mdata_2\u001b[0m \u001b[1;33m=\u001b[0m \u001b[0mpd\u001b[0m\u001b[1;33m.\u001b[0m\u001b[0mread_csv\u001b[0m\u001b[1;33m(\u001b[0m\u001b[1;34m'thaipass_data.txt'\u001b[0m\u001b[1;33m)\u001b[0m\u001b[1;33m\u001b[0m\u001b[1;33m\u001b[0m\u001b[0m\n\u001b[0m",
      "\u001b[1;32m~\\AppData\\Local\\Programs\\Python\\Python39\\lib\\site-packages\\pandas\\io\\parsers.py\u001b[0m in \u001b[0;36mread_csv\u001b[1;34m(filepath_or_buffer, sep, delimiter, header, names, index_col, usecols, squeeze, prefix, mangle_dupe_cols, dtype, engine, converters, true_values, false_values, skipinitialspace, skiprows, skipfooter, nrows, na_values, keep_default_na, na_filter, verbose, skip_blank_lines, parse_dates, infer_datetime_format, keep_date_col, date_parser, dayfirst, cache_dates, iterator, chunksize, compression, thousands, decimal, lineterminator, quotechar, quoting, doublequote, escapechar, comment, encoding, dialect, error_bad_lines, warn_bad_lines, delim_whitespace, low_memory, memory_map, float_precision)\u001b[0m\n\u001b[0;32m    684\u001b[0m     )\n\u001b[0;32m    685\u001b[0m \u001b[1;33m\u001b[0m\u001b[0m\n\u001b[1;32m--> 686\u001b[1;33m     \u001b[1;32mreturn\u001b[0m \u001b[0m_read\u001b[0m\u001b[1;33m(\u001b[0m\u001b[0mfilepath_or_buffer\u001b[0m\u001b[1;33m,\u001b[0m \u001b[0mkwds\u001b[0m\u001b[1;33m)\u001b[0m\u001b[1;33m\u001b[0m\u001b[1;33m\u001b[0m\u001b[0m\n\u001b[0m\u001b[0;32m    687\u001b[0m \u001b[1;33m\u001b[0m\u001b[0m\n\u001b[0;32m    688\u001b[0m \u001b[1;33m\u001b[0m\u001b[0m\n",
      "\u001b[1;32m~\\AppData\\Local\\Programs\\Python\\Python39\\lib\\site-packages\\pandas\\io\\parsers.py\u001b[0m in \u001b[0;36m_read\u001b[1;34m(filepath_or_buffer, kwds)\u001b[0m\n\u001b[0;32m    450\u001b[0m \u001b[1;33m\u001b[0m\u001b[0m\n\u001b[0;32m    451\u001b[0m     \u001b[1;31m# Create the parser.\u001b[0m\u001b[1;33m\u001b[0m\u001b[1;33m\u001b[0m\u001b[1;33m\u001b[0m\u001b[0m\n\u001b[1;32m--> 452\u001b[1;33m     \u001b[0mparser\u001b[0m \u001b[1;33m=\u001b[0m \u001b[0mTextFileReader\u001b[0m\u001b[1;33m(\u001b[0m\u001b[0mfp_or_buf\u001b[0m\u001b[1;33m,\u001b[0m \u001b[1;33m**\u001b[0m\u001b[0mkwds\u001b[0m\u001b[1;33m)\u001b[0m\u001b[1;33m\u001b[0m\u001b[1;33m\u001b[0m\u001b[0m\n\u001b[0m\u001b[0;32m    453\u001b[0m \u001b[1;33m\u001b[0m\u001b[0m\n\u001b[0;32m    454\u001b[0m     \u001b[1;32mif\u001b[0m \u001b[0mchunksize\u001b[0m \u001b[1;32mor\u001b[0m \u001b[0miterator\u001b[0m\u001b[1;33m:\u001b[0m\u001b[1;33m\u001b[0m\u001b[1;33m\u001b[0m\u001b[0m\n",
      "\u001b[1;32m~\\AppData\\Local\\Programs\\Python\\Python39\\lib\\site-packages\\pandas\\io\\parsers.py\u001b[0m in \u001b[0;36m__init__\u001b[1;34m(self, f, engine, **kwds)\u001b[0m\n\u001b[0;32m    944\u001b[0m             \u001b[0mself\u001b[0m\u001b[1;33m.\u001b[0m\u001b[0moptions\u001b[0m\u001b[1;33m[\u001b[0m\u001b[1;34m\"has_index_names\"\u001b[0m\u001b[1;33m]\u001b[0m \u001b[1;33m=\u001b[0m \u001b[0mkwds\u001b[0m\u001b[1;33m[\u001b[0m\u001b[1;34m\"has_index_names\"\u001b[0m\u001b[1;33m]\u001b[0m\u001b[1;33m\u001b[0m\u001b[1;33m\u001b[0m\u001b[0m\n\u001b[0;32m    945\u001b[0m \u001b[1;33m\u001b[0m\u001b[0m\n\u001b[1;32m--> 946\u001b[1;33m         \u001b[0mself\u001b[0m\u001b[1;33m.\u001b[0m\u001b[0m_make_engine\u001b[0m\u001b[1;33m(\u001b[0m\u001b[0mself\u001b[0m\u001b[1;33m.\u001b[0m\u001b[0mengine\u001b[0m\u001b[1;33m)\u001b[0m\u001b[1;33m\u001b[0m\u001b[1;33m\u001b[0m\u001b[0m\n\u001b[0m\u001b[0;32m    947\u001b[0m \u001b[1;33m\u001b[0m\u001b[0m\n\u001b[0;32m    948\u001b[0m     \u001b[1;32mdef\u001b[0m \u001b[0mclose\u001b[0m\u001b[1;33m(\u001b[0m\u001b[0mself\u001b[0m\u001b[1;33m)\u001b[0m\u001b[1;33m:\u001b[0m\u001b[1;33m\u001b[0m\u001b[1;33m\u001b[0m\u001b[0m\n",
      "\u001b[1;32m~\\AppData\\Local\\Programs\\Python\\Python39\\lib\\site-packages\\pandas\\io\\parsers.py\u001b[0m in \u001b[0;36m_make_engine\u001b[1;34m(self, engine)\u001b[0m\n\u001b[0;32m   1176\u001b[0m     \u001b[1;32mdef\u001b[0m \u001b[0m_make_engine\u001b[0m\u001b[1;33m(\u001b[0m\u001b[0mself\u001b[0m\u001b[1;33m,\u001b[0m \u001b[0mengine\u001b[0m\u001b[1;33m=\u001b[0m\u001b[1;34m\"c\"\u001b[0m\u001b[1;33m)\u001b[0m\u001b[1;33m:\u001b[0m\u001b[1;33m\u001b[0m\u001b[1;33m\u001b[0m\u001b[0m\n\u001b[0;32m   1177\u001b[0m         \u001b[1;32mif\u001b[0m \u001b[0mengine\u001b[0m \u001b[1;33m==\u001b[0m \u001b[1;34m\"c\"\u001b[0m\u001b[1;33m:\u001b[0m\u001b[1;33m\u001b[0m\u001b[1;33m\u001b[0m\u001b[0m\n\u001b[1;32m-> 1178\u001b[1;33m             \u001b[0mself\u001b[0m\u001b[1;33m.\u001b[0m\u001b[0m_engine\u001b[0m \u001b[1;33m=\u001b[0m \u001b[0mCParserWrapper\u001b[0m\u001b[1;33m(\u001b[0m\u001b[0mself\u001b[0m\u001b[1;33m.\u001b[0m\u001b[0mf\u001b[0m\u001b[1;33m,\u001b[0m \u001b[1;33m**\u001b[0m\u001b[0mself\u001b[0m\u001b[1;33m.\u001b[0m\u001b[0moptions\u001b[0m\u001b[1;33m)\u001b[0m\u001b[1;33m\u001b[0m\u001b[1;33m\u001b[0m\u001b[0m\n\u001b[0m\u001b[0;32m   1179\u001b[0m         \u001b[1;32melse\u001b[0m\u001b[1;33m:\u001b[0m\u001b[1;33m\u001b[0m\u001b[1;33m\u001b[0m\u001b[0m\n\u001b[0;32m   1180\u001b[0m             \u001b[1;32mif\u001b[0m \u001b[0mengine\u001b[0m \u001b[1;33m==\u001b[0m \u001b[1;34m\"python\"\u001b[0m\u001b[1;33m:\u001b[0m\u001b[1;33m\u001b[0m\u001b[1;33m\u001b[0m\u001b[0m\n",
      "\u001b[1;32m~\\AppData\\Local\\Programs\\Python\\Python39\\lib\\site-packages\\pandas\\io\\parsers.py\u001b[0m in \u001b[0;36m__init__\u001b[1;34m(self, src, **kwds)\u001b[0m\n\u001b[0;32m   2006\u001b[0m         \u001b[0mkwds\u001b[0m\u001b[1;33m[\u001b[0m\u001b[1;34m\"usecols\"\u001b[0m\u001b[1;33m]\u001b[0m \u001b[1;33m=\u001b[0m \u001b[0mself\u001b[0m\u001b[1;33m.\u001b[0m\u001b[0musecols\u001b[0m\u001b[1;33m\u001b[0m\u001b[1;33m\u001b[0m\u001b[0m\n\u001b[0;32m   2007\u001b[0m \u001b[1;33m\u001b[0m\u001b[0m\n\u001b[1;32m-> 2008\u001b[1;33m         \u001b[0mself\u001b[0m\u001b[1;33m.\u001b[0m\u001b[0m_reader\u001b[0m \u001b[1;33m=\u001b[0m \u001b[0mparsers\u001b[0m\u001b[1;33m.\u001b[0m\u001b[0mTextReader\u001b[0m\u001b[1;33m(\u001b[0m\u001b[0msrc\u001b[0m\u001b[1;33m,\u001b[0m \u001b[1;33m**\u001b[0m\u001b[0mkwds\u001b[0m\u001b[1;33m)\u001b[0m\u001b[1;33m\u001b[0m\u001b[1;33m\u001b[0m\u001b[0m\n\u001b[0m\u001b[0;32m   2009\u001b[0m         \u001b[0mself\u001b[0m\u001b[1;33m.\u001b[0m\u001b[0munnamed_cols\u001b[0m \u001b[1;33m=\u001b[0m \u001b[0mself\u001b[0m\u001b[1;33m.\u001b[0m\u001b[0m_reader\u001b[0m\u001b[1;33m.\u001b[0m\u001b[0munnamed_cols\u001b[0m\u001b[1;33m\u001b[0m\u001b[1;33m\u001b[0m\u001b[0m\n\u001b[0;32m   2010\u001b[0m \u001b[1;33m\u001b[0m\u001b[0m\n",
      "\u001b[1;32mpandas\\_libs\\parsers.pyx\u001b[0m in \u001b[0;36mpandas._libs.parsers.TextReader.__cinit__\u001b[1;34m()\u001b[0m\n",
      "\u001b[1;32mpandas\\_libs\\parsers.pyx\u001b[0m in \u001b[0;36mpandas._libs.parsers.TextReader._setup_parser_source\u001b[1;34m()\u001b[0m\n",
      "\u001b[1;31mFileNotFoundError\u001b[0m: [Errno 2] No such file or directory: 'thaipass_data.txt'"
     ]
    }
   ],
   "source": [
    "import pandas as pd\n",
    "\n",
    "\n",
    "data_2 = pd.read_csv('thaipass_data.txt')"
   ]
  },
  {
   "cell_type": "markdown",
   "metadata": {},
   "source": [
    "The pandas equivalent of np.savetxt is in the DataFrame module of pandas, we can make an instance of it like this:"
   ]
  },
  {
   "cell_type": "code",
   "execution_count": null,
   "metadata": {},
   "outputs": [],
   "source": [
    "list_one = [0,1,5,4,7,5,8,2,1]\n",
    "df = pd.DataFrame(list_one)\n",
    "df.to_csv('thaipass_test_2')"
   ]
  },
  {
   "cell_type": "markdown",
   "metadata": {},
   "source": [
    "Here we have made an object df which is a DataFrame object, containing the data in list one, then we have used the *to_csv* method of that object to save the data to a file thaipass_test_2. when you execute this cell, this file should appear in the directory."
   ]
  },
  {
   "cell_type": "markdown",
   "metadata": {},
   "source": [
    "### Plotting\n",
    "\n",
    "Making, storing and using data is important in astronomy and science, but we must also be abe to present our data to other people. Python has a module - matplotlib - which lets us to do this very well.\n",
    "\n",
    "We give an introduction to these tools here in these notes, but to understand how to use these tools properly practice is important.\n",
    "\n",
    "**matplotlib** is a module containing other modules, the one we will be using is **pyplot**\n",
    "\n",
    "to use this, we use the following line of code"
   ]
  },
  {
   "cell_type": "code",
   "execution_count": 21,
   "metadata": {},
   "outputs": [],
   "source": [
    "import matplotlib.pyplot as plt"
   ]
  },
  {
   "cell_type": "markdown",
   "metadata": {},
   "source": [
    "This has imported the **pyplot** module as plt (this is standard practice in astronomy and data science).\n",
    "\n",
    "**pyplot** has many different types of plot available - scatter plots, histograms, 2D histograms, heatmaps, boxplots and others. They take different types of python **objects** depending on the type of plot.\n",
    "\n",
    "A scatter plot takes two 1 dimensional arrays. We can produce a scatter plot but first generating some data"
   ]
  },
  {
   "cell_type": "code",
   "execution_count": 22,
   "metadata": {},
   "outputs": [],
   "source": [
    "x_vals = []\n",
    "y_vals = []\n",
    "for i in range(0,100):\n",
    "    x_vals.append(np.random.randint(0,100))\n",
    "    y_vals.append(np.random.randint(0,500))\n",
    "\n"
   ]
  },
  {
   "cell_type": "markdown",
   "metadata": {},
   "source": [
    "Here we have used the random function in numpy to produce two lists of random numbers. We can plot these in a scatter graph, shown below:"
   ]
  },
  {
   "cell_type": "code",
   "execution_count": 23,
   "metadata": {},
   "outputs": [
    {
     "output_type": "display_data",
     "data": {
      "text/plain": "<Figure size 432x288 with 1 Axes>",
      "image/svg+xml": "<?xml version=\"1.0\" encoding=\"utf-8\" standalone=\"no\"?>\r\n<!DOCTYPE svg PUBLIC \"-//W3C//DTD SVG 1.1//EN\"\r\n  \"http://www.w3.org/Graphics/SVG/1.1/DTD/svg11.dtd\">\r\n<!-- Created with matplotlib (https://matplotlib.org/) -->\r\n<svg height=\"248.518125pt\" version=\"1.1\" viewBox=\"0 0 375.2875 248.518125\" width=\"375.2875pt\" xmlns=\"http://www.w3.org/2000/svg\" xmlns:xlink=\"http://www.w3.org/1999/xlink\">\r\n <metadata>\r\n  <rdf:RDF xmlns:cc=\"http://creativecommons.org/ns#\" xmlns:dc=\"http://purl.org/dc/elements/1.1/\" xmlns:rdf=\"http://www.w3.org/1999/02/22-rdf-syntax-ns#\">\r\n   <cc:Work>\r\n    <dc:type rdf:resource=\"http://purl.org/dc/dcmitype/StillImage\"/>\r\n    <dc:date>2021-03-20T03:10:02.694588</dc:date>\r\n    <dc:format>image/svg+xml</dc:format>\r\n    <dc:creator>\r\n     <cc:Agent>\r\n      <dc:title>Matplotlib v3.3.4, https://matplotlib.org/</dc:title>\r\n     </cc:Agent>\r\n    </dc:creator>\r\n   </cc:Work>\r\n  </rdf:RDF>\r\n </metadata>\r\n <defs>\r\n  <style type=\"text/css\">*{stroke-linecap:butt;stroke-linejoin:round;}</style>\r\n </defs>\r\n <g id=\"figure_1\">\r\n  <g id=\"patch_1\">\r\n   <path d=\"M 0 248.518125 \r\nL 375.2875 248.518125 \r\nL 375.2875 0 \r\nL 0 0 \r\nz\r\n\" style=\"fill:none;\"/>\r\n  </g>\r\n  <g id=\"axes_1\">\r\n   <g id=\"patch_2\">\r\n    <path d=\"M 33.2875 224.64 \r\nL 368.0875 224.64 \r\nL 368.0875 7.2 \r\nL 33.2875 7.2 \r\nz\r\n\" style=\"fill:#ffffff;\"/>\r\n   </g>\r\n   <g id=\"PathCollection_1\">\r\n    <defs>\r\n     <path d=\"M 0 3 \r\nC 0.795609 3 1.55874 2.683901 2.12132 2.12132 \r\nC 2.683901 1.55874 3 0.795609 3 0 \r\nC 3 -0.795609 2.683901 -1.55874 2.12132 -2.12132 \r\nC 1.55874 -2.683901 0.795609 -3 0 -3 \r\nC -0.795609 -3 -1.55874 -2.683901 -2.12132 -2.12132 \r\nC -2.683901 -1.55874 -3 -0.795609 -3 0 \r\nC -3 0.795609 -2.683901 1.55874 -2.12132 2.12132 \r\nC -1.55874 2.683901 -0.795609 3 0 3 \r\nz\r\n\" id=\"m91a5d04e1b\" style=\"stroke:#1f77b4;\"/>\r\n    </defs>\r\n    <g clip-path=\"url(#p6577a063bf)\">\r\n     <use style=\"fill:#1f77b4;stroke:#1f77b4;\" x=\"229.894112\" xlink:href=\"#m91a5d04e1b\" y=\"89.038126\"/>\r\n     <use style=\"fill:#1f77b4;stroke:#1f77b4;\" x=\"291.381715\" xlink:href=\"#m91a5d04e1b\" y=\"60.741417\"/>\r\n     <use style=\"fill:#1f77b4;stroke:#1f77b4;\" x=\"70.026343\" xlink:href=\"#m91a5d04e1b\" y=\"185.651177\"/>\r\n     <use style=\"fill:#1f77b4;stroke:#1f77b4;\" x=\"106.918905\" xlink:href=\"#m91a5d04e1b\" y=\"63.571088\"/>\r\n     <use style=\"fill:#1f77b4;stroke:#1f77b4;\" x=\"239.117252\" xlink:href=\"#m91a5d04e1b\" y=\"133.100145\"/>\r\n     <use style=\"fill:#1f77b4;stroke:#1f77b4;\" x=\"328.274277\" xlink:href=\"#m91a5d04e1b\" y=\"118.547552\"/>\r\n     <use style=\"fill:#1f77b4;stroke:#1f77b4;\" x=\"328.274277\" xlink:href=\"#m91a5d04e1b\" y=\"18.700591\"/>\r\n     <use style=\"fill:#1f77b4;stroke:#1f77b4;\" x=\"162.257748\" xlink:href=\"#m91a5d04e1b\" y=\"106.016152\"/>\r\n     <use style=\"fill:#1f77b4;stroke:#1f77b4;\" x=\"116.142045\" xlink:href=\"#m91a5d04e1b\" y=\"201.012248\"/>\r\n     <use style=\"fill:#1f77b4;stroke:#1f77b4;\" x=\"248.340393\" xlink:href=\"#m91a5d04e1b\" y=\"94.293229\"/>\r\n     <use style=\"fill:#1f77b4;stroke:#1f77b4;\" x=\"340.571798\" xlink:href=\"#m91a5d04e1b\" y=\"25.572649\"/>\r\n     <use style=\"fill:#1f77b4;stroke:#1f77b4;\" x=\"239.117252\" xlink:href=\"#m91a5d04e1b\" y=\"175.949448\"/>\r\n     <use style=\"fill:#1f77b4;stroke:#1f77b4;\" x=\"312.902376\" xlink:href=\"#m91a5d04e1b\" y=\"103.186481\"/>\r\n     <use style=\"fill:#1f77b4;stroke:#1f77b4;\" x=\"149.960227\" xlink:href=\"#m91a5d04e1b\" y=\"17.487875\"/>\r\n     <use style=\"fill:#1f77b4;stroke:#1f77b4;\" x=\"103.844525\" xlink:href=\"#m91a5d04e1b\" y=\"188.480848\"/>\r\n     <use style=\"fill:#1f77b4;stroke:#1f77b4;\" x=\"248.340393\" xlink:href=\"#m91a5d04e1b\" y=\"152.907842\"/>\r\n     <use style=\"fill:#1f77b4;stroke:#1f77b4;\" x=\"122.290806\" xlink:href=\"#m91a5d04e1b\" y=\"168.673151\"/>\r\n     <use style=\"fill:#1f77b4;stroke:#1f77b4;\" x=\"109.993285\" xlink:href=\"#m91a5d04e1b\" y=\"34.870139\"/>\r\n     <use style=\"fill:#1f77b4;stroke:#1f77b4;\" x=\"199.15031\" xlink:href=\"#m91a5d04e1b\" y=\"45.380346\"/>\r\n     <use style=\"fill:#1f77b4;stroke:#1f77b4;\" x=\"91.547004\" xlink:href=\"#m91a5d04e1b\" y=\"91.05932\"/>\r\n     <use style=\"fill:#1f77b4;stroke:#1f77b4;\" x=\"309.827996\" xlink:href=\"#m91a5d04e1b\" y=\"90.250842\"/>\r\n     <use style=\"fill:#1f77b4;stroke:#1f77b4;\" x=\"54.654442\" xlink:href=\"#m91a5d04e1b\" y=\"214.756364\"/>\r\n     <use style=\"fill:#1f77b4;stroke:#1f77b4;\" x=\"239.117252\" xlink:href=\"#m91a5d04e1b\" y=\"135.929816\"/>\r\n     <use style=\"fill:#1f77b4;stroke:#1f77b4;\" x=\"309.827996\" xlink:href=\"#m91a5d04e1b\" y=\"165.035003\"/>\r\n     <use style=\"fill:#1f77b4;stroke:#1f77b4;\" x=\"331.348657\" xlink:href=\"#m91a5d04e1b\" y=\"17.083636\"/>\r\n     <use style=\"fill:#1f77b4;stroke:#1f77b4;\" x=\"352.869318\" xlink:href=\"#m91a5d04e1b\" y=\"162.609571\"/>\r\n     <use style=\"fill:#1f77b4;stroke:#1f77b4;\" x=\"146.885847\" xlink:href=\"#m91a5d04e1b\" y=\"53.869359\"/>\r\n     <use style=\"fill:#1f77b4;stroke:#1f77b4;\" x=\"66.951963\" xlink:href=\"#m91a5d04e1b\" y=\"59.124462\"/>\r\n     <use style=\"fill:#1f77b4;stroke:#1f77b4;\" x=\"106.918905\" xlink:href=\"#m91a5d04e1b\" y=\"38.912526\"/>\r\n     <use style=\"fill:#1f77b4;stroke:#1f77b4;\" x=\"131.513946\" xlink:href=\"#m91a5d04e1b\" y=\"20.317546\"/>\r\n     <use style=\"fill:#1f77b4;stroke:#1f77b4;\" x=\"149.960227\" xlink:href=\"#m91a5d04e1b\" y=\"40.529481\"/>\r\n     <use style=\"fill:#1f77b4;stroke:#1f77b4;\" x=\"346.720558\" xlink:href=\"#m91a5d04e1b\" y=\"74.081294\"/>\r\n     <use style=\"fill:#1f77b4;stroke:#1f77b4;\" x=\"165.332128\" xlink:href=\"#m91a5d04e1b\" y=\"66.400759\"/>\r\n     <use style=\"fill:#1f77b4;stroke:#1f77b4;\" x=\"245.266012\" xlink:href=\"#m91a5d04e1b\" y=\"196.969861\"/>\r\n     <use style=\"fill:#1f77b4;stroke:#1f77b4;\" x=\"109.993285\" xlink:href=\"#m91a5d04e1b\" y=\"145.227306\"/>\r\n     <use style=\"fill:#1f77b4;stroke:#1f77b4;\" x=\"189.927169\" xlink:href=\"#m91a5d04e1b\" y=\"29.210798\"/>\r\n     <use style=\"fill:#1f77b4;stroke:#1f77b4;\" x=\"279.084194\" xlink:href=\"#m91a5d04e1b\" y=\"103.590719\"/>\r\n     <use style=\"fill:#1f77b4;stroke:#1f77b4;\" x=\"282.158574\" xlink:href=\"#m91a5d04e1b\" y=\"184.034222\"/>\r\n     <use style=\"fill:#1f77b4;stroke:#1f77b4;\" x=\"331.348657\" xlink:href=\"#m91a5d04e1b\" y=\"43.763391\"/>\r\n     <use style=\"fill:#1f77b4;stroke:#1f77b4;\" x=\"137.662707\" xlink:href=\"#m91a5d04e1b\" y=\"65.188042\"/>\r\n     <use style=\"fill:#1f77b4;stroke:#1f77b4;\" x=\"63.877583\" xlink:href=\"#m91a5d04e1b\" y=\"74.081294\"/>\r\n     <use style=\"fill:#1f77b4;stroke:#1f77b4;\" x=\"205.29907\" xlink:href=\"#m91a5d04e1b\" y=\"210.309738\"/>\r\n     <use style=\"fill:#1f77b4;stroke:#1f77b4;\" x=\"48.505682\" xlink:href=\"#m91a5d04e1b\" y=\"129.057758\"/>\r\n     <use style=\"fill:#1f77b4;stroke:#1f77b4;\" x=\"66.951963\" xlink:href=\"#m91a5d04e1b\" y=\"133.100145\"/>\r\n     <use style=\"fill:#1f77b4;stroke:#1f77b4;\" x=\"73.100723\" xlink:href=\"#m91a5d04e1b\" y=\"126.632326\"/>\r\n     <use style=\"fill:#1f77b4;stroke:#1f77b4;\" x=\"91.547004\" xlink:href=\"#m91a5d04e1b\" y=\"184.438461\"/>\r\n     <use style=\"fill:#1f77b4;stroke:#1f77b4;\" x=\"73.100723\" xlink:href=\"#m91a5d04e1b\" y=\"74.485533\"/>\r\n     <use style=\"fill:#1f77b4;stroke:#1f77b4;\" x=\"153.034607\" xlink:href=\"#m91a5d04e1b\" y=\"99.144094\"/>\r\n     <use style=\"fill:#1f77b4;stroke:#1f77b4;\" x=\"325.199897\" xlink:href=\"#m91a5d04e1b\" y=\"121.377223\"/>\r\n     <use style=\"fill:#1f77b4;stroke:#1f77b4;\" x=\"113.067665\" xlink:href=\"#m91a5d04e1b\" y=\"173.119777\"/>\r\n     <use style=\"fill:#1f77b4;stroke:#1f77b4;\" x=\"159.183368\" xlink:href=\"#m91a5d04e1b\" y=\"100.761049\"/>\r\n     <use style=\"fill:#1f77b4;stroke:#1f77b4;\" x=\"306.753616\" xlink:href=\"#m91a5d04e1b\" y=\"25.16841\"/>\r\n     <use style=\"fill:#1f77b4;stroke:#1f77b4;\" x=\"254.489153\" xlink:href=\"#m91a5d04e1b\" y=\"150.886648\"/>\r\n     <use style=\"fill:#1f77b4;stroke:#1f77b4;\" x=\"202.22469\" xlink:href=\"#m91a5d04e1b\" y=\"171.502822\"/>\r\n     <use style=\"fill:#1f77b4;stroke:#1f77b4;\" x=\"57.728822\" xlink:href=\"#m91a5d04e1b\" y=\"51.848165\"/>\r\n     <use style=\"fill:#1f77b4;stroke:#1f77b4;\" x=\"232.968492\" xlink:href=\"#m91a5d04e1b\" y=\"97.1229\"/>\r\n     <use style=\"fill:#1f77b4;stroke:#1f77b4;\" x=\"168.406508\" xlink:href=\"#m91a5d04e1b\" y=\"78.52792\"/>\r\n     <use style=\"fill:#1f77b4;stroke:#1f77b4;\" x=\"186.852789\" xlink:href=\"#m91a5d04e1b\" y=\"183.629983\"/>\r\n     <use style=\"fill:#1f77b4;stroke:#1f77b4;\" x=\"346.720558\" xlink:href=\"#m91a5d04e1b\" y=\"67.209236\"/>\r\n     <use style=\"fill:#1f77b4;stroke:#1f77b4;\" x=\"85.398244\" xlink:href=\"#m91a5d04e1b\" y=\"47.401539\"/>\r\n     <use style=\"fill:#1f77b4;stroke:#1f77b4;\" x=\"143.811467\" xlink:href=\"#m91a5d04e1b\" y=\"39.316765\"/>\r\n     <use style=\"fill:#1f77b4;stroke:#1f77b4;\" x=\"325.199897\" xlink:href=\"#m91a5d04e1b\" y=\"34.870139\"/>\r\n     <use style=\"fill:#1f77b4;stroke:#1f77b4;\" x=\"180.704029\" xlink:href=\"#m91a5d04e1b\" y=\"152.503603\"/>\r\n     <use style=\"fill:#1f77b4;stroke:#1f77b4;\" x=\"217.596591\" xlink:href=\"#m91a5d04e1b\" y=\"21.934501\"/>\r\n     <use style=\"fill:#1f77b4;stroke:#1f77b4;\" x=\"79.249483\" xlink:href=\"#m91a5d04e1b\" y=\"190.502041\"/>\r\n     <use style=\"fill:#1f77b4;stroke:#1f77b4;\" x=\"63.877583\" xlink:href=\"#m91a5d04e1b\" y=\"183.629983\"/>\r\n     <use style=\"fill:#1f77b4;stroke:#1f77b4;\" x=\"315.976756\" xlink:href=\"#m91a5d04e1b\" y=\"20.721785\"/>\r\n     <use style=\"fill:#1f77b4;stroke:#1f77b4;\" x=\"352.869318\" xlink:href=\"#m91a5d04e1b\" y=\"77.315204\"/>\r\n     <use style=\"fill:#1f77b4;stroke:#1f77b4;\" x=\"159.183368\" xlink:href=\"#m91a5d04e1b\" y=\"28.806559\"/>\r\n     <use style=\"fill:#1f77b4;stroke:#1f77b4;\" x=\"272.935434\" xlink:href=\"#m91a5d04e1b\" y=\"142.397635\"/>\r\n     <use style=\"fill:#1f77b4;stroke:#1f77b4;\" x=\"319.051136\" xlink:href=\"#m91a5d04e1b\" y=\"40.529481\"/>\r\n     <use style=\"fill:#1f77b4;stroke:#1f77b4;\" x=\"242.191632\" xlink:href=\"#m91a5d04e1b\" y=\"59.932939\"/>\r\n     <use style=\"fill:#1f77b4;stroke:#1f77b4;\" x=\"205.29907\" xlink:href=\"#m91a5d04e1b\" y=\"51.443926\"/>\r\n     <use style=\"fill:#1f77b4;stroke:#1f77b4;\" x=\"106.918905\" xlink:href=\"#m91a5d04e1b\" y=\"88.633887\"/>\r\n     <use style=\"fill:#1f77b4;stroke:#1f77b4;\" x=\"220.670971\" xlink:href=\"#m91a5d04e1b\" y=\"53.869359\"/>\r\n     <use style=\"fill:#1f77b4;stroke:#1f77b4;\" x=\"208.37345\" xlink:href=\"#m91a5d04e1b\" y=\"22.742978\"/>\r\n     <use style=\"fill:#1f77b4;stroke:#1f77b4;\" x=\"137.662707\" xlink:href=\"#m91a5d04e1b\" y=\"91.05932\"/>\r\n     <use style=\"fill:#1f77b4;stroke:#1f77b4;\" x=\"232.968492\" xlink:href=\"#m91a5d04e1b\" y=\"207.075828\"/>\r\n     <use style=\"fill:#1f77b4;stroke:#1f77b4;\" x=\"236.042872\" xlink:href=\"#m91a5d04e1b\" y=\"67.613475\"/>\r\n     <use style=\"fill:#1f77b4;stroke:#1f77b4;\" x=\"131.513946\" xlink:href=\"#m91a5d04e1b\" y=\"133.504384\"/>\r\n     <use style=\"fill:#1f77b4;stroke:#1f77b4;\" x=\"119.216426\" xlink:href=\"#m91a5d04e1b\" y=\"163.418048\"/>\r\n     <use style=\"fill:#1f77b4;stroke:#1f77b4;\" x=\"257.563533\" xlink:href=\"#m91a5d04e1b\" y=\"152.907842\"/>\r\n     <use style=\"fill:#1f77b4;stroke:#1f77b4;\" x=\"125.365186\" xlink:href=\"#m91a5d04e1b\" y=\"106.016152\"/>\r\n     <use style=\"fill:#1f77b4;stroke:#1f77b4;\" x=\"159.183368\" xlink:href=\"#m91a5d04e1b\" y=\"59.932939\"/>\r\n     <use style=\"fill:#1f77b4;stroke:#1f77b4;\" x=\"303.679236\" xlink:href=\"#m91a5d04e1b\" y=\"201.820725\"/>\r\n     <use style=\"fill:#1f77b4;stroke:#1f77b4;\" x=\"282.158574\" xlink:href=\"#m91a5d04e1b\" y=\"62.358371\"/>\r\n     <use style=\"fill:#1f77b4;stroke:#1f77b4;\" x=\"73.100723\" xlink:href=\"#m91a5d04e1b\" y=\"73.677055\"/>\r\n     <use style=\"fill:#1f77b4;stroke:#1f77b4;\" x=\"279.084194\" xlink:href=\"#m91a5d04e1b\" y=\"184.842699\"/>\r\n     <use style=\"fill:#1f77b4;stroke:#1f77b4;\" x=\"149.960227\" xlink:href=\"#m91a5d04e1b\" y=\"196.565622\"/>\r\n     <use style=\"fill:#1f77b4;stroke:#1f77b4;\" x=\"297.530475\" xlink:href=\"#m91a5d04e1b\" y=\"146.844261\"/>\r\n     <use style=\"fill:#1f77b4;stroke:#1f77b4;\" x=\"325.199897\" xlink:href=\"#m91a5d04e1b\" y=\"181.60879\"/>\r\n     <use style=\"fill:#1f77b4;stroke:#1f77b4;\" x=\"223.745351\" xlink:href=\"#m91a5d04e1b\" y=\"207.480067\"/>\r\n     <use style=\"fill:#1f77b4;stroke:#1f77b4;\" x=\"300.604855\" xlink:href=\"#m91a5d04e1b\" y=\"86.612694\"/>\r\n     <use style=\"fill:#1f77b4;stroke:#1f77b4;\" x=\"263.712293\" xlink:href=\"#m91a5d04e1b\" y=\"49.018494\"/>\r\n     <use style=\"fill:#1f77b4;stroke:#1f77b4;\" x=\"236.042872\" xlink:href=\"#m91a5d04e1b\" y=\"177.970641\"/>\r\n     <use style=\"fill:#1f77b4;stroke:#1f77b4;\" x=\"285.232955\" xlink:href=\"#m91a5d04e1b\" y=\"60.337178\"/>\r\n     <use style=\"fill:#1f77b4;stroke:#1f77b4;\" x=\"122.290806\" xlink:href=\"#m91a5d04e1b\" y=\"198.991054\"/>\r\n     <use style=\"fill:#1f77b4;stroke:#1f77b4;\" x=\"180.704029\" xlink:href=\"#m91a5d04e1b\" y=\"160.992616\"/>\r\n     <use style=\"fill:#1f77b4;stroke:#1f77b4;\" x=\"220.670971\" xlink:href=\"#m91a5d04e1b\" y=\"162.205332\"/>\r\n     <use style=\"fill:#1f77b4;stroke:#1f77b4;\" x=\"79.249483\" xlink:href=\"#m91a5d04e1b\" y=\"184.842699\"/>\r\n    </g>\r\n   </g>\r\n   <g id=\"matplotlib.axis_1\">\r\n    <g id=\"xtick_1\">\r\n     <g id=\"line2d_1\">\r\n      <defs>\r\n       <path d=\"M 0 0 \r\nL 0 3.5 \r\n\" id=\"mb260694610\" style=\"stroke:#000000;stroke-width:0.8;\"/>\r\n      </defs>\r\n      <g>\r\n       <use style=\"stroke:#000000;stroke-width:0.8;\" x=\"48.505682\" xlink:href=\"#mb260694610\" y=\"224.64\"/>\r\n      </g>\r\n     </g>\r\n     <g id=\"text_1\">\r\n      <!-- 0 -->\r\n      <g transform=\"translate(45.324432 239.238437)scale(0.1 -0.1)\">\r\n       <defs>\r\n        <path d=\"M 31.78125 66.40625 \r\nQ 24.171875 66.40625 20.328125 58.90625 \r\nQ 16.5 51.421875 16.5 36.375 \r\nQ 16.5 21.390625 20.328125 13.890625 \r\nQ 24.171875 6.390625 31.78125 6.390625 \r\nQ 39.453125 6.390625 43.28125 13.890625 \r\nQ 47.125 21.390625 47.125 36.375 \r\nQ 47.125 51.421875 43.28125 58.90625 \r\nQ 39.453125 66.40625 31.78125 66.40625 \r\nz\r\nM 31.78125 74.21875 \r\nQ 44.046875 74.21875 50.515625 64.515625 \r\nQ 56.984375 54.828125 56.984375 36.375 \r\nQ 56.984375 17.96875 50.515625 8.265625 \r\nQ 44.046875 -1.421875 31.78125 -1.421875 \r\nQ 19.53125 -1.421875 13.0625 8.265625 \r\nQ 6.59375 17.96875 6.59375 36.375 \r\nQ 6.59375 54.828125 13.0625 64.515625 \r\nQ 19.53125 74.21875 31.78125 74.21875 \r\nz\r\n\" id=\"DejaVuSans-48\"/>\r\n       </defs>\r\n       <use xlink:href=\"#DejaVuSans-48\"/>\r\n      </g>\r\n     </g>\r\n    </g>\r\n    <g id=\"xtick_2\">\r\n     <g id=\"line2d_2\">\r\n      <g>\r\n       <use style=\"stroke:#000000;stroke-width:0.8;\" x=\"109.993285\" xlink:href=\"#mb260694610\" y=\"224.64\"/>\r\n      </g>\r\n     </g>\r\n     <g id=\"text_2\">\r\n      <!-- 20 -->\r\n      <g transform=\"translate(103.630785 239.238437)scale(0.1 -0.1)\">\r\n       <defs>\r\n        <path d=\"M 19.1875 8.296875 \r\nL 53.609375 8.296875 \r\nL 53.609375 0 \r\nL 7.328125 0 \r\nL 7.328125 8.296875 \r\nQ 12.9375 14.109375 22.625 23.890625 \r\nQ 32.328125 33.6875 34.8125 36.53125 \r\nQ 39.546875 41.84375 41.421875 45.53125 \r\nQ 43.3125 49.21875 43.3125 52.78125 \r\nQ 43.3125 58.59375 39.234375 62.25 \r\nQ 35.15625 65.921875 28.609375 65.921875 \r\nQ 23.96875 65.921875 18.8125 64.3125 \r\nQ 13.671875 62.703125 7.8125 59.421875 \r\nL 7.8125 69.390625 \r\nQ 13.765625 71.78125 18.9375 73 \r\nQ 24.125 74.21875 28.421875 74.21875 \r\nQ 39.75 74.21875 46.484375 68.546875 \r\nQ 53.21875 62.890625 53.21875 53.421875 \r\nQ 53.21875 48.921875 51.53125 44.890625 \r\nQ 49.859375 40.875 45.40625 35.40625 \r\nQ 44.1875 33.984375 37.640625 27.21875 \r\nQ 31.109375 20.453125 19.1875 8.296875 \r\nz\r\n\" id=\"DejaVuSans-50\"/>\r\n       </defs>\r\n       <use xlink:href=\"#DejaVuSans-50\"/>\r\n       <use x=\"63.623047\" xlink:href=\"#DejaVuSans-48\"/>\r\n      </g>\r\n     </g>\r\n    </g>\r\n    <g id=\"xtick_3\">\r\n     <g id=\"line2d_3\">\r\n      <g>\r\n       <use style=\"stroke:#000000;stroke-width:0.8;\" x=\"171.480888\" xlink:href=\"#mb260694610\" y=\"224.64\"/>\r\n      </g>\r\n     </g>\r\n     <g id=\"text_3\">\r\n      <!-- 40 -->\r\n      <g transform=\"translate(165.118388 239.238437)scale(0.1 -0.1)\">\r\n       <defs>\r\n        <path d=\"M 37.796875 64.3125 \r\nL 12.890625 25.390625 \r\nL 37.796875 25.390625 \r\nz\r\nM 35.203125 72.90625 \r\nL 47.609375 72.90625 \r\nL 47.609375 25.390625 \r\nL 58.015625 25.390625 \r\nL 58.015625 17.1875 \r\nL 47.609375 17.1875 \r\nL 47.609375 0 \r\nL 37.796875 0 \r\nL 37.796875 17.1875 \r\nL 4.890625 17.1875 \r\nL 4.890625 26.703125 \r\nz\r\n\" id=\"DejaVuSans-52\"/>\r\n       </defs>\r\n       <use xlink:href=\"#DejaVuSans-52\"/>\r\n       <use x=\"63.623047\" xlink:href=\"#DejaVuSans-48\"/>\r\n      </g>\r\n     </g>\r\n    </g>\r\n    <g id=\"xtick_4\">\r\n     <g id=\"line2d_4\">\r\n      <g>\r\n       <use style=\"stroke:#000000;stroke-width:0.8;\" x=\"232.968492\" xlink:href=\"#mb260694610\" y=\"224.64\"/>\r\n      </g>\r\n     </g>\r\n     <g id=\"text_4\">\r\n      <!-- 60 -->\r\n      <g transform=\"translate(226.605992 239.238437)scale(0.1 -0.1)\">\r\n       <defs>\r\n        <path d=\"M 33.015625 40.375 \r\nQ 26.375 40.375 22.484375 35.828125 \r\nQ 18.609375 31.296875 18.609375 23.390625 \r\nQ 18.609375 15.53125 22.484375 10.953125 \r\nQ 26.375 6.390625 33.015625 6.390625 \r\nQ 39.65625 6.390625 43.53125 10.953125 \r\nQ 47.40625 15.53125 47.40625 23.390625 \r\nQ 47.40625 31.296875 43.53125 35.828125 \r\nQ 39.65625 40.375 33.015625 40.375 \r\nz\r\nM 52.59375 71.296875 \r\nL 52.59375 62.3125 \r\nQ 48.875 64.0625 45.09375 64.984375 \r\nQ 41.3125 65.921875 37.59375 65.921875 \r\nQ 27.828125 65.921875 22.671875 59.328125 \r\nQ 17.53125 52.734375 16.796875 39.40625 \r\nQ 19.671875 43.65625 24.015625 45.921875 \r\nQ 28.375 48.1875 33.59375 48.1875 \r\nQ 44.578125 48.1875 50.953125 41.515625 \r\nQ 57.328125 34.859375 57.328125 23.390625 \r\nQ 57.328125 12.15625 50.6875 5.359375 \r\nQ 44.046875 -1.421875 33.015625 -1.421875 \r\nQ 20.359375 -1.421875 13.671875 8.265625 \r\nQ 6.984375 17.96875 6.984375 36.375 \r\nQ 6.984375 53.65625 15.1875 63.9375 \r\nQ 23.390625 74.21875 37.203125 74.21875 \r\nQ 40.921875 74.21875 44.703125 73.484375 \r\nQ 48.484375 72.75 52.59375 71.296875 \r\nz\r\n\" id=\"DejaVuSans-54\"/>\r\n       </defs>\r\n       <use xlink:href=\"#DejaVuSans-54\"/>\r\n       <use x=\"63.623047\" xlink:href=\"#DejaVuSans-48\"/>\r\n      </g>\r\n     </g>\r\n    </g>\r\n    <g id=\"xtick_5\">\r\n     <g id=\"line2d_5\">\r\n      <g>\r\n       <use style=\"stroke:#000000;stroke-width:0.8;\" x=\"294.456095\" xlink:href=\"#mb260694610\" y=\"224.64\"/>\r\n      </g>\r\n     </g>\r\n     <g id=\"text_5\">\r\n      <!-- 80 -->\r\n      <g transform=\"translate(288.093595 239.238437)scale(0.1 -0.1)\">\r\n       <defs>\r\n        <path d=\"M 31.78125 34.625 \r\nQ 24.75 34.625 20.71875 30.859375 \r\nQ 16.703125 27.09375 16.703125 20.515625 \r\nQ 16.703125 13.921875 20.71875 10.15625 \r\nQ 24.75 6.390625 31.78125 6.390625 \r\nQ 38.8125 6.390625 42.859375 10.171875 \r\nQ 46.921875 13.96875 46.921875 20.515625 \r\nQ 46.921875 27.09375 42.890625 30.859375 \r\nQ 38.875 34.625 31.78125 34.625 \r\nz\r\nM 21.921875 38.8125 \r\nQ 15.578125 40.375 12.03125 44.71875 \r\nQ 8.5 49.078125 8.5 55.328125 \r\nQ 8.5 64.0625 14.71875 69.140625 \r\nQ 20.953125 74.21875 31.78125 74.21875 \r\nQ 42.671875 74.21875 48.875 69.140625 \r\nQ 55.078125 64.0625 55.078125 55.328125 \r\nQ 55.078125 49.078125 51.53125 44.71875 \r\nQ 48 40.375 41.703125 38.8125 \r\nQ 48.828125 37.15625 52.796875 32.3125 \r\nQ 56.78125 27.484375 56.78125 20.515625 \r\nQ 56.78125 9.90625 50.3125 4.234375 \r\nQ 43.84375 -1.421875 31.78125 -1.421875 \r\nQ 19.734375 -1.421875 13.25 4.234375 \r\nQ 6.78125 9.90625 6.78125 20.515625 \r\nQ 6.78125 27.484375 10.78125 32.3125 \r\nQ 14.796875 37.15625 21.921875 38.8125 \r\nz\r\nM 18.3125 54.390625 \r\nQ 18.3125 48.734375 21.84375 45.5625 \r\nQ 25.390625 42.390625 31.78125 42.390625 \r\nQ 38.140625 42.390625 41.71875 45.5625 \r\nQ 45.3125 48.734375 45.3125 54.390625 \r\nQ 45.3125 60.0625 41.71875 63.234375 \r\nQ 38.140625 66.40625 31.78125 66.40625 \r\nQ 25.390625 66.40625 21.84375 63.234375 \r\nQ 18.3125 60.0625 18.3125 54.390625 \r\nz\r\n\" id=\"DejaVuSans-56\"/>\r\n       </defs>\r\n       <use xlink:href=\"#DejaVuSans-56\"/>\r\n       <use x=\"63.623047\" xlink:href=\"#DejaVuSans-48\"/>\r\n      </g>\r\n     </g>\r\n    </g>\r\n    <g id=\"xtick_6\">\r\n     <g id=\"line2d_6\">\r\n      <g>\r\n       <use style=\"stroke:#000000;stroke-width:0.8;\" x=\"355.943698\" xlink:href=\"#mb260694610\" y=\"224.64\"/>\r\n      </g>\r\n     </g>\r\n     <g id=\"text_6\">\r\n      <!-- 100 -->\r\n      <g transform=\"translate(346.399948 239.238437)scale(0.1 -0.1)\">\r\n       <defs>\r\n        <path d=\"M 12.40625 8.296875 \r\nL 28.515625 8.296875 \r\nL 28.515625 63.921875 \r\nL 10.984375 60.40625 \r\nL 10.984375 69.390625 \r\nL 28.421875 72.90625 \r\nL 38.28125 72.90625 \r\nL 38.28125 8.296875 \r\nL 54.390625 8.296875 \r\nL 54.390625 0 \r\nL 12.40625 0 \r\nz\r\n\" id=\"DejaVuSans-49\"/>\r\n       </defs>\r\n       <use xlink:href=\"#DejaVuSans-49\"/>\r\n       <use x=\"63.623047\" xlink:href=\"#DejaVuSans-48\"/>\r\n       <use x=\"127.246094\" xlink:href=\"#DejaVuSans-48\"/>\r\n      </g>\r\n     </g>\r\n    </g>\r\n   </g>\r\n   <g id=\"matplotlib.axis_2\">\r\n    <g id=\"ytick_1\">\r\n     <g id=\"line2d_7\">\r\n      <defs>\r\n       <path d=\"M 0 0 \r\nL -3.5 0 \r\n\" id=\"m435153baac\" style=\"stroke:#000000;stroke-width:0.8;\"/>\r\n      </defs>\r\n      <g>\r\n       <use style=\"stroke:#000000;stroke-width:0.8;\" x=\"33.2875\" xlink:href=\"#m435153baac\" y=\"215.160602\"/>\r\n      </g>\r\n     </g>\r\n     <g id=\"text_7\">\r\n      <!-- 0 -->\r\n      <g transform=\"translate(19.925 218.959821)scale(0.1 -0.1)\">\r\n       <use xlink:href=\"#DejaVuSans-48\"/>\r\n      </g>\r\n     </g>\r\n    </g>\r\n    <g id=\"ytick_2\">\r\n     <g id=\"line2d_8\">\r\n      <g>\r\n       <use style=\"stroke:#000000;stroke-width:0.8;\" x=\"33.2875\" xlink:href=\"#m435153baac\" y=\"174.736732\"/>\r\n      </g>\r\n     </g>\r\n     <g id=\"text_8\">\r\n      <!-- 100 -->\r\n      <g transform=\"translate(7.2 178.53595)scale(0.1 -0.1)\">\r\n       <use xlink:href=\"#DejaVuSans-49\"/>\r\n       <use x=\"63.623047\" xlink:href=\"#DejaVuSans-48\"/>\r\n       <use x=\"127.246094\" xlink:href=\"#DejaVuSans-48\"/>\r\n      </g>\r\n     </g>\r\n    </g>\r\n    <g id=\"ytick_3\">\r\n     <g id=\"line2d_9\">\r\n      <g>\r\n       <use style=\"stroke:#000000;stroke-width:0.8;\" x=\"33.2875\" xlink:href=\"#m435153baac\" y=\"134.312861\"/>\r\n      </g>\r\n     </g>\r\n     <g id=\"text_9\">\r\n      <!-- 200 -->\r\n      <g transform=\"translate(7.2 138.11208)scale(0.1 -0.1)\">\r\n       <use xlink:href=\"#DejaVuSans-50\"/>\r\n       <use x=\"63.623047\" xlink:href=\"#DejaVuSans-48\"/>\r\n       <use x=\"127.246094\" xlink:href=\"#DejaVuSans-48\"/>\r\n      </g>\r\n     </g>\r\n    </g>\r\n    <g id=\"ytick_4\">\r\n     <g id=\"line2d_10\">\r\n      <g>\r\n       <use style=\"stroke:#000000;stroke-width:0.8;\" x=\"33.2875\" xlink:href=\"#m435153baac\" y=\"93.888991\"/>\r\n      </g>\r\n     </g>\r\n     <g id=\"text_10\">\r\n      <!-- 300 -->\r\n      <g transform=\"translate(7.2 97.688209)scale(0.1 -0.1)\">\r\n       <defs>\r\n        <path d=\"M 40.578125 39.3125 \r\nQ 47.65625 37.796875 51.625 33 \r\nQ 55.609375 28.21875 55.609375 21.1875 \r\nQ 55.609375 10.40625 48.1875 4.484375 \r\nQ 40.765625 -1.421875 27.09375 -1.421875 \r\nQ 22.515625 -1.421875 17.65625 -0.515625 \r\nQ 12.796875 0.390625 7.625 2.203125 \r\nL 7.625 11.71875 \r\nQ 11.71875 9.328125 16.59375 8.109375 \r\nQ 21.484375 6.890625 26.8125 6.890625 \r\nQ 36.078125 6.890625 40.9375 10.546875 \r\nQ 45.796875 14.203125 45.796875 21.1875 \r\nQ 45.796875 27.640625 41.28125 31.265625 \r\nQ 36.765625 34.90625 28.71875 34.90625 \r\nL 20.21875 34.90625 \r\nL 20.21875 43.015625 \r\nL 29.109375 43.015625 \r\nQ 36.375 43.015625 40.234375 45.921875 \r\nQ 44.09375 48.828125 44.09375 54.296875 \r\nQ 44.09375 59.90625 40.109375 62.90625 \r\nQ 36.140625 65.921875 28.71875 65.921875 \r\nQ 24.65625 65.921875 20.015625 65.03125 \r\nQ 15.375 64.15625 9.8125 62.3125 \r\nL 9.8125 71.09375 \r\nQ 15.4375 72.65625 20.34375 73.4375 \r\nQ 25.25 74.21875 29.59375 74.21875 \r\nQ 40.828125 74.21875 47.359375 69.109375 \r\nQ 53.90625 64.015625 53.90625 55.328125 \r\nQ 53.90625 49.265625 50.4375 45.09375 \r\nQ 46.96875 40.921875 40.578125 39.3125 \r\nz\r\n\" id=\"DejaVuSans-51\"/>\r\n       </defs>\r\n       <use xlink:href=\"#DejaVuSans-51\"/>\r\n       <use x=\"63.623047\" xlink:href=\"#DejaVuSans-48\"/>\r\n       <use x=\"127.246094\" xlink:href=\"#DejaVuSans-48\"/>\r\n      </g>\r\n     </g>\r\n    </g>\r\n    <g id=\"ytick_5\">\r\n     <g id=\"line2d_11\">\r\n      <g>\r\n       <use style=\"stroke:#000000;stroke-width:0.8;\" x=\"33.2875\" xlink:href=\"#m435153baac\" y=\"53.46512\"/>\r\n      </g>\r\n     </g>\r\n     <g id=\"text_11\">\r\n      <!-- 400 -->\r\n      <g transform=\"translate(7.2 57.264339)scale(0.1 -0.1)\">\r\n       <use xlink:href=\"#DejaVuSans-52\"/>\r\n       <use x=\"63.623047\" xlink:href=\"#DejaVuSans-48\"/>\r\n       <use x=\"127.246094\" xlink:href=\"#DejaVuSans-48\"/>\r\n      </g>\r\n     </g>\r\n    </g>\r\n    <g id=\"ytick_6\">\r\n     <g id=\"line2d_12\">\r\n      <g>\r\n       <use style=\"stroke:#000000;stroke-width:0.8;\" x=\"33.2875\" xlink:href=\"#m435153baac\" y=\"13.041249\"/>\r\n      </g>\r\n     </g>\r\n     <g id=\"text_12\">\r\n      <!-- 500 -->\r\n      <g transform=\"translate(7.2 16.840468)scale(0.1 -0.1)\">\r\n       <defs>\r\n        <path d=\"M 10.796875 72.90625 \r\nL 49.515625 72.90625 \r\nL 49.515625 64.59375 \r\nL 19.828125 64.59375 \r\nL 19.828125 46.734375 \r\nQ 21.96875 47.46875 24.109375 47.828125 \r\nQ 26.265625 48.1875 28.421875 48.1875 \r\nQ 40.625 48.1875 47.75 41.5 \r\nQ 54.890625 34.8125 54.890625 23.390625 \r\nQ 54.890625 11.625 47.5625 5.09375 \r\nQ 40.234375 -1.421875 26.90625 -1.421875 \r\nQ 22.3125 -1.421875 17.546875 -0.640625 \r\nQ 12.796875 0.140625 7.71875 1.703125 \r\nL 7.71875 11.625 \r\nQ 12.109375 9.234375 16.796875 8.0625 \r\nQ 21.484375 6.890625 26.703125 6.890625 \r\nQ 35.15625 6.890625 40.078125 11.328125 \r\nQ 45.015625 15.765625 45.015625 23.390625 \r\nQ 45.015625 31 40.078125 35.4375 \r\nQ 35.15625 39.890625 26.703125 39.890625 \r\nQ 22.75 39.890625 18.8125 39.015625 \r\nQ 14.890625 38.140625 10.796875 36.28125 \r\nz\r\n\" id=\"DejaVuSans-53\"/>\r\n       </defs>\r\n       <use xlink:href=\"#DejaVuSans-53\"/>\r\n       <use x=\"63.623047\" xlink:href=\"#DejaVuSans-48\"/>\r\n       <use x=\"127.246094\" xlink:href=\"#DejaVuSans-48\"/>\r\n      </g>\r\n     </g>\r\n    </g>\r\n   </g>\r\n   <g id=\"patch_3\">\r\n    <path d=\"M 33.2875 224.64 \r\nL 33.2875 7.2 \r\n\" style=\"fill:none;stroke:#000000;stroke-linecap:square;stroke-linejoin:miter;stroke-width:0.8;\"/>\r\n   </g>\r\n   <g id=\"patch_4\">\r\n    <path d=\"M 368.0875 224.64 \r\nL 368.0875 7.2 \r\n\" style=\"fill:none;stroke:#000000;stroke-linecap:square;stroke-linejoin:miter;stroke-width:0.8;\"/>\r\n   </g>\r\n   <g id=\"patch_5\">\r\n    <path d=\"M 33.2875 224.64 \r\nL 368.0875 224.64 \r\n\" style=\"fill:none;stroke:#000000;stroke-linecap:square;stroke-linejoin:miter;stroke-width:0.8;\"/>\r\n   </g>\r\n   <g id=\"patch_6\">\r\n    <path d=\"M 33.2875 7.2 \r\nL 368.0875 7.2 \r\n\" style=\"fill:none;stroke:#000000;stroke-linecap:square;stroke-linejoin:miter;stroke-width:0.8;\"/>\r\n   </g>\r\n  </g>\r\n </g>\r\n <defs>\r\n  <clipPath id=\"p6577a063bf\">\r\n   <rect height=\"217.44\" width=\"334.8\" x=\"33.2875\" y=\"7.2\"/>\r\n  </clipPath>\r\n </defs>\r\n</svg>\r\n",
      "image/png": "[encoded data removed]"
     },
     "metadata": {
      "needs_background": "light"
     }
    }
   ],
   "source": [
    "import matplotlib.pyplot as plt\n",
    "\n",
    "plt.scatter(x_vals,y_vals)\n",
    "plt.show()"
   ]
  },
  {
   "cell_type": "markdown",
   "metadata": {},
   "source": [
    "here we call the scatter function of matplotlib.pyplot - if you execute the two code cells you will see the points moving as new data is generated.\n",
    "\n",
    "This is not a very good graph however. There are no lables, and no title!\n",
    "\n",
    "We can add these quite easily though:"
   ]
  },
  {
   "cell_type": "code",
   "execution_count": 24,
   "metadata": {},
   "outputs": [
    {
     "output_type": "execute_result",
     "data": {
      "text/plain": [
       "Text(0, 0.5, 'random y integer')"
      ]
     },
     "metadata": {},
     "execution_count": 24
    },
    {
     "output_type": "display_data",
     "data": {
      "text/plain": "<Figure size 432x288 with 1 Axes>",
      "image/svg+xml": "<?xml version=\"1.0\" encoding=\"utf-8\" standalone=\"no\"?>\r\n<!DOCTYPE svg PUBLIC \"-//W3C//DTD SVG 1.1//EN\"\r\n  \"http://www.w3.org/Graphics/SVG/1.1/DTD/svg11.dtd\">\r\n<!-- Created with matplotlib (https://matplotlib.org/) -->\r\n<svg height=\"265.995469pt\" version=\"1.1\" viewBox=\"0 0 393.732813 265.995469\" width=\"393.732813pt\" xmlns=\"http://www.w3.org/2000/svg\" xmlns:xlink=\"http://www.w3.org/1999/xlink\">\r\n <metadata>\r\n  <rdf:RDF xmlns:cc=\"http://creativecommons.org/ns#\" xmlns:dc=\"http://purl.org/dc/elements/1.1/\" xmlns:rdf=\"http://www.w3.org/1999/02/22-rdf-syntax-ns#\">\r\n   <cc:Work>\r\n    <dc:type rdf:resource=\"http://purl.org/dc/dcmitype/StillImage\"/>\r\n    <dc:date>2021-03-20T03:10:06.573371</dc:date>\r\n    <dc:format>image/svg+xml</dc:format>\r\n    <dc:creator>\r\n     <cc:Agent>\r\n      <dc:title>Matplotlib v3.3.4, https://matplotlib.org/</dc:title>\r\n     </cc:Agent>\r\n    </dc:creator>\r\n   </cc:Work>\r\n  </rdf:RDF>\r\n </metadata>\r\n <defs>\r\n  <style type=\"text/css\">*{stroke-linecap:butt;stroke-linejoin:round;}</style>\r\n </defs>\r\n <g id=\"figure_1\">\r\n  <g id=\"patch_1\">\r\n   <path d=\"M 0 265.995469 \r\nL 393.732813 265.995469 \r\nL 393.732813 0 \r\nL 0 0 \r\nz\r\n\" style=\"fill:none;\"/>\r\n  </g>\r\n  <g id=\"axes_1\">\r\n   <g id=\"patch_2\">\r\n    <path d=\"M 43.78125 228.439219 \r\nL 378.58125 228.439219 \r\nL 378.58125 10.999219 \r\nL 43.78125 10.999219 \r\nz\r\n\" style=\"fill:#ffffff;\"/>\r\n   </g>\r\n   <g id=\"matplotlib.axis_1\">\r\n    <g id=\"xtick_1\">\r\n     <g id=\"line2d_1\">\r\n      <defs>\r\n       <path d=\"M 0 0 \r\nL 0 3.5 \r\n\" id=\"m586cfb8245\" style=\"stroke:#000000;stroke-width:0.8;\"/>\r\n      </defs>\r\n      <g>\r\n       <use style=\"stroke:#000000;stroke-width:0.8;\" x=\"43.78125\" xlink:href=\"#m586cfb8245\" y=\"228.439219\"/>\r\n      </g>\r\n     </g>\r\n     <g id=\"text_1\">\r\n      <!-- 0.0 -->\r\n      <g transform=\"translate(35.829688 243.037656)scale(0.1 -0.1)\">\r\n       <defs>\r\n        <path d=\"M 31.78125 66.40625 \r\nQ 24.171875 66.40625 20.328125 58.90625 \r\nQ 16.5 51.421875 16.5 36.375 \r\nQ 16.5 21.390625 20.328125 13.890625 \r\nQ 24.171875 6.390625 31.78125 6.390625 \r\nQ 39.453125 6.390625 43.28125 13.890625 \r\nQ 47.125 21.390625 47.125 36.375 \r\nQ 47.125 51.421875 43.28125 58.90625 \r\nQ 39.453125 66.40625 31.78125 66.40625 \r\nz\r\nM 31.78125 74.21875 \r\nQ 44.046875 74.21875 50.515625 64.515625 \r\nQ 56.984375 54.828125 56.984375 36.375 \r\nQ 56.984375 17.96875 50.515625 8.265625 \r\nQ 44.046875 -1.421875 31.78125 -1.421875 \r\nQ 19.53125 -1.421875 13.0625 8.265625 \r\nQ 6.59375 17.96875 6.59375 36.375 \r\nQ 6.59375 54.828125 13.0625 64.515625 \r\nQ 19.53125 74.21875 31.78125 74.21875 \r\nz\r\n\" id=\"DejaVuSans-48\"/>\r\n        <path d=\"M 10.6875 12.40625 \r\nL 21 12.40625 \r\nL 21 0 \r\nL 10.6875 0 \r\nz\r\n\" id=\"DejaVuSans-46\"/>\r\n       </defs>\r\n       <use xlink:href=\"#DejaVuSans-48\"/>\r\n       <use x=\"63.623047\" xlink:href=\"#DejaVuSans-46\"/>\r\n       <use x=\"95.410156\" xlink:href=\"#DejaVuSans-48\"/>\r\n      </g>\r\n     </g>\r\n    </g>\r\n    <g id=\"xtick_2\">\r\n     <g id=\"line2d_2\">\r\n      <g>\r\n       <use style=\"stroke:#000000;stroke-width:0.8;\" x=\"110.74125\" xlink:href=\"#m586cfb8245\" y=\"228.439219\"/>\r\n      </g>\r\n     </g>\r\n     <g id=\"text_2\">\r\n      <!-- 0.2 -->\r\n      <g transform=\"translate(102.789688 243.037656)scale(0.1 -0.1)\">\r\n       <defs>\r\n        <path d=\"M 19.1875 8.296875 \r\nL 53.609375 8.296875 \r\nL 53.609375 0 \r\nL 7.328125 0 \r\nL 7.328125 8.296875 \r\nQ 12.9375 14.109375 22.625 23.890625 \r\nQ 32.328125 33.6875 34.8125 36.53125 \r\nQ 39.546875 41.84375 41.421875 45.53125 \r\nQ 43.3125 49.21875 43.3125 52.78125 \r\nQ 43.3125 58.59375 39.234375 62.25 \r\nQ 35.15625 65.921875 28.609375 65.921875 \r\nQ 23.96875 65.921875 18.8125 64.3125 \r\nQ 13.671875 62.703125 7.8125 59.421875 \r\nL 7.8125 69.390625 \r\nQ 13.765625 71.78125 18.9375 73 \r\nQ 24.125 74.21875 28.421875 74.21875 \r\nQ 39.75 74.21875 46.484375 68.546875 \r\nQ 53.21875 62.890625 53.21875 53.421875 \r\nQ 53.21875 48.921875 51.53125 44.890625 \r\nQ 49.859375 40.875 45.40625 35.40625 \r\nQ 44.1875 33.984375 37.640625 27.21875 \r\nQ 31.109375 20.453125 19.1875 8.296875 \r\nz\r\n\" id=\"DejaVuSans-50\"/>\r\n       </defs>\r\n       <use xlink:href=\"#DejaVuSans-48\"/>\r\n       <use x=\"63.623047\" xlink:href=\"#DejaVuSans-46\"/>\r\n       <use x=\"95.410156\" xlink:href=\"#DejaVuSans-50\"/>\r\n      </g>\r\n     </g>\r\n    </g>\r\n    <g id=\"xtick_3\">\r\n     <g id=\"line2d_3\">\r\n      <g>\r\n       <use style=\"stroke:#000000;stroke-width:0.8;\" x=\"177.70125\" xlink:href=\"#m586cfb8245\" y=\"228.439219\"/>\r\n      </g>\r\n     </g>\r\n     <g id=\"text_3\">\r\n      <!-- 0.4 -->\r\n      <g transform=\"translate(169.749688 243.037656)scale(0.1 -0.1)\">\r\n       <defs>\r\n        <path d=\"M 37.796875 64.3125 \r\nL 12.890625 25.390625 \r\nL 37.796875 25.390625 \r\nz\r\nM 35.203125 72.90625 \r\nL 47.609375 72.90625 \r\nL 47.609375 25.390625 \r\nL 58.015625 25.390625 \r\nL 58.015625 17.1875 \r\nL 47.609375 17.1875 \r\nL 47.609375 0 \r\nL 37.796875 0 \r\nL 37.796875 17.1875 \r\nL 4.890625 17.1875 \r\nL 4.890625 26.703125 \r\nz\r\n\" id=\"DejaVuSans-52\"/>\r\n       </defs>\r\n       <use xlink:href=\"#DejaVuSans-48\"/>\r\n       <use x=\"63.623047\" xlink:href=\"#DejaVuSans-46\"/>\r\n       <use x=\"95.410156\" xlink:href=\"#DejaVuSans-52\"/>\r\n      </g>\r\n     </g>\r\n    </g>\r\n    <g id=\"xtick_4\">\r\n     <g id=\"line2d_4\">\r\n      <g>\r\n       <use style=\"stroke:#000000;stroke-width:0.8;\" x=\"244.66125\" xlink:href=\"#m586cfb8245\" y=\"228.439219\"/>\r\n      </g>\r\n     </g>\r\n     <g id=\"text_4\">\r\n      <!-- 0.6 -->\r\n      <g transform=\"translate(236.709688 243.037656)scale(0.1 -0.1)\">\r\n       <defs>\r\n        <path d=\"M 33.015625 40.375 \r\nQ 26.375 40.375 22.484375 35.828125 \r\nQ 18.609375 31.296875 18.609375 23.390625 \r\nQ 18.609375 15.53125 22.484375 10.953125 \r\nQ 26.375 6.390625 33.015625 6.390625 \r\nQ 39.65625 6.390625 43.53125 10.953125 \r\nQ 47.40625 15.53125 47.40625 23.390625 \r\nQ 47.40625 31.296875 43.53125 35.828125 \r\nQ 39.65625 40.375 33.015625 40.375 \r\nz\r\nM 52.59375 71.296875 \r\nL 52.59375 62.3125 \r\nQ 48.875 64.0625 45.09375 64.984375 \r\nQ 41.3125 65.921875 37.59375 65.921875 \r\nQ 27.828125 65.921875 22.671875 59.328125 \r\nQ 17.53125 52.734375 16.796875 39.40625 \r\nQ 19.671875 43.65625 24.015625 45.921875 \r\nQ 28.375 48.1875 33.59375 48.1875 \r\nQ 44.578125 48.1875 50.953125 41.515625 \r\nQ 57.328125 34.859375 57.328125 23.390625 \r\nQ 57.328125 12.15625 50.6875 5.359375 \r\nQ 44.046875 -1.421875 33.015625 -1.421875 \r\nQ 20.359375 -1.421875 13.671875 8.265625 \r\nQ 6.984375 17.96875 6.984375 36.375 \r\nQ 6.984375 53.65625 15.1875 63.9375 \r\nQ 23.390625 74.21875 37.203125 74.21875 \r\nQ 40.921875 74.21875 44.703125 73.484375 \r\nQ 48.484375 72.75 52.59375 71.296875 \r\nz\r\n\" id=\"DejaVuSans-54\"/>\r\n       </defs>\r\n       <use xlink:href=\"#DejaVuSans-48\"/>\r\n       <use x=\"63.623047\" xlink:href=\"#DejaVuSans-46\"/>\r\n       <use x=\"95.410156\" xlink:href=\"#DejaVuSans-54\"/>\r\n      </g>\r\n     </g>\r\n    </g>\r\n    <g id=\"xtick_5\">\r\n     <g id=\"line2d_5\">\r\n      <g>\r\n       <use style=\"stroke:#000000;stroke-width:0.8;\" x=\"311.62125\" xlink:href=\"#m586cfb8245\" y=\"228.439219\"/>\r\n      </g>\r\n     </g>\r\n     <g id=\"text_5\">\r\n      <!-- 0.8 -->\r\n      <g transform=\"translate(303.669688 243.037656)scale(0.1 -0.1)\">\r\n       <defs>\r\n        <path d=\"M 31.78125 34.625 \r\nQ 24.75 34.625 20.71875 30.859375 \r\nQ 16.703125 27.09375 16.703125 20.515625 \r\nQ 16.703125 13.921875 20.71875 10.15625 \r\nQ 24.75 6.390625 31.78125 6.390625 \r\nQ 38.8125 6.390625 42.859375 10.171875 \r\nQ 46.921875 13.96875 46.921875 20.515625 \r\nQ 46.921875 27.09375 42.890625 30.859375 \r\nQ 38.875 34.625 31.78125 34.625 \r\nz\r\nM 21.921875 38.8125 \r\nQ 15.578125 40.375 12.03125 44.71875 \r\nQ 8.5 49.078125 8.5 55.328125 \r\nQ 8.5 64.0625 14.71875 69.140625 \r\nQ 20.953125 74.21875 31.78125 74.21875 \r\nQ 42.671875 74.21875 48.875 69.140625 \r\nQ 55.078125 64.0625 55.078125 55.328125 \r\nQ 55.078125 49.078125 51.53125 44.71875 \r\nQ 48 40.375 41.703125 38.8125 \r\nQ 48.828125 37.15625 52.796875 32.3125 \r\nQ 56.78125 27.484375 56.78125 20.515625 \r\nQ 56.78125 9.90625 50.3125 4.234375 \r\nQ 43.84375 -1.421875 31.78125 -1.421875 \r\nQ 19.734375 -1.421875 13.25 4.234375 \r\nQ 6.78125 9.90625 6.78125 20.515625 \r\nQ 6.78125 27.484375 10.78125 32.3125 \r\nQ 14.796875 37.15625 21.921875 38.8125 \r\nz\r\nM 18.3125 54.390625 \r\nQ 18.3125 48.734375 21.84375 45.5625 \r\nQ 25.390625 42.390625 31.78125 42.390625 \r\nQ 38.140625 42.390625 41.71875 45.5625 \r\nQ 45.3125 48.734375 45.3125 54.390625 \r\nQ 45.3125 60.0625 41.71875 63.234375 \r\nQ 38.140625 66.40625 31.78125 66.40625 \r\nQ 25.390625 66.40625 21.84375 63.234375 \r\nQ 18.3125 60.0625 18.3125 54.390625 \r\nz\r\n\" id=\"DejaVuSans-56\"/>\r\n       </defs>\r\n       <use xlink:href=\"#DejaVuSans-48\"/>\r\n       <use x=\"63.623047\" xlink:href=\"#DejaVuSans-46\"/>\r\n       <use x=\"95.410156\" xlink:href=\"#DejaVuSans-56\"/>\r\n      </g>\r\n     </g>\r\n    </g>\r\n    <g id=\"xtick_6\">\r\n     <g id=\"line2d_6\">\r\n      <g>\r\n       <use style=\"stroke:#000000;stroke-width:0.8;\" x=\"378.58125\" xlink:href=\"#m586cfb8245\" y=\"228.439219\"/>\r\n      </g>\r\n     </g>\r\n     <g id=\"text_6\">\r\n      <!-- 1.0 -->\r\n      <g transform=\"translate(370.629687 243.037656)scale(0.1 -0.1)\">\r\n       <defs>\r\n        <path d=\"M 12.40625 8.296875 \r\nL 28.515625 8.296875 \r\nL 28.515625 63.921875 \r\nL 10.984375 60.40625 \r\nL 10.984375 69.390625 \r\nL 28.421875 72.90625 \r\nL 38.28125 72.90625 \r\nL 38.28125 8.296875 \r\nL 54.390625 8.296875 \r\nL 54.390625 0 \r\nL 12.40625 0 \r\nz\r\n\" id=\"DejaVuSans-49\"/>\r\n       </defs>\r\n       <use xlink:href=\"#DejaVuSans-49\"/>\r\n       <use x=\"63.623047\" xlink:href=\"#DejaVuSans-46\"/>\r\n       <use x=\"95.410156\" xlink:href=\"#DejaVuSans-48\"/>\r\n      </g>\r\n     </g>\r\n    </g>\r\n    <g id=\"text_7\">\r\n     <!-- random x integer -->\r\n     <g transform=\"translate(167.750781 256.715781)scale(0.1 -0.1)\">\r\n      <defs>\r\n       <path d=\"M 41.109375 46.296875 \r\nQ 39.59375 47.171875 37.8125 47.578125 \r\nQ 36.03125 48 33.890625 48 \r\nQ 26.265625 48 22.1875 43.046875 \r\nQ 18.109375 38.09375 18.109375 28.8125 \r\nL 18.109375 0 \r\nL 9.078125 0 \r\nL 9.078125 54.6875 \r\nL 18.109375 54.6875 \r\nL 18.109375 46.1875 \r\nQ 20.953125 51.171875 25.484375 53.578125 \r\nQ 30.03125 56 36.53125 56 \r\nQ 37.453125 56 38.578125 55.875 \r\nQ 39.703125 55.765625 41.0625 55.515625 \r\nz\r\n\" id=\"DejaVuSans-114\"/>\r\n       <path d=\"M 34.28125 27.484375 \r\nQ 23.390625 27.484375 19.1875 25 \r\nQ 14.984375 22.515625 14.984375 16.5 \r\nQ 14.984375 11.71875 18.140625 8.90625 \r\nQ 21.296875 6.109375 26.703125 6.109375 \r\nQ 34.1875 6.109375 38.703125 11.40625 \r\nQ 43.21875 16.703125 43.21875 25.484375 \r\nL 43.21875 27.484375 \r\nz\r\nM 52.203125 31.203125 \r\nL 52.203125 0 \r\nL 43.21875 0 \r\nL 43.21875 8.296875 \r\nQ 40.140625 3.328125 35.546875 0.953125 \r\nQ 30.953125 -1.421875 24.3125 -1.421875 \r\nQ 15.921875 -1.421875 10.953125 3.296875 \r\nQ 6 8.015625 6 15.921875 \r\nQ 6 25.140625 12.171875 29.828125 \r\nQ 18.359375 34.515625 30.609375 34.515625 \r\nL 43.21875 34.515625 \r\nL 43.21875 35.40625 \r\nQ 43.21875 41.609375 39.140625 45 \r\nQ 35.0625 48.390625 27.6875 48.390625 \r\nQ 23 48.390625 18.546875 47.265625 \r\nQ 14.109375 46.140625 10.015625 43.890625 \r\nL 10.015625 52.203125 \r\nQ 14.9375 54.109375 19.578125 55.046875 \r\nQ 24.21875 56 28.609375 56 \r\nQ 40.484375 56 46.34375 49.84375 \r\nQ 52.203125 43.703125 52.203125 31.203125 \r\nz\r\n\" id=\"DejaVuSans-97\"/>\r\n       <path d=\"M 54.890625 33.015625 \r\nL 54.890625 0 \r\nL 45.90625 0 \r\nL 45.90625 32.71875 \r\nQ 45.90625 40.484375 42.875 44.328125 \r\nQ 39.84375 48.1875 33.796875 48.1875 \r\nQ 26.515625 48.1875 22.3125 43.546875 \r\nQ 18.109375 38.921875 18.109375 30.90625 \r\nL 18.109375 0 \r\nL 9.078125 0 \r\nL 9.078125 54.6875 \r\nL 18.109375 54.6875 \r\nL 18.109375 46.1875 \r\nQ 21.34375 51.125 25.703125 53.5625 \r\nQ 30.078125 56 35.796875 56 \r\nQ 45.21875 56 50.046875 50.171875 \r\nQ 54.890625 44.34375 54.890625 33.015625 \r\nz\r\n\" id=\"DejaVuSans-110\"/>\r\n       <path d=\"M 45.40625 46.390625 \r\nL 45.40625 75.984375 \r\nL 54.390625 75.984375 \r\nL 54.390625 0 \r\nL 45.40625 0 \r\nL 45.40625 8.203125 \r\nQ 42.578125 3.328125 38.25 0.953125 \r\nQ 33.9375 -1.421875 27.875 -1.421875 \r\nQ 17.96875 -1.421875 11.734375 6.484375 \r\nQ 5.515625 14.40625 5.515625 27.296875 \r\nQ 5.515625 40.1875 11.734375 48.09375 \r\nQ 17.96875 56 27.875 56 \r\nQ 33.9375 56 38.25 53.625 \r\nQ 42.578125 51.265625 45.40625 46.390625 \r\nz\r\nM 14.796875 27.296875 \r\nQ 14.796875 17.390625 18.875 11.75 \r\nQ 22.953125 6.109375 30.078125 6.109375 \r\nQ 37.203125 6.109375 41.296875 11.75 \r\nQ 45.40625 17.390625 45.40625 27.296875 \r\nQ 45.40625 37.203125 41.296875 42.84375 \r\nQ 37.203125 48.484375 30.078125 48.484375 \r\nQ 22.953125 48.484375 18.875 42.84375 \r\nQ 14.796875 37.203125 14.796875 27.296875 \r\nz\r\n\" id=\"DejaVuSans-100\"/>\r\n       <path d=\"M 30.609375 48.390625 \r\nQ 23.390625 48.390625 19.1875 42.75 \r\nQ 14.984375 37.109375 14.984375 27.296875 \r\nQ 14.984375 17.484375 19.15625 11.84375 \r\nQ 23.34375 6.203125 30.609375 6.203125 \r\nQ 37.796875 6.203125 41.984375 11.859375 \r\nQ 46.1875 17.53125 46.1875 27.296875 \r\nQ 46.1875 37.015625 41.984375 42.703125 \r\nQ 37.796875 48.390625 30.609375 48.390625 \r\nz\r\nM 30.609375 56 \r\nQ 42.328125 56 49.015625 48.375 \r\nQ 55.71875 40.765625 55.71875 27.296875 \r\nQ 55.71875 13.875 49.015625 6.21875 \r\nQ 42.328125 -1.421875 30.609375 -1.421875 \r\nQ 18.84375 -1.421875 12.171875 6.21875 \r\nQ 5.515625 13.875 5.515625 27.296875 \r\nQ 5.515625 40.765625 12.171875 48.375 \r\nQ 18.84375 56 30.609375 56 \r\nz\r\n\" id=\"DejaVuSans-111\"/>\r\n       <path d=\"M 52 44.1875 \r\nQ 55.375 50.25 60.0625 53.125 \r\nQ 64.75 56 71.09375 56 \r\nQ 79.640625 56 84.28125 50.015625 \r\nQ 88.921875 44.046875 88.921875 33.015625 \r\nL 88.921875 0 \r\nL 79.890625 0 \r\nL 79.890625 32.71875 \r\nQ 79.890625 40.578125 77.09375 44.375 \r\nQ 74.3125 48.1875 68.609375 48.1875 \r\nQ 61.625 48.1875 57.5625 43.546875 \r\nQ 53.515625 38.921875 53.515625 30.90625 \r\nL 53.515625 0 \r\nL 44.484375 0 \r\nL 44.484375 32.71875 \r\nQ 44.484375 40.625 41.703125 44.40625 \r\nQ 38.921875 48.1875 33.109375 48.1875 \r\nQ 26.21875 48.1875 22.15625 43.53125 \r\nQ 18.109375 38.875 18.109375 30.90625 \r\nL 18.109375 0 \r\nL 9.078125 0 \r\nL 9.078125 54.6875 \r\nL 18.109375 54.6875 \r\nL 18.109375 46.1875 \r\nQ 21.1875 51.21875 25.484375 53.609375 \r\nQ 29.78125 56 35.6875 56 \r\nQ 41.65625 56 45.828125 52.96875 \r\nQ 50 49.953125 52 44.1875 \r\nz\r\n\" id=\"DejaVuSans-109\"/>\r\n       <path id=\"DejaVuSans-32\"/>\r\n       <path d=\"M 54.890625 54.6875 \r\nL 35.109375 28.078125 \r\nL 55.90625 0 \r\nL 45.3125 0 \r\nL 29.390625 21.484375 \r\nL 13.484375 0 \r\nL 2.875 0 \r\nL 24.125 28.609375 \r\nL 4.6875 54.6875 \r\nL 15.28125 54.6875 \r\nL 29.78125 35.203125 \r\nL 44.28125 54.6875 \r\nz\r\n\" id=\"DejaVuSans-120\"/>\r\n       <path d=\"M 9.421875 54.6875 \r\nL 18.40625 54.6875 \r\nL 18.40625 0 \r\nL 9.421875 0 \r\nz\r\nM 9.421875 75.984375 \r\nL 18.40625 75.984375 \r\nL 18.40625 64.59375 \r\nL 9.421875 64.59375 \r\nz\r\n\" id=\"DejaVuSans-105\"/>\r\n       <path d=\"M 18.3125 70.21875 \r\nL 18.3125 54.6875 \r\nL 36.8125 54.6875 \r\nL 36.8125 47.703125 \r\nL 18.3125 47.703125 \r\nL 18.3125 18.015625 \r\nQ 18.3125 11.328125 20.140625 9.421875 \r\nQ 21.96875 7.515625 27.59375 7.515625 \r\nL 36.8125 7.515625 \r\nL 36.8125 0 \r\nL 27.59375 0 \r\nQ 17.1875 0 13.234375 3.875 \r\nQ 9.28125 7.765625 9.28125 18.015625 \r\nL 9.28125 47.703125 \r\nL 2.6875 47.703125 \r\nL 2.6875 54.6875 \r\nL 9.28125 54.6875 \r\nL 9.28125 70.21875 \r\nz\r\n\" id=\"DejaVuSans-116\"/>\r\n       <path d=\"M 56.203125 29.59375 \r\nL 56.203125 25.203125 \r\nL 14.890625 25.203125 \r\nQ 15.484375 15.921875 20.484375 11.0625 \r\nQ 25.484375 6.203125 34.421875 6.203125 \r\nQ 39.59375 6.203125 44.453125 7.46875 \r\nQ 49.3125 8.734375 54.109375 11.28125 \r\nL 54.109375 2.78125 \r\nQ 49.265625 0.734375 44.1875 -0.34375 \r\nQ 39.109375 -1.421875 33.890625 -1.421875 \r\nQ 20.796875 -1.421875 13.15625 6.1875 \r\nQ 5.515625 13.8125 5.515625 26.8125 \r\nQ 5.515625 40.234375 12.765625 48.109375 \r\nQ 20.015625 56 32.328125 56 \r\nQ 43.359375 56 49.78125 48.890625 \r\nQ 56.203125 41.796875 56.203125 29.59375 \r\nz\r\nM 47.21875 32.234375 \r\nQ 47.125 39.59375 43.09375 43.984375 \r\nQ 39.0625 48.390625 32.421875 48.390625 \r\nQ 24.90625 48.390625 20.390625 44.140625 \r\nQ 15.875 39.890625 15.1875 32.171875 \r\nz\r\n\" id=\"DejaVuSans-101\"/>\r\n       <path d=\"M 45.40625 27.984375 \r\nQ 45.40625 37.75 41.375 43.109375 \r\nQ 37.359375 48.484375 30.078125 48.484375 \r\nQ 22.859375 48.484375 18.828125 43.109375 \r\nQ 14.796875 37.75 14.796875 27.984375 \r\nQ 14.796875 18.265625 18.828125 12.890625 \r\nQ 22.859375 7.515625 30.078125 7.515625 \r\nQ 37.359375 7.515625 41.375 12.890625 \r\nQ 45.40625 18.265625 45.40625 27.984375 \r\nz\r\nM 54.390625 6.78125 \r\nQ 54.390625 -7.171875 48.1875 -13.984375 \r\nQ 42 -20.796875 29.203125 -20.796875 \r\nQ 24.46875 -20.796875 20.265625 -20.09375 \r\nQ 16.0625 -19.390625 12.109375 -17.921875 \r\nL 12.109375 -9.1875 \r\nQ 16.0625 -11.328125 19.921875 -12.34375 \r\nQ 23.78125 -13.375 27.78125 -13.375 \r\nQ 36.625 -13.375 41.015625 -8.765625 \r\nQ 45.40625 -4.15625 45.40625 5.171875 \r\nL 45.40625 9.625 \r\nQ 42.625 4.78125 38.28125 2.390625 \r\nQ 33.9375 0 27.875 0 \r\nQ 17.828125 0 11.671875 7.65625 \r\nQ 5.515625 15.328125 5.515625 27.984375 \r\nQ 5.515625 40.671875 11.671875 48.328125 \r\nQ 17.828125 56 27.875 56 \r\nQ 33.9375 56 38.28125 53.609375 \r\nQ 42.625 51.21875 45.40625 46.390625 \r\nL 45.40625 54.6875 \r\nL 54.390625 54.6875 \r\nz\r\n\" id=\"DejaVuSans-103\"/>\r\n      </defs>\r\n      <use xlink:href=\"#DejaVuSans-114\"/>\r\n      <use x=\"41.113281\" xlink:href=\"#DejaVuSans-97\"/>\r\n      <use x=\"102.392578\" xlink:href=\"#DejaVuSans-110\"/>\r\n      <use x=\"165.771484\" xlink:href=\"#DejaVuSans-100\"/>\r\n      <use x=\"229.248047\" xlink:href=\"#DejaVuSans-111\"/>\r\n      <use x=\"290.429688\" xlink:href=\"#DejaVuSans-109\"/>\r\n      <use x=\"387.841797\" xlink:href=\"#DejaVuSans-32\"/>\r\n      <use x=\"419.628906\" xlink:href=\"#DejaVuSans-120\"/>\r\n      <use x=\"478.808594\" xlink:href=\"#DejaVuSans-32\"/>\r\n      <use x=\"510.595703\" xlink:href=\"#DejaVuSans-105\"/>\r\n      <use x=\"538.378906\" xlink:href=\"#DejaVuSans-110\"/>\r\n      <use x=\"601.757812\" xlink:href=\"#DejaVuSans-116\"/>\r\n      <use x=\"640.966797\" xlink:href=\"#DejaVuSans-101\"/>\r\n      <use x=\"702.490234\" xlink:href=\"#DejaVuSans-103\"/>\r\n      <use x=\"765.966797\" xlink:href=\"#DejaVuSans-101\"/>\r\n      <use x=\"827.490234\" xlink:href=\"#DejaVuSans-114\"/>\r\n     </g>\r\n    </g>\r\n   </g>\r\n   <g id=\"matplotlib.axis_2\">\r\n    <g id=\"ytick_1\">\r\n     <g id=\"line2d_7\">\r\n      <defs>\r\n       <path d=\"M 0 0 \r\nL -3.5 0 \r\n\" id=\"md7a7dfb009\" style=\"stroke:#000000;stroke-width:0.8;\"/>\r\n      </defs>\r\n      <g>\r\n       <use style=\"stroke:#000000;stroke-width:0.8;\" x=\"43.78125\" xlink:href=\"#md7a7dfb009\" y=\"228.439219\"/>\r\n      </g>\r\n     </g>\r\n     <g id=\"text_8\">\r\n      <!-- 0.0 -->\r\n      <g transform=\"translate(20.878125 232.238437)scale(0.1 -0.1)\">\r\n       <use xlink:href=\"#DejaVuSans-48\"/>\r\n       <use x=\"63.623047\" xlink:href=\"#DejaVuSans-46\"/>\r\n       <use x=\"95.410156\" xlink:href=\"#DejaVuSans-48\"/>\r\n      </g>\r\n     </g>\r\n    </g>\r\n    <g id=\"ytick_2\">\r\n     <g id=\"line2d_8\">\r\n      <g>\r\n       <use style=\"stroke:#000000;stroke-width:0.8;\" x=\"43.78125\" xlink:href=\"#md7a7dfb009\" y=\"184.951219\"/>\r\n      </g>\r\n     </g>\r\n     <g id=\"text_9\">\r\n      <!-- 0.2 -->\r\n      <g transform=\"translate(20.878125 188.750437)scale(0.1 -0.1)\">\r\n       <use xlink:href=\"#DejaVuSans-48\"/>\r\n       <use x=\"63.623047\" xlink:href=\"#DejaVuSans-46\"/>\r\n       <use x=\"95.410156\" xlink:href=\"#DejaVuSans-50\"/>\r\n      </g>\r\n     </g>\r\n    </g>\r\n    <g id=\"ytick_3\">\r\n     <g id=\"line2d_9\">\r\n      <g>\r\n       <use style=\"stroke:#000000;stroke-width:0.8;\" x=\"43.78125\" xlink:href=\"#md7a7dfb009\" y=\"141.463219\"/>\r\n      </g>\r\n     </g>\r\n     <g id=\"text_10\">\r\n      <!-- 0.4 -->\r\n      <g transform=\"translate(20.878125 145.262437)scale(0.1 -0.1)\">\r\n       <use xlink:href=\"#DejaVuSans-48\"/>\r\n       <use x=\"63.623047\" xlink:href=\"#DejaVuSans-46\"/>\r\n       <use x=\"95.410156\" xlink:href=\"#DejaVuSans-52\"/>\r\n      </g>\r\n     </g>\r\n    </g>\r\n    <g id=\"ytick_4\">\r\n     <g id=\"line2d_10\">\r\n      <g>\r\n       <use style=\"stroke:#000000;stroke-width:0.8;\" x=\"43.78125\" xlink:href=\"#md7a7dfb009\" y=\"97.975219\"/>\r\n      </g>\r\n     </g>\r\n     <g id=\"text_11\">\r\n      <!-- 0.6 -->\r\n      <g transform=\"translate(20.878125 101.774437)scale(0.1 -0.1)\">\r\n       <use xlink:href=\"#DejaVuSans-48\"/>\r\n       <use x=\"63.623047\" xlink:href=\"#DejaVuSans-46\"/>\r\n       <use x=\"95.410156\" xlink:href=\"#DejaVuSans-54\"/>\r\n      </g>\r\n     </g>\r\n    </g>\r\n    <g id=\"ytick_5\">\r\n     <g id=\"line2d_11\">\r\n      <g>\r\n       <use style=\"stroke:#000000;stroke-width:0.8;\" x=\"43.78125\" xlink:href=\"#md7a7dfb009\" y=\"54.487219\"/>\r\n      </g>\r\n     </g>\r\n     <g id=\"text_12\">\r\n      <!-- 0.8 -->\r\n      <g transform=\"translate(20.878125 58.286437)scale(0.1 -0.1)\">\r\n       <use xlink:href=\"#DejaVuSans-48\"/>\r\n       <use x=\"63.623047\" xlink:href=\"#DejaVuSans-46\"/>\r\n       <use x=\"95.410156\" xlink:href=\"#DejaVuSans-56\"/>\r\n      </g>\r\n     </g>\r\n    </g>\r\n    <g id=\"ytick_6\">\r\n     <g id=\"line2d_12\">\r\n      <g>\r\n       <use style=\"stroke:#000000;stroke-width:0.8;\" x=\"43.78125\" xlink:href=\"#md7a7dfb009\" y=\"10.999219\"/>\r\n      </g>\r\n     </g>\r\n     <g id=\"text_13\">\r\n      <!-- 1.0 -->\r\n      <g transform=\"translate(20.878125 14.798437)scale(0.1 -0.1)\">\r\n       <use xlink:href=\"#DejaVuSans-49\"/>\r\n       <use x=\"63.623047\" xlink:href=\"#DejaVuSans-46\"/>\r\n       <use x=\"95.410156\" xlink:href=\"#DejaVuSans-48\"/>\r\n      </g>\r\n     </g>\r\n    </g>\r\n    <g id=\"text_14\">\r\n     <!-- random y integer -->\r\n     <g transform=\"translate(14.798438 163.149687)rotate(-90)scale(0.1 -0.1)\">\r\n      <defs>\r\n       <path d=\"M 32.171875 -5.078125 \r\nQ 28.375 -14.84375 24.75 -17.8125 \r\nQ 21.140625 -20.796875 15.09375 -20.796875 \r\nL 7.90625 -20.796875 \r\nL 7.90625 -13.28125 \r\nL 13.1875 -13.28125 \r\nQ 16.890625 -13.28125 18.9375 -11.515625 \r\nQ 21 -9.765625 23.484375 -3.21875 \r\nL 25.09375 0.875 \r\nL 2.984375 54.6875 \r\nL 12.5 54.6875 \r\nL 29.59375 11.921875 \r\nL 46.6875 54.6875 \r\nL 56.203125 54.6875 \r\nz\r\n\" id=\"DejaVuSans-121\"/>\r\n      </defs>\r\n      <use xlink:href=\"#DejaVuSans-114\"/>\r\n      <use x=\"41.113281\" xlink:href=\"#DejaVuSans-97\"/>\r\n      <use x=\"102.392578\" xlink:href=\"#DejaVuSans-110\"/>\r\n      <use x=\"165.771484\" xlink:href=\"#DejaVuSans-100\"/>\r\n      <use x=\"229.248047\" xlink:href=\"#DejaVuSans-111\"/>\r\n      <use x=\"290.429688\" xlink:href=\"#DejaVuSans-109\"/>\r\n      <use x=\"387.841797\" xlink:href=\"#DejaVuSans-32\"/>\r\n      <use x=\"419.628906\" xlink:href=\"#DejaVuSans-121\"/>\r\n      <use x=\"478.808594\" xlink:href=\"#DejaVuSans-32\"/>\r\n      <use x=\"510.595703\" xlink:href=\"#DejaVuSans-105\"/>\r\n      <use x=\"538.378906\" xlink:href=\"#DejaVuSans-110\"/>\r\n      <use x=\"601.757812\" xlink:href=\"#DejaVuSans-116\"/>\r\n      <use x=\"640.966797\" xlink:href=\"#DejaVuSans-101\"/>\r\n      <use x=\"702.490234\" xlink:href=\"#DejaVuSans-103\"/>\r\n      <use x=\"765.966797\" xlink:href=\"#DejaVuSans-101\"/>\r\n      <use x=\"827.490234\" xlink:href=\"#DejaVuSans-114\"/>\r\n     </g>\r\n    </g>\r\n   </g>\r\n   <g id=\"patch_3\">\r\n    <path d=\"M 43.78125 228.439219 \r\nL 43.78125 10.999219 \r\n\" style=\"fill:none;stroke:#000000;stroke-linecap:square;stroke-linejoin:miter;stroke-width:0.8;\"/>\r\n   </g>\r\n   <g id=\"patch_4\">\r\n    <path d=\"M 378.58125 228.439219 \r\nL 378.58125 10.999219 \r\n\" style=\"fill:none;stroke:#000000;stroke-linecap:square;stroke-linejoin:miter;stroke-width:0.8;\"/>\r\n   </g>\r\n   <g id=\"patch_5\">\r\n    <path d=\"M 43.78125 228.439219 \r\nL 378.58125 228.439219 \r\n\" style=\"fill:none;stroke:#000000;stroke-linecap:square;stroke-linejoin:miter;stroke-width:0.8;\"/>\r\n   </g>\r\n   <g id=\"patch_6\">\r\n    <path d=\"M 43.78125 10.999219 \r\nL 378.58125 10.999219 \r\n\" style=\"fill:none;stroke:#000000;stroke-linecap:square;stroke-linejoin:miter;stroke-width:0.8;\"/>\r\n   </g>\r\n  </g>\r\n </g>\r\n</svg>\r\n",
      "image/png": "[encoded data removed]"
     },
     "metadata": {
      "needs_background": "light"
     }
    }
   ],
   "source": [
    "plt.xlabel('random x integer')\n",
    "plt.ylabel('random y integer')"
   ]
  },
  {
   "cell_type": "markdown",
   "metadata": {},
   "source": [
    "But where is the data? We need to add all of the changes to the graph we want to make *before* adding the plt.show or executing the cell (if the plot command is the last comand in that cell)"
   ]
  },
  {
   "cell_type": "code",
   "execution_count": 25,
   "metadata": {},
   "outputs": [
    {
     "output_type": "execute_result",
     "data": {
      "text/plain": [
       "Text(0, 0.5, 'random y integer')"
      ]
     },
     "metadata": {},
     "execution_count": 25
    },
    {
     "output_type": "display_data",
     "data": {
      "text/plain": "<Figure size 432x288 with 1 Axes>",
      "image/svg+xml": "<?xml version=\"1.0\" encoding=\"utf-8\" standalone=\"no\"?>\r\n<!DOCTYPE svg PUBLIC \"-//W3C//DTD SVG 1.1//EN\"\r\n  \"http://www.w3.org/Graphics/SVG/1.1/DTD/svg11.dtd\">\r\n<!-- Created with matplotlib (https://matplotlib.org/) -->\r\n<svg height=\"267.035312pt\" version=\"1.1\" viewBox=\"0 0 393.804688 267.035312\" width=\"393.804688pt\" xmlns=\"http://www.w3.org/2000/svg\" xmlns:xlink=\"http://www.w3.org/1999/xlink\">\r\n <metadata>\r\n  <rdf:RDF xmlns:cc=\"http://creativecommons.org/ns#\" xmlns:dc=\"http://purl.org/dc/elements/1.1/\" xmlns:rdf=\"http://www.w3.org/1999/02/22-rdf-syntax-ns#\">\r\n   <cc:Work>\r\n    <dc:type rdf:resource=\"http://purl.org/dc/dcmitype/StillImage\"/>\r\n    <dc:date>2021-03-20T03:10:08.037812</dc:date>\r\n    <dc:format>image/svg+xml</dc:format>\r\n    <dc:creator>\r\n     <cc:Agent>\r\n      <dc:title>Matplotlib v3.3.4, https://matplotlib.org/</dc:title>\r\n     </cc:Agent>\r\n    </dc:creator>\r\n   </cc:Work>\r\n  </rdf:RDF>\r\n </metadata>\r\n <defs>\r\n  <style type=\"text/css\">*{stroke-linecap:butt;stroke-linejoin:round;}</style>\r\n </defs>\r\n <g id=\"figure_1\">\r\n  <g id=\"patch_1\">\r\n   <path d=\"M 0 267.035312 \r\nL 393.804688 267.035312 \r\nL 393.804688 0 \r\nL 0 0 \r\nz\r\n\" style=\"fill:none;\"/>\r\n  </g>\r\n  <g id=\"axes_1\">\r\n   <g id=\"patch_2\">\r\n    <path d=\"M 51.804688 224.64 \r\nL 386.604688 224.64 \r\nL 386.604688 7.2 \r\nL 51.804688 7.2 \r\nz\r\n\" style=\"fill:#ffffff;\"/>\r\n   </g>\r\n   <g id=\"PathCollection_1\">\r\n    <defs>\r\n     <path d=\"M 0 3 \r\nC 0.795609 3 1.55874 2.683901 2.12132 2.12132 \r\nC 2.683901 1.55874 3 0.795609 3 0 \r\nC 3 -0.795609 2.683901 -1.55874 2.12132 -2.12132 \r\nC 1.55874 -2.683901 0.795609 -3 0 -3 \r\nC -0.795609 -3 -1.55874 -2.683901 -2.12132 -2.12132 \r\nC -2.683901 -1.55874 -3 -0.795609 -3 0 \r\nC -3 0.795609 -2.683901 1.55874 -2.12132 2.12132 \r\nC -1.55874 2.683901 -0.795609 3 0 3 \r\nz\r\n\" id=\"m2fefc6b080\" style=\"stroke:#1f77b4;\"/>\r\n    </defs>\r\n    <g clip-path=\"url(#p4092d18125)\">\r\n     <use style=\"fill:#1f77b4;stroke:#1f77b4;\" x=\"248.411299\" xlink:href=\"#m2fefc6b080\" y=\"89.038126\"/>\r\n     <use style=\"fill:#1f77b4;stroke:#1f77b4;\" x=\"309.898902\" xlink:href=\"#m2fefc6b080\" y=\"60.741417\"/>\r\n     <use style=\"fill:#1f77b4;stroke:#1f77b4;\" x=\"88.54353\" xlink:href=\"#m2fefc6b080\" y=\"185.651177\"/>\r\n     <use style=\"fill:#1f77b4;stroke:#1f77b4;\" x=\"125.436092\" xlink:href=\"#m2fefc6b080\" y=\"63.571088\"/>\r\n     <use style=\"fill:#1f77b4;stroke:#1f77b4;\" x=\"257.63444\" xlink:href=\"#m2fefc6b080\" y=\"133.100145\"/>\r\n     <use style=\"fill:#1f77b4;stroke:#1f77b4;\" x=\"346.791464\" xlink:href=\"#m2fefc6b080\" y=\"118.547552\"/>\r\n     <use style=\"fill:#1f77b4;stroke:#1f77b4;\" x=\"346.791464\" xlink:href=\"#m2fefc6b080\" y=\"18.700591\"/>\r\n     <use style=\"fill:#1f77b4;stroke:#1f77b4;\" x=\"180.774935\" xlink:href=\"#m2fefc6b080\" y=\"106.016152\"/>\r\n     <use style=\"fill:#1f77b4;stroke:#1f77b4;\" x=\"134.659233\" xlink:href=\"#m2fefc6b080\" y=\"201.012248\"/>\r\n     <use style=\"fill:#1f77b4;stroke:#1f77b4;\" x=\"266.85758\" xlink:href=\"#m2fefc6b080\" y=\"94.293229\"/>\r\n     <use style=\"fill:#1f77b4;stroke:#1f77b4;\" x=\"359.088985\" xlink:href=\"#m2fefc6b080\" y=\"25.572649\"/>\r\n     <use style=\"fill:#1f77b4;stroke:#1f77b4;\" x=\"257.63444\" xlink:href=\"#m2fefc6b080\" y=\"175.949448\"/>\r\n     <use style=\"fill:#1f77b4;stroke:#1f77b4;\" x=\"331.419564\" xlink:href=\"#m2fefc6b080\" y=\"103.186481\"/>\r\n     <use style=\"fill:#1f77b4;stroke:#1f77b4;\" x=\"168.477415\" xlink:href=\"#m2fefc6b080\" y=\"17.487875\"/>\r\n     <use style=\"fill:#1f77b4;stroke:#1f77b4;\" x=\"122.361712\" xlink:href=\"#m2fefc6b080\" y=\"188.480848\"/>\r\n     <use style=\"fill:#1f77b4;stroke:#1f77b4;\" x=\"266.85758\" xlink:href=\"#m2fefc6b080\" y=\"152.907842\"/>\r\n     <use style=\"fill:#1f77b4;stroke:#1f77b4;\" x=\"140.807993\" xlink:href=\"#m2fefc6b080\" y=\"168.673151\"/>\r\n     <use style=\"fill:#1f77b4;stroke:#1f77b4;\" x=\"128.510473\" xlink:href=\"#m2fefc6b080\" y=\"34.870139\"/>\r\n     <use style=\"fill:#1f77b4;stroke:#1f77b4;\" x=\"217.667497\" xlink:href=\"#m2fefc6b080\" y=\"45.380346\"/>\r\n     <use style=\"fill:#1f77b4;stroke:#1f77b4;\" x=\"110.064192\" xlink:href=\"#m2fefc6b080\" y=\"91.05932\"/>\r\n     <use style=\"fill:#1f77b4;stroke:#1f77b4;\" x=\"328.345183\" xlink:href=\"#m2fefc6b080\" y=\"90.250842\"/>\r\n     <use style=\"fill:#1f77b4;stroke:#1f77b4;\" x=\"73.17163\" xlink:href=\"#m2fefc6b080\" y=\"214.756364\"/>\r\n     <use style=\"fill:#1f77b4;stroke:#1f77b4;\" x=\"257.63444\" xlink:href=\"#m2fefc6b080\" y=\"135.929816\"/>\r\n     <use style=\"fill:#1f77b4;stroke:#1f77b4;\" x=\"328.345183\" xlink:href=\"#m2fefc6b080\" y=\"165.035003\"/>\r\n     <use style=\"fill:#1f77b4;stroke:#1f77b4;\" x=\"349.865845\" xlink:href=\"#m2fefc6b080\" y=\"17.083636\"/>\r\n     <use style=\"fill:#1f77b4;stroke:#1f77b4;\" x=\"371.386506\" xlink:href=\"#m2fefc6b080\" y=\"162.609571\"/>\r\n     <use style=\"fill:#1f77b4;stroke:#1f77b4;\" x=\"165.403035\" xlink:href=\"#m2fefc6b080\" y=\"53.869359\"/>\r\n     <use style=\"fill:#1f77b4;stroke:#1f77b4;\" x=\"85.46915\" xlink:href=\"#m2fefc6b080\" y=\"59.124462\"/>\r\n     <use style=\"fill:#1f77b4;stroke:#1f77b4;\" x=\"125.436092\" xlink:href=\"#m2fefc6b080\" y=\"38.912526\"/>\r\n     <use style=\"fill:#1f77b4;stroke:#1f77b4;\" x=\"150.031134\" xlink:href=\"#m2fefc6b080\" y=\"20.317546\"/>\r\n     <use style=\"fill:#1f77b4;stroke:#1f77b4;\" x=\"168.477415\" xlink:href=\"#m2fefc6b080\" y=\"40.529481\"/>\r\n     <use style=\"fill:#1f77b4;stroke:#1f77b4;\" x=\"365.237745\" xlink:href=\"#m2fefc6b080\" y=\"74.081294\"/>\r\n     <use style=\"fill:#1f77b4;stroke:#1f77b4;\" x=\"183.849316\" xlink:href=\"#m2fefc6b080\" y=\"66.400759\"/>\r\n     <use style=\"fill:#1f77b4;stroke:#1f77b4;\" x=\"263.7832\" xlink:href=\"#m2fefc6b080\" y=\"196.969861\"/>\r\n     <use style=\"fill:#1f77b4;stroke:#1f77b4;\" x=\"128.510473\" xlink:href=\"#m2fefc6b080\" y=\"145.227306\"/>\r\n     <use style=\"fill:#1f77b4;stroke:#1f77b4;\" x=\"208.444357\" xlink:href=\"#m2fefc6b080\" y=\"29.210798\"/>\r\n     <use style=\"fill:#1f77b4;stroke:#1f77b4;\" x=\"297.601382\" xlink:href=\"#m2fefc6b080\" y=\"103.590719\"/>\r\n     <use style=\"fill:#1f77b4;stroke:#1f77b4;\" x=\"300.675762\" xlink:href=\"#m2fefc6b080\" y=\"184.034222\"/>\r\n     <use style=\"fill:#1f77b4;stroke:#1f77b4;\" x=\"349.865845\" xlink:href=\"#m2fefc6b080\" y=\"43.763391\"/>\r\n     <use style=\"fill:#1f77b4;stroke:#1f77b4;\" x=\"156.179894\" xlink:href=\"#m2fefc6b080\" y=\"65.188042\"/>\r\n     <use style=\"fill:#1f77b4;stroke:#1f77b4;\" x=\"82.39477\" xlink:href=\"#m2fefc6b080\" y=\"74.081294\"/>\r\n     <use style=\"fill:#1f77b4;stroke:#1f77b4;\" x=\"223.816258\" xlink:href=\"#m2fefc6b080\" y=\"210.309738\"/>\r\n     <use style=\"fill:#1f77b4;stroke:#1f77b4;\" x=\"67.022869\" xlink:href=\"#m2fefc6b080\" y=\"129.057758\"/>\r\n     <use style=\"fill:#1f77b4;stroke:#1f77b4;\" x=\"85.46915\" xlink:href=\"#m2fefc6b080\" y=\"133.100145\"/>\r\n     <use style=\"fill:#1f77b4;stroke:#1f77b4;\" x=\"91.617911\" xlink:href=\"#m2fefc6b080\" y=\"126.632326\"/>\r\n     <use style=\"fill:#1f77b4;stroke:#1f77b4;\" x=\"110.064192\" xlink:href=\"#m2fefc6b080\" y=\"184.438461\"/>\r\n     <use style=\"fill:#1f77b4;stroke:#1f77b4;\" x=\"91.617911\" xlink:href=\"#m2fefc6b080\" y=\"74.485533\"/>\r\n     <use style=\"fill:#1f77b4;stroke:#1f77b4;\" x=\"171.551795\" xlink:href=\"#m2fefc6b080\" y=\"99.144094\"/>\r\n     <use style=\"fill:#1f77b4;stroke:#1f77b4;\" x=\"343.717084\" xlink:href=\"#m2fefc6b080\" y=\"121.377223\"/>\r\n     <use style=\"fill:#1f77b4;stroke:#1f77b4;\" x=\"131.584853\" xlink:href=\"#m2fefc6b080\" y=\"173.119777\"/>\r\n     <use style=\"fill:#1f77b4;stroke:#1f77b4;\" x=\"177.700555\" xlink:href=\"#m2fefc6b080\" y=\"100.761049\"/>\r\n     <use style=\"fill:#1f77b4;stroke:#1f77b4;\" x=\"325.270803\" xlink:href=\"#m2fefc6b080\" y=\"25.16841\"/>\r\n     <use style=\"fill:#1f77b4;stroke:#1f77b4;\" x=\"273.00634\" xlink:href=\"#m2fefc6b080\" y=\"150.886648\"/>\r\n     <use style=\"fill:#1f77b4;stroke:#1f77b4;\" x=\"220.741878\" xlink:href=\"#m2fefc6b080\" y=\"171.502822\"/>\r\n     <use style=\"fill:#1f77b4;stroke:#1f77b4;\" x=\"76.24601\" xlink:href=\"#m2fefc6b080\" y=\"51.848165\"/>\r\n     <use style=\"fill:#1f77b4;stroke:#1f77b4;\" x=\"251.485679\" xlink:href=\"#m2fefc6b080\" y=\"97.1229\"/>\r\n     <use style=\"fill:#1f77b4;stroke:#1f77b4;\" x=\"186.923696\" xlink:href=\"#m2fefc6b080\" y=\"78.52792\"/>\r\n     <use style=\"fill:#1f77b4;stroke:#1f77b4;\" x=\"205.369977\" xlink:href=\"#m2fefc6b080\" y=\"183.629983\"/>\r\n     <use style=\"fill:#1f77b4;stroke:#1f77b4;\" x=\"365.237745\" xlink:href=\"#m2fefc6b080\" y=\"67.209236\"/>\r\n     <use style=\"fill:#1f77b4;stroke:#1f77b4;\" x=\"103.915431\" xlink:href=\"#m2fefc6b080\" y=\"47.401539\"/>\r\n     <use style=\"fill:#1f77b4;stroke:#1f77b4;\" x=\"162.328654\" xlink:href=\"#m2fefc6b080\" y=\"39.316765\"/>\r\n     <use style=\"fill:#1f77b4;stroke:#1f77b4;\" x=\"343.717084\" xlink:href=\"#m2fefc6b080\" y=\"34.870139\"/>\r\n     <use style=\"fill:#1f77b4;stroke:#1f77b4;\" x=\"199.221216\" xlink:href=\"#m2fefc6b080\" y=\"152.503603\"/>\r\n     <use style=\"fill:#1f77b4;stroke:#1f77b4;\" x=\"236.113778\" xlink:href=\"#m2fefc6b080\" y=\"21.934501\"/>\r\n     <use style=\"fill:#1f77b4;stroke:#1f77b4;\" x=\"97.766671\" xlink:href=\"#m2fefc6b080\" y=\"190.502041\"/>\r\n     <use style=\"fill:#1f77b4;stroke:#1f77b4;\" x=\"82.39477\" xlink:href=\"#m2fefc6b080\" y=\"183.629983\"/>\r\n     <use style=\"fill:#1f77b4;stroke:#1f77b4;\" x=\"334.493944\" xlink:href=\"#m2fefc6b080\" y=\"20.721785\"/>\r\n     <use style=\"fill:#1f77b4;stroke:#1f77b4;\" x=\"371.386506\" xlink:href=\"#m2fefc6b080\" y=\"77.315204\"/>\r\n     <use style=\"fill:#1f77b4;stroke:#1f77b4;\" x=\"177.700555\" xlink:href=\"#m2fefc6b080\" y=\"28.806559\"/>\r\n     <use style=\"fill:#1f77b4;stroke:#1f77b4;\" x=\"291.452621\" xlink:href=\"#m2fefc6b080\" y=\"142.397635\"/>\r\n     <use style=\"fill:#1f77b4;stroke:#1f77b4;\" x=\"337.568324\" xlink:href=\"#m2fefc6b080\" y=\"40.529481\"/>\r\n     <use style=\"fill:#1f77b4;stroke:#1f77b4;\" x=\"260.70882\" xlink:href=\"#m2fefc6b080\" y=\"59.932939\"/>\r\n     <use style=\"fill:#1f77b4;stroke:#1f77b4;\" x=\"223.816258\" xlink:href=\"#m2fefc6b080\" y=\"51.443926\"/>\r\n     <use style=\"fill:#1f77b4;stroke:#1f77b4;\" x=\"125.436092\" xlink:href=\"#m2fefc6b080\" y=\"88.633887\"/>\r\n     <use style=\"fill:#1f77b4;stroke:#1f77b4;\" x=\"239.188159\" xlink:href=\"#m2fefc6b080\" y=\"53.869359\"/>\r\n     <use style=\"fill:#1f77b4;stroke:#1f77b4;\" x=\"226.890638\" xlink:href=\"#m2fefc6b080\" y=\"22.742978\"/>\r\n     <use style=\"fill:#1f77b4;stroke:#1f77b4;\" x=\"156.179894\" xlink:href=\"#m2fefc6b080\" y=\"91.05932\"/>\r\n     <use style=\"fill:#1f77b4;stroke:#1f77b4;\" x=\"251.485679\" xlink:href=\"#m2fefc6b080\" y=\"207.075828\"/>\r\n     <use style=\"fill:#1f77b4;stroke:#1f77b4;\" x=\"254.560059\" xlink:href=\"#m2fefc6b080\" y=\"67.613475\"/>\r\n     <use style=\"fill:#1f77b4;stroke:#1f77b4;\" x=\"150.031134\" xlink:href=\"#m2fefc6b080\" y=\"133.504384\"/>\r\n     <use style=\"fill:#1f77b4;stroke:#1f77b4;\" x=\"137.733613\" xlink:href=\"#m2fefc6b080\" y=\"163.418048\"/>\r\n     <use style=\"fill:#1f77b4;stroke:#1f77b4;\" x=\"276.080721\" xlink:href=\"#m2fefc6b080\" y=\"152.907842\"/>\r\n     <use style=\"fill:#1f77b4;stroke:#1f77b4;\" x=\"143.882373\" xlink:href=\"#m2fefc6b080\" y=\"106.016152\"/>\r\n     <use style=\"fill:#1f77b4;stroke:#1f77b4;\" x=\"177.700555\" xlink:href=\"#m2fefc6b080\" y=\"59.932939\"/>\r\n     <use style=\"fill:#1f77b4;stroke:#1f77b4;\" x=\"322.196423\" xlink:href=\"#m2fefc6b080\" y=\"201.820725\"/>\r\n     <use style=\"fill:#1f77b4;stroke:#1f77b4;\" x=\"300.675762\" xlink:href=\"#m2fefc6b080\" y=\"62.358371\"/>\r\n     <use style=\"fill:#1f77b4;stroke:#1f77b4;\" x=\"91.617911\" xlink:href=\"#m2fefc6b080\" y=\"73.677055\"/>\r\n     <use style=\"fill:#1f77b4;stroke:#1f77b4;\" x=\"297.601382\" xlink:href=\"#m2fefc6b080\" y=\"184.842699\"/>\r\n     <use style=\"fill:#1f77b4;stroke:#1f77b4;\" x=\"168.477415\" xlink:href=\"#m2fefc6b080\" y=\"196.565622\"/>\r\n     <use style=\"fill:#1f77b4;stroke:#1f77b4;\" x=\"316.047663\" xlink:href=\"#m2fefc6b080\" y=\"146.844261\"/>\r\n     <use style=\"fill:#1f77b4;stroke:#1f77b4;\" x=\"343.717084\" xlink:href=\"#m2fefc6b080\" y=\"181.60879\"/>\r\n     <use style=\"fill:#1f77b4;stroke:#1f77b4;\" x=\"242.262539\" xlink:href=\"#m2fefc6b080\" y=\"207.480067\"/>\r\n     <use style=\"fill:#1f77b4;stroke:#1f77b4;\" x=\"319.122043\" xlink:href=\"#m2fefc6b080\" y=\"86.612694\"/>\r\n     <use style=\"fill:#1f77b4;stroke:#1f77b4;\" x=\"282.229481\" xlink:href=\"#m2fefc6b080\" y=\"49.018494\"/>\r\n     <use style=\"fill:#1f77b4;stroke:#1f77b4;\" x=\"254.560059\" xlink:href=\"#m2fefc6b080\" y=\"177.970641\"/>\r\n     <use style=\"fill:#1f77b4;stroke:#1f77b4;\" x=\"303.750142\" xlink:href=\"#m2fefc6b080\" y=\"60.337178\"/>\r\n     <use style=\"fill:#1f77b4;stroke:#1f77b4;\" x=\"140.807993\" xlink:href=\"#m2fefc6b080\" y=\"198.991054\"/>\r\n     <use style=\"fill:#1f77b4;stroke:#1f77b4;\" x=\"199.221216\" xlink:href=\"#m2fefc6b080\" y=\"160.992616\"/>\r\n     <use style=\"fill:#1f77b4;stroke:#1f77b4;\" x=\"239.188159\" xlink:href=\"#m2fefc6b080\" y=\"162.205332\"/>\r\n     <use style=\"fill:#1f77b4;stroke:#1f77b4;\" x=\"97.766671\" xlink:href=\"#m2fefc6b080\" y=\"184.842699\"/>\r\n    </g>\r\n   </g>\r\n   <g id=\"matplotlib.axis_1\">\r\n    <g id=\"xtick_1\">\r\n     <g id=\"line2d_1\">\r\n      <defs>\r\n       <path d=\"M 0 0 \r\nL 0 3.5 \r\n\" id=\"m410fcddf77\" style=\"stroke:#000000;stroke-width:0.8;\"/>\r\n      </defs>\r\n      <g>\r\n       <use style=\"stroke:#000000;stroke-width:0.8;\" x=\"67.022869\" xlink:href=\"#m410fcddf77\" y=\"224.64\"/>\r\n      </g>\r\n     </g>\r\n     <g id=\"text_1\">\r\n      <!-- 0 -->\r\n      <g transform=\"translate(63.841619 239.238437)scale(0.1 -0.1)\">\r\n       <defs>\r\n        <path d=\"M 31.78125 66.40625 \r\nQ 24.171875 66.40625 20.328125 58.90625 \r\nQ 16.5 51.421875 16.5 36.375 \r\nQ 16.5 21.390625 20.328125 13.890625 \r\nQ 24.171875 6.390625 31.78125 6.390625 \r\nQ 39.453125 6.390625 43.28125 13.890625 \r\nQ 47.125 21.390625 47.125 36.375 \r\nQ 47.125 51.421875 43.28125 58.90625 \r\nQ 39.453125 66.40625 31.78125 66.40625 \r\nz\r\nM 31.78125 74.21875 \r\nQ 44.046875 74.21875 50.515625 64.515625 \r\nQ 56.984375 54.828125 56.984375 36.375 \r\nQ 56.984375 17.96875 50.515625 8.265625 \r\nQ 44.046875 -1.421875 31.78125 -1.421875 \r\nQ 19.53125 -1.421875 13.0625 8.265625 \r\nQ 6.59375 17.96875 6.59375 36.375 \r\nQ 6.59375 54.828125 13.0625 64.515625 \r\nQ 19.53125 74.21875 31.78125 74.21875 \r\nz\r\n\" id=\"DejaVuSans-48\"/>\r\n       </defs>\r\n       <use xlink:href=\"#DejaVuSans-48\"/>\r\n      </g>\r\n     </g>\r\n    </g>\r\n    <g id=\"xtick_2\">\r\n     <g id=\"line2d_2\">\r\n      <g>\r\n       <use style=\"stroke:#000000;stroke-width:0.8;\" x=\"128.510473\" xlink:href=\"#m410fcddf77\" y=\"224.64\"/>\r\n      </g>\r\n     </g>\r\n     <g id=\"text_2\">\r\n      <!-- 20 -->\r\n      <g transform=\"translate(122.147973 239.238437)scale(0.1 -0.1)\">\r\n       <defs>\r\n        <path d=\"M 19.1875 8.296875 \r\nL 53.609375 8.296875 \r\nL 53.609375 0 \r\nL 7.328125 0 \r\nL 7.328125 8.296875 \r\nQ 12.9375 14.109375 22.625 23.890625 \r\nQ 32.328125 33.6875 34.8125 36.53125 \r\nQ 39.546875 41.84375 41.421875 45.53125 \r\nQ 43.3125 49.21875 43.3125 52.78125 \r\nQ 43.3125 58.59375 39.234375 62.25 \r\nQ 35.15625 65.921875 28.609375 65.921875 \r\nQ 23.96875 65.921875 18.8125 64.3125 \r\nQ 13.671875 62.703125 7.8125 59.421875 \r\nL 7.8125 69.390625 \r\nQ 13.765625 71.78125 18.9375 73 \r\nQ 24.125 74.21875 28.421875 74.21875 \r\nQ 39.75 74.21875 46.484375 68.546875 \r\nQ 53.21875 62.890625 53.21875 53.421875 \r\nQ 53.21875 48.921875 51.53125 44.890625 \r\nQ 49.859375 40.875 45.40625 35.40625 \r\nQ 44.1875 33.984375 37.640625 27.21875 \r\nQ 31.109375 20.453125 19.1875 8.296875 \r\nz\r\n\" id=\"DejaVuSans-50\"/>\r\n       </defs>\r\n       <use xlink:href=\"#DejaVuSans-50\"/>\r\n       <use x=\"63.623047\" xlink:href=\"#DejaVuSans-48\"/>\r\n      </g>\r\n     </g>\r\n    </g>\r\n    <g id=\"xtick_3\">\r\n     <g id=\"line2d_3\">\r\n      <g>\r\n       <use style=\"stroke:#000000;stroke-width:0.8;\" x=\"189.998076\" xlink:href=\"#m410fcddf77\" y=\"224.64\"/>\r\n      </g>\r\n     </g>\r\n     <g id=\"text_3\">\r\n      <!-- 40 -->\r\n      <g transform=\"translate(183.635576 239.238437)scale(0.1 -0.1)\">\r\n       <defs>\r\n        <path d=\"M 37.796875 64.3125 \r\nL 12.890625 25.390625 \r\nL 37.796875 25.390625 \r\nz\r\nM 35.203125 72.90625 \r\nL 47.609375 72.90625 \r\nL 47.609375 25.390625 \r\nL 58.015625 25.390625 \r\nL 58.015625 17.1875 \r\nL 47.609375 17.1875 \r\nL 47.609375 0 \r\nL 37.796875 0 \r\nL 37.796875 17.1875 \r\nL 4.890625 17.1875 \r\nL 4.890625 26.703125 \r\nz\r\n\" id=\"DejaVuSans-52\"/>\r\n       </defs>\r\n       <use xlink:href=\"#DejaVuSans-52\"/>\r\n       <use x=\"63.623047\" xlink:href=\"#DejaVuSans-48\"/>\r\n      </g>\r\n     </g>\r\n    </g>\r\n    <g id=\"xtick_4\">\r\n     <g id=\"line2d_4\">\r\n      <g>\r\n       <use style=\"stroke:#000000;stroke-width:0.8;\" x=\"251.485679\" xlink:href=\"#m410fcddf77\" y=\"224.64\"/>\r\n      </g>\r\n     </g>\r\n     <g id=\"text_4\">\r\n      <!-- 60 -->\r\n      <g transform=\"translate(245.123179 239.238437)scale(0.1 -0.1)\">\r\n       <defs>\r\n        <path d=\"M 33.015625 40.375 \r\nQ 26.375 40.375 22.484375 35.828125 \r\nQ 18.609375 31.296875 18.609375 23.390625 \r\nQ 18.609375 15.53125 22.484375 10.953125 \r\nQ 26.375 6.390625 33.015625 6.390625 \r\nQ 39.65625 6.390625 43.53125 10.953125 \r\nQ 47.40625 15.53125 47.40625 23.390625 \r\nQ 47.40625 31.296875 43.53125 35.828125 \r\nQ 39.65625 40.375 33.015625 40.375 \r\nz\r\nM 52.59375 71.296875 \r\nL 52.59375 62.3125 \r\nQ 48.875 64.0625 45.09375 64.984375 \r\nQ 41.3125 65.921875 37.59375 65.921875 \r\nQ 27.828125 65.921875 22.671875 59.328125 \r\nQ 17.53125 52.734375 16.796875 39.40625 \r\nQ 19.671875 43.65625 24.015625 45.921875 \r\nQ 28.375 48.1875 33.59375 48.1875 \r\nQ 44.578125 48.1875 50.953125 41.515625 \r\nQ 57.328125 34.859375 57.328125 23.390625 \r\nQ 57.328125 12.15625 50.6875 5.359375 \r\nQ 44.046875 -1.421875 33.015625 -1.421875 \r\nQ 20.359375 -1.421875 13.671875 8.265625 \r\nQ 6.984375 17.96875 6.984375 36.375 \r\nQ 6.984375 53.65625 15.1875 63.9375 \r\nQ 23.390625 74.21875 37.203125 74.21875 \r\nQ 40.921875 74.21875 44.703125 73.484375 \r\nQ 48.484375 72.75 52.59375 71.296875 \r\nz\r\n\" id=\"DejaVuSans-54\"/>\r\n       </defs>\r\n       <use xlink:href=\"#DejaVuSans-54\"/>\r\n       <use x=\"63.623047\" xlink:href=\"#DejaVuSans-48\"/>\r\n      </g>\r\n     </g>\r\n    </g>\r\n    <g id=\"xtick_5\">\r\n     <g id=\"line2d_5\">\r\n      <g>\r\n       <use style=\"stroke:#000000;stroke-width:0.8;\" x=\"312.973283\" xlink:href=\"#m410fcddf77\" y=\"224.64\"/>\r\n      </g>\r\n     </g>\r\n     <g id=\"text_5\">\r\n      <!-- 80 -->\r\n      <g transform=\"translate(306.610783 239.238437)scale(0.1 -0.1)\">\r\n       <defs>\r\n        <path d=\"M 31.78125 34.625 \r\nQ 24.75 34.625 20.71875 30.859375 \r\nQ 16.703125 27.09375 16.703125 20.515625 \r\nQ 16.703125 13.921875 20.71875 10.15625 \r\nQ 24.75 6.390625 31.78125 6.390625 \r\nQ 38.8125 6.390625 42.859375 10.171875 \r\nQ 46.921875 13.96875 46.921875 20.515625 \r\nQ 46.921875 27.09375 42.890625 30.859375 \r\nQ 38.875 34.625 31.78125 34.625 \r\nz\r\nM 21.921875 38.8125 \r\nQ 15.578125 40.375 12.03125 44.71875 \r\nQ 8.5 49.078125 8.5 55.328125 \r\nQ 8.5 64.0625 14.71875 69.140625 \r\nQ 20.953125 74.21875 31.78125 74.21875 \r\nQ 42.671875 74.21875 48.875 69.140625 \r\nQ 55.078125 64.0625 55.078125 55.328125 \r\nQ 55.078125 49.078125 51.53125 44.71875 \r\nQ 48 40.375 41.703125 38.8125 \r\nQ 48.828125 37.15625 52.796875 32.3125 \r\nQ 56.78125 27.484375 56.78125 20.515625 \r\nQ 56.78125 9.90625 50.3125 4.234375 \r\nQ 43.84375 -1.421875 31.78125 -1.421875 \r\nQ 19.734375 -1.421875 13.25 4.234375 \r\nQ 6.78125 9.90625 6.78125 20.515625 \r\nQ 6.78125 27.484375 10.78125 32.3125 \r\nQ 14.796875 37.15625 21.921875 38.8125 \r\nz\r\nM 18.3125 54.390625 \r\nQ 18.3125 48.734375 21.84375 45.5625 \r\nQ 25.390625 42.390625 31.78125 42.390625 \r\nQ 38.140625 42.390625 41.71875 45.5625 \r\nQ 45.3125 48.734375 45.3125 54.390625 \r\nQ 45.3125 60.0625 41.71875 63.234375 \r\nQ 38.140625 66.40625 31.78125 66.40625 \r\nQ 25.390625 66.40625 21.84375 63.234375 \r\nQ 18.3125 60.0625 18.3125 54.390625 \r\nz\r\n\" id=\"DejaVuSans-56\"/>\r\n       </defs>\r\n       <use xlink:href=\"#DejaVuSans-56\"/>\r\n       <use x=\"63.623047\" xlink:href=\"#DejaVuSans-48\"/>\r\n      </g>\r\n     </g>\r\n    </g>\r\n    <g id=\"xtick_6\">\r\n     <g id=\"line2d_6\">\r\n      <g>\r\n       <use style=\"stroke:#000000;stroke-width:0.8;\" x=\"374.460886\" xlink:href=\"#m410fcddf77\" y=\"224.64\"/>\r\n      </g>\r\n     </g>\r\n     <g id=\"text_6\">\r\n      <!-- 100 -->\r\n      <g transform=\"translate(364.917136 239.238437)scale(0.1 -0.1)\">\r\n       <defs>\r\n        <path d=\"M 12.40625 8.296875 \r\nL 28.515625 8.296875 \r\nL 28.515625 63.921875 \r\nL 10.984375 60.40625 \r\nL 10.984375 69.390625 \r\nL 28.421875 72.90625 \r\nL 38.28125 72.90625 \r\nL 38.28125 8.296875 \r\nL 54.390625 8.296875 \r\nL 54.390625 0 \r\nL 12.40625 0 \r\nz\r\n\" id=\"DejaVuSans-49\"/>\r\n       </defs>\r\n       <use xlink:href=\"#DejaVuSans-49\"/>\r\n       <use x=\"63.623047\" xlink:href=\"#DejaVuSans-48\"/>\r\n       <use x=\"127.246094\" xlink:href=\"#DejaVuSans-48\"/>\r\n      </g>\r\n     </g>\r\n    </g>\r\n    <g id=\"text_7\">\r\n     <!-- random x integer -->\r\n     <g transform=\"translate(154.058984 256.715781)scale(0.15 -0.15)\">\r\n      <defs>\r\n       <path d=\"M 41.109375 46.296875 \r\nQ 39.59375 47.171875 37.8125 47.578125 \r\nQ 36.03125 48 33.890625 48 \r\nQ 26.265625 48 22.1875 43.046875 \r\nQ 18.109375 38.09375 18.109375 28.8125 \r\nL 18.109375 0 \r\nL 9.078125 0 \r\nL 9.078125 54.6875 \r\nL 18.109375 54.6875 \r\nL 18.109375 46.1875 \r\nQ 20.953125 51.171875 25.484375 53.578125 \r\nQ 30.03125 56 36.53125 56 \r\nQ 37.453125 56 38.578125 55.875 \r\nQ 39.703125 55.765625 41.0625 55.515625 \r\nz\r\n\" id=\"DejaVuSans-114\"/>\r\n       <path d=\"M 34.28125 27.484375 \r\nQ 23.390625 27.484375 19.1875 25 \r\nQ 14.984375 22.515625 14.984375 16.5 \r\nQ 14.984375 11.71875 18.140625 8.90625 \r\nQ 21.296875 6.109375 26.703125 6.109375 \r\nQ 34.1875 6.109375 38.703125 11.40625 \r\nQ 43.21875 16.703125 43.21875 25.484375 \r\nL 43.21875 27.484375 \r\nz\r\nM 52.203125 31.203125 \r\nL 52.203125 0 \r\nL 43.21875 0 \r\nL 43.21875 8.296875 \r\nQ 40.140625 3.328125 35.546875 0.953125 \r\nQ 30.953125 -1.421875 24.3125 -1.421875 \r\nQ 15.921875 -1.421875 10.953125 3.296875 \r\nQ 6 8.015625 6 15.921875 \r\nQ 6 25.140625 12.171875 29.828125 \r\nQ 18.359375 34.515625 30.609375 34.515625 \r\nL 43.21875 34.515625 \r\nL 43.21875 35.40625 \r\nQ 43.21875 41.609375 39.140625 45 \r\nQ 35.0625 48.390625 27.6875 48.390625 \r\nQ 23 48.390625 18.546875 47.265625 \r\nQ 14.109375 46.140625 10.015625 43.890625 \r\nL 10.015625 52.203125 \r\nQ 14.9375 54.109375 19.578125 55.046875 \r\nQ 24.21875 56 28.609375 56 \r\nQ 40.484375 56 46.34375 49.84375 \r\nQ 52.203125 43.703125 52.203125 31.203125 \r\nz\r\n\" id=\"DejaVuSans-97\"/>\r\n       <path d=\"M 54.890625 33.015625 \r\nL 54.890625 0 \r\nL 45.90625 0 \r\nL 45.90625 32.71875 \r\nQ 45.90625 40.484375 42.875 44.328125 \r\nQ 39.84375 48.1875 33.796875 48.1875 \r\nQ 26.515625 48.1875 22.3125 43.546875 \r\nQ 18.109375 38.921875 18.109375 30.90625 \r\nL 18.109375 0 \r\nL 9.078125 0 \r\nL 9.078125 54.6875 \r\nL 18.109375 54.6875 \r\nL 18.109375 46.1875 \r\nQ 21.34375 51.125 25.703125 53.5625 \r\nQ 30.078125 56 35.796875 56 \r\nQ 45.21875 56 50.046875 50.171875 \r\nQ 54.890625 44.34375 54.890625 33.015625 \r\nz\r\n\" id=\"DejaVuSans-110\"/>\r\n       <path d=\"M 45.40625 46.390625 \r\nL 45.40625 75.984375 \r\nL 54.390625 75.984375 \r\nL 54.390625 0 \r\nL 45.40625 0 \r\nL 45.40625 8.203125 \r\nQ 42.578125 3.328125 38.25 0.953125 \r\nQ 33.9375 -1.421875 27.875 -1.421875 \r\nQ 17.96875 -1.421875 11.734375 6.484375 \r\nQ 5.515625 14.40625 5.515625 27.296875 \r\nQ 5.515625 40.1875 11.734375 48.09375 \r\nQ 17.96875 56 27.875 56 \r\nQ 33.9375 56 38.25 53.625 \r\nQ 42.578125 51.265625 45.40625 46.390625 \r\nz\r\nM 14.796875 27.296875 \r\nQ 14.796875 17.390625 18.875 11.75 \r\nQ 22.953125 6.109375 30.078125 6.109375 \r\nQ 37.203125 6.109375 41.296875 11.75 \r\nQ 45.40625 17.390625 45.40625 27.296875 \r\nQ 45.40625 37.203125 41.296875 42.84375 \r\nQ 37.203125 48.484375 30.078125 48.484375 \r\nQ 22.953125 48.484375 18.875 42.84375 \r\nQ 14.796875 37.203125 14.796875 27.296875 \r\nz\r\n\" id=\"DejaVuSans-100\"/>\r\n       <path d=\"M 30.609375 48.390625 \r\nQ 23.390625 48.390625 19.1875 42.75 \r\nQ 14.984375 37.109375 14.984375 27.296875 \r\nQ 14.984375 17.484375 19.15625 11.84375 \r\nQ 23.34375 6.203125 30.609375 6.203125 \r\nQ 37.796875 6.203125 41.984375 11.859375 \r\nQ 46.1875 17.53125 46.1875 27.296875 \r\nQ 46.1875 37.015625 41.984375 42.703125 \r\nQ 37.796875 48.390625 30.609375 48.390625 \r\nz\r\nM 30.609375 56 \r\nQ 42.328125 56 49.015625 48.375 \r\nQ 55.71875 40.765625 55.71875 27.296875 \r\nQ 55.71875 13.875 49.015625 6.21875 \r\nQ 42.328125 -1.421875 30.609375 -1.421875 \r\nQ 18.84375 -1.421875 12.171875 6.21875 \r\nQ 5.515625 13.875 5.515625 27.296875 \r\nQ 5.515625 40.765625 12.171875 48.375 \r\nQ 18.84375 56 30.609375 56 \r\nz\r\n\" id=\"DejaVuSans-111\"/>\r\n       <path d=\"M 52 44.1875 \r\nQ 55.375 50.25 60.0625 53.125 \r\nQ 64.75 56 71.09375 56 \r\nQ 79.640625 56 84.28125 50.015625 \r\nQ 88.921875 44.046875 88.921875 33.015625 \r\nL 88.921875 0 \r\nL 79.890625 0 \r\nL 79.890625 32.71875 \r\nQ 79.890625 40.578125 77.09375 44.375 \r\nQ 74.3125 48.1875 68.609375 48.1875 \r\nQ 61.625 48.1875 57.5625 43.546875 \r\nQ 53.515625 38.921875 53.515625 30.90625 \r\nL 53.515625 0 \r\nL 44.484375 0 \r\nL 44.484375 32.71875 \r\nQ 44.484375 40.625 41.703125 44.40625 \r\nQ 38.921875 48.1875 33.109375 48.1875 \r\nQ 26.21875 48.1875 22.15625 43.53125 \r\nQ 18.109375 38.875 18.109375 30.90625 \r\nL 18.109375 0 \r\nL 9.078125 0 \r\nL 9.078125 54.6875 \r\nL 18.109375 54.6875 \r\nL 18.109375 46.1875 \r\nQ 21.1875 51.21875 25.484375 53.609375 \r\nQ 29.78125 56 35.6875 56 \r\nQ 41.65625 56 45.828125 52.96875 \r\nQ 50 49.953125 52 44.1875 \r\nz\r\n\" id=\"DejaVuSans-109\"/>\r\n       <path id=\"DejaVuSans-32\"/>\r\n       <path d=\"M 54.890625 54.6875 \r\nL 35.109375 28.078125 \r\nL 55.90625 0 \r\nL 45.3125 0 \r\nL 29.390625 21.484375 \r\nL 13.484375 0 \r\nL 2.875 0 \r\nL 24.125 28.609375 \r\nL 4.6875 54.6875 \r\nL 15.28125 54.6875 \r\nL 29.78125 35.203125 \r\nL 44.28125 54.6875 \r\nz\r\n\" id=\"DejaVuSans-120\"/>\r\n       <path d=\"M 9.421875 54.6875 \r\nL 18.40625 54.6875 \r\nL 18.40625 0 \r\nL 9.421875 0 \r\nz\r\nM 9.421875 75.984375 \r\nL 18.40625 75.984375 \r\nL 18.40625 64.59375 \r\nL 9.421875 64.59375 \r\nz\r\n\" id=\"DejaVuSans-105\"/>\r\n       <path d=\"M 18.3125 70.21875 \r\nL 18.3125 54.6875 \r\nL 36.8125 54.6875 \r\nL 36.8125 47.703125 \r\nL 18.3125 47.703125 \r\nL 18.3125 18.015625 \r\nQ 18.3125 11.328125 20.140625 9.421875 \r\nQ 21.96875 7.515625 27.59375 7.515625 \r\nL 36.8125 7.515625 \r\nL 36.8125 0 \r\nL 27.59375 0 \r\nQ 17.1875 0 13.234375 3.875 \r\nQ 9.28125 7.765625 9.28125 18.015625 \r\nL 9.28125 47.703125 \r\nL 2.6875 47.703125 \r\nL 2.6875 54.6875 \r\nL 9.28125 54.6875 \r\nL 9.28125 70.21875 \r\nz\r\n\" id=\"DejaVuSans-116\"/>\r\n       <path d=\"M 56.203125 29.59375 \r\nL 56.203125 25.203125 \r\nL 14.890625 25.203125 \r\nQ 15.484375 15.921875 20.484375 11.0625 \r\nQ 25.484375 6.203125 34.421875 6.203125 \r\nQ 39.59375 6.203125 44.453125 7.46875 \r\nQ 49.3125 8.734375 54.109375 11.28125 \r\nL 54.109375 2.78125 \r\nQ 49.265625 0.734375 44.1875 -0.34375 \r\nQ 39.109375 -1.421875 33.890625 -1.421875 \r\nQ 20.796875 -1.421875 13.15625 6.1875 \r\nQ 5.515625 13.8125 5.515625 26.8125 \r\nQ 5.515625 40.234375 12.765625 48.109375 \r\nQ 20.015625 56 32.328125 56 \r\nQ 43.359375 56 49.78125 48.890625 \r\nQ 56.203125 41.796875 56.203125 29.59375 \r\nz\r\nM 47.21875 32.234375 \r\nQ 47.125 39.59375 43.09375 43.984375 \r\nQ 39.0625 48.390625 32.421875 48.390625 \r\nQ 24.90625 48.390625 20.390625 44.140625 \r\nQ 15.875 39.890625 15.1875 32.171875 \r\nz\r\n\" id=\"DejaVuSans-101\"/>\r\n       <path d=\"M 45.40625 27.984375 \r\nQ 45.40625 37.75 41.375 43.109375 \r\nQ 37.359375 48.484375 30.078125 48.484375 \r\nQ 22.859375 48.484375 18.828125 43.109375 \r\nQ 14.796875 37.75 14.796875 27.984375 \r\nQ 14.796875 18.265625 18.828125 12.890625 \r\nQ 22.859375 7.515625 30.078125 7.515625 \r\nQ 37.359375 7.515625 41.375 12.890625 \r\nQ 45.40625 18.265625 45.40625 27.984375 \r\nz\r\nM 54.390625 6.78125 \r\nQ 54.390625 -7.171875 48.1875 -13.984375 \r\nQ 42 -20.796875 29.203125 -20.796875 \r\nQ 24.46875 -20.796875 20.265625 -20.09375 \r\nQ 16.0625 -19.390625 12.109375 -17.921875 \r\nL 12.109375 -9.1875 \r\nQ 16.0625 -11.328125 19.921875 -12.34375 \r\nQ 23.78125 -13.375 27.78125 -13.375 \r\nQ 36.625 -13.375 41.015625 -8.765625 \r\nQ 45.40625 -4.15625 45.40625 5.171875 \r\nL 45.40625 9.625 \r\nQ 42.625 4.78125 38.28125 2.390625 \r\nQ 33.9375 0 27.875 0 \r\nQ 17.828125 0 11.671875 7.65625 \r\nQ 5.515625 15.328125 5.515625 27.984375 \r\nQ 5.515625 40.671875 11.671875 48.328125 \r\nQ 17.828125 56 27.875 56 \r\nQ 33.9375 56 38.28125 53.609375 \r\nQ 42.625 51.21875 45.40625 46.390625 \r\nL 45.40625 54.6875 \r\nL 54.390625 54.6875 \r\nz\r\n\" id=\"DejaVuSans-103\"/>\r\n      </defs>\r\n      <use xlink:href=\"#DejaVuSans-114\"/>\r\n      <use x=\"41.113281\" xlink:href=\"#DejaVuSans-97\"/>\r\n      <use x=\"102.392578\" xlink:href=\"#DejaVuSans-110\"/>\r\n      <use x=\"165.771484\" xlink:href=\"#DejaVuSans-100\"/>\r\n      <use x=\"229.248047\" xlink:href=\"#DejaVuSans-111\"/>\r\n      <use x=\"290.429688\" xlink:href=\"#DejaVuSans-109\"/>\r\n      <use x=\"387.841797\" xlink:href=\"#DejaVuSans-32\"/>\r\n      <use x=\"419.628906\" xlink:href=\"#DejaVuSans-120\"/>\r\n      <use x=\"478.808594\" xlink:href=\"#DejaVuSans-32\"/>\r\n      <use x=\"510.595703\" xlink:href=\"#DejaVuSans-105\"/>\r\n      <use x=\"538.378906\" xlink:href=\"#DejaVuSans-110\"/>\r\n      <use x=\"601.757812\" xlink:href=\"#DejaVuSans-116\"/>\r\n      <use x=\"640.966797\" xlink:href=\"#DejaVuSans-101\"/>\r\n      <use x=\"702.490234\" xlink:href=\"#DejaVuSans-103\"/>\r\n      <use x=\"765.966797\" xlink:href=\"#DejaVuSans-101\"/>\r\n      <use x=\"827.490234\" xlink:href=\"#DejaVuSans-114\"/>\r\n     </g>\r\n    </g>\r\n   </g>\r\n   <g id=\"matplotlib.axis_2\">\r\n    <g id=\"ytick_1\">\r\n     <g id=\"line2d_7\">\r\n      <defs>\r\n       <path d=\"M 0 0 \r\nL -3.5 0 \r\n\" id=\"m989f286d2a\" style=\"stroke:#000000;stroke-width:0.8;\"/>\r\n      </defs>\r\n      <g>\r\n       <use style=\"stroke:#000000;stroke-width:0.8;\" x=\"51.804688\" xlink:href=\"#m989f286d2a\" y=\"215.160602\"/>\r\n      </g>\r\n     </g>\r\n     <g id=\"text_8\">\r\n      <!-- 0 -->\r\n      <g transform=\"translate(38.442188 218.959821)scale(0.1 -0.1)\">\r\n       <use xlink:href=\"#DejaVuSans-48\"/>\r\n      </g>\r\n     </g>\r\n    </g>\r\n    <g id=\"ytick_2\">\r\n     <g id=\"line2d_8\">\r\n      <g>\r\n       <use style=\"stroke:#000000;stroke-width:0.8;\" x=\"51.804688\" xlink:href=\"#m989f286d2a\" y=\"174.736732\"/>\r\n      </g>\r\n     </g>\r\n     <g id=\"text_9\">\r\n      <!-- 100 -->\r\n      <g transform=\"translate(25.717188 178.53595)scale(0.1 -0.1)\">\r\n       <use xlink:href=\"#DejaVuSans-49\"/>\r\n       <use x=\"63.623047\" xlink:href=\"#DejaVuSans-48\"/>\r\n       <use x=\"127.246094\" xlink:href=\"#DejaVuSans-48\"/>\r\n      </g>\r\n     </g>\r\n    </g>\r\n    <g id=\"ytick_3\">\r\n     <g id=\"line2d_9\">\r\n      <g>\r\n       <use style=\"stroke:#000000;stroke-width:0.8;\" x=\"51.804688\" xlink:href=\"#m989f286d2a\" y=\"134.312861\"/>\r\n      </g>\r\n     </g>\r\n     <g id=\"text_10\">\r\n      <!-- 200 -->\r\n      <g transform=\"translate(25.717188 138.11208)scale(0.1 -0.1)\">\r\n       <use xlink:href=\"#DejaVuSans-50\"/>\r\n       <use x=\"63.623047\" xlink:href=\"#DejaVuSans-48\"/>\r\n       <use x=\"127.246094\" xlink:href=\"#DejaVuSans-48\"/>\r\n      </g>\r\n     </g>\r\n    </g>\r\n    <g id=\"ytick_4\">\r\n     <g id=\"line2d_10\">\r\n      <g>\r\n       <use style=\"stroke:#000000;stroke-width:0.8;\" x=\"51.804688\" xlink:href=\"#m989f286d2a\" y=\"93.888991\"/>\r\n      </g>\r\n     </g>\r\n     <g id=\"text_11\">\r\n      <!-- 300 -->\r\n      <g transform=\"translate(25.717188 97.688209)scale(0.1 -0.1)\">\r\n       <defs>\r\n        <path d=\"M 40.578125 39.3125 \r\nQ 47.65625 37.796875 51.625 33 \r\nQ 55.609375 28.21875 55.609375 21.1875 \r\nQ 55.609375 10.40625 48.1875 4.484375 \r\nQ 40.765625 -1.421875 27.09375 -1.421875 \r\nQ 22.515625 -1.421875 17.65625 -0.515625 \r\nQ 12.796875 0.390625 7.625 2.203125 \r\nL 7.625 11.71875 \r\nQ 11.71875 9.328125 16.59375 8.109375 \r\nQ 21.484375 6.890625 26.8125 6.890625 \r\nQ 36.078125 6.890625 40.9375 10.546875 \r\nQ 45.796875 14.203125 45.796875 21.1875 \r\nQ 45.796875 27.640625 41.28125 31.265625 \r\nQ 36.765625 34.90625 28.71875 34.90625 \r\nL 20.21875 34.90625 \r\nL 20.21875 43.015625 \r\nL 29.109375 43.015625 \r\nQ 36.375 43.015625 40.234375 45.921875 \r\nQ 44.09375 48.828125 44.09375 54.296875 \r\nQ 44.09375 59.90625 40.109375 62.90625 \r\nQ 36.140625 65.921875 28.71875 65.921875 \r\nQ 24.65625 65.921875 20.015625 65.03125 \r\nQ 15.375 64.15625 9.8125 62.3125 \r\nL 9.8125 71.09375 \r\nQ 15.4375 72.65625 20.34375 73.4375 \r\nQ 25.25 74.21875 29.59375 74.21875 \r\nQ 40.828125 74.21875 47.359375 69.109375 \r\nQ 53.90625 64.015625 53.90625 55.328125 \r\nQ 53.90625 49.265625 50.4375 45.09375 \r\nQ 46.96875 40.921875 40.578125 39.3125 \r\nz\r\n\" id=\"DejaVuSans-51\"/>\r\n       </defs>\r\n       <use xlink:href=\"#DejaVuSans-51\"/>\r\n       <use x=\"63.623047\" xlink:href=\"#DejaVuSans-48\"/>\r\n       <use x=\"127.246094\" xlink:href=\"#DejaVuSans-48\"/>\r\n      </g>\r\n     </g>\r\n    </g>\r\n    <g id=\"ytick_5\">\r\n     <g id=\"line2d_11\">\r\n      <g>\r\n       <use style=\"stroke:#000000;stroke-width:0.8;\" x=\"51.804688\" xlink:href=\"#m989f286d2a\" y=\"53.46512\"/>\r\n      </g>\r\n     </g>\r\n     <g id=\"text_12\">\r\n      <!-- 400 -->\r\n      <g transform=\"translate(25.717188 57.264339)scale(0.1 -0.1)\">\r\n       <use xlink:href=\"#DejaVuSans-52\"/>\r\n       <use x=\"63.623047\" xlink:href=\"#DejaVuSans-48\"/>\r\n       <use x=\"127.246094\" xlink:href=\"#DejaVuSans-48\"/>\r\n      </g>\r\n     </g>\r\n    </g>\r\n    <g id=\"ytick_6\">\r\n     <g id=\"line2d_12\">\r\n      <g>\r\n       <use style=\"stroke:#000000;stroke-width:0.8;\" x=\"51.804688\" xlink:href=\"#m989f286d2a\" y=\"13.041249\"/>\r\n      </g>\r\n     </g>\r\n     <g id=\"text_13\">\r\n      <!-- 500 -->\r\n      <g transform=\"translate(25.717188 16.840468)scale(0.1 -0.1)\">\r\n       <defs>\r\n        <path d=\"M 10.796875 72.90625 \r\nL 49.515625 72.90625 \r\nL 49.515625 64.59375 \r\nL 19.828125 64.59375 \r\nL 19.828125 46.734375 \r\nQ 21.96875 47.46875 24.109375 47.828125 \r\nQ 26.265625 48.1875 28.421875 48.1875 \r\nQ 40.625 48.1875 47.75 41.5 \r\nQ 54.890625 34.8125 54.890625 23.390625 \r\nQ 54.890625 11.625 47.5625 5.09375 \r\nQ 40.234375 -1.421875 26.90625 -1.421875 \r\nQ 22.3125 -1.421875 17.546875 -0.640625 \r\nQ 12.796875 0.140625 7.71875 1.703125 \r\nL 7.71875 11.625 \r\nQ 12.109375 9.234375 16.796875 8.0625 \r\nQ 21.484375 6.890625 26.703125 6.890625 \r\nQ 35.15625 6.890625 40.078125 11.328125 \r\nQ 45.015625 15.765625 45.015625 23.390625 \r\nQ 45.015625 31 40.078125 35.4375 \r\nQ 35.15625 39.890625 26.703125 39.890625 \r\nQ 22.75 39.890625 18.8125 39.015625 \r\nQ 14.890625 38.140625 10.796875 36.28125 \r\nz\r\n\" id=\"DejaVuSans-53\"/>\r\n       </defs>\r\n       <use xlink:href=\"#DejaVuSans-53\"/>\r\n       <use x=\"63.623047\" xlink:href=\"#DejaVuSans-48\"/>\r\n       <use x=\"127.246094\" xlink:href=\"#DejaVuSans-48\"/>\r\n      </g>\r\n     </g>\r\n    </g>\r\n    <g id=\"text_14\">\r\n     <!-- random y integer -->\r\n     <g transform=\"translate(18.597656 181.065703)rotate(-90)scale(0.15 -0.15)\">\r\n      <defs>\r\n       <path d=\"M 32.171875 -5.078125 \r\nQ 28.375 -14.84375 24.75 -17.8125 \r\nQ 21.140625 -20.796875 15.09375 -20.796875 \r\nL 7.90625 -20.796875 \r\nL 7.90625 -13.28125 \r\nL 13.1875 -13.28125 \r\nQ 16.890625 -13.28125 18.9375 -11.515625 \r\nQ 21 -9.765625 23.484375 -3.21875 \r\nL 25.09375 0.875 \r\nL 2.984375 54.6875 \r\nL 12.5 54.6875 \r\nL 29.59375 11.921875 \r\nL 46.6875 54.6875 \r\nL 56.203125 54.6875 \r\nz\r\n\" id=\"DejaVuSans-121\"/>\r\n      </defs>\r\n      <use xlink:href=\"#DejaVuSans-114\"/>\r\n      <use x=\"41.113281\" xlink:href=\"#DejaVuSans-97\"/>\r\n      <use x=\"102.392578\" xlink:href=\"#DejaVuSans-110\"/>\r\n      <use x=\"165.771484\" xlink:href=\"#DejaVuSans-100\"/>\r\n      <use x=\"229.248047\" xlink:href=\"#DejaVuSans-111\"/>\r\n      <use x=\"290.429688\" xlink:href=\"#DejaVuSans-109\"/>\r\n      <use x=\"387.841797\" xlink:href=\"#DejaVuSans-32\"/>\r\n      <use x=\"419.628906\" xlink:href=\"#DejaVuSans-121\"/>\r\n      <use x=\"478.808594\" xlink:href=\"#DejaVuSans-32\"/>\r\n      <use x=\"510.595703\" xlink:href=\"#DejaVuSans-105\"/>\r\n      <use x=\"538.378906\" xlink:href=\"#DejaVuSans-110\"/>\r\n      <use x=\"601.757812\" xlink:href=\"#DejaVuSans-116\"/>\r\n      <use x=\"640.966797\" xlink:href=\"#DejaVuSans-101\"/>\r\n      <use x=\"702.490234\" xlink:href=\"#DejaVuSans-103\"/>\r\n      <use x=\"765.966797\" xlink:href=\"#DejaVuSans-101\"/>\r\n      <use x=\"827.490234\" xlink:href=\"#DejaVuSans-114\"/>\r\n     </g>\r\n    </g>\r\n   </g>\r\n   <g id=\"patch_3\">\r\n    <path d=\"M 51.804688 224.64 \r\nL 51.804688 7.2 \r\n\" style=\"fill:none;stroke:#000000;stroke-linecap:square;stroke-linejoin:miter;stroke-width:0.8;\"/>\r\n   </g>\r\n   <g id=\"patch_4\">\r\n    <path d=\"M 386.604688 224.64 \r\nL 386.604688 7.2 \r\n\" style=\"fill:none;stroke:#000000;stroke-linecap:square;stroke-linejoin:miter;stroke-width:0.8;\"/>\r\n   </g>\r\n   <g id=\"patch_5\">\r\n    <path d=\"M 51.804688 224.64 \r\nL 386.604687 224.64 \r\n\" style=\"fill:none;stroke:#000000;stroke-linecap:square;stroke-linejoin:miter;stroke-width:0.8;\"/>\r\n   </g>\r\n   <g id=\"patch_6\">\r\n    <path d=\"M 51.804688 7.2 \r\nL 386.604687 7.2 \r\n\" style=\"fill:none;stroke:#000000;stroke-linecap:square;stroke-linejoin:miter;stroke-width:0.8;\"/>\r\n   </g>\r\n  </g>\r\n </g>\r\n <defs>\r\n  <clipPath id=\"p4092d18125\">\r\n   <rect height=\"217.44\" width=\"334.8\" x=\"51.804688\" y=\"7.2\"/>\r\n  </clipPath>\r\n </defs>\r\n</svg>\r\n",
      "image/png": "[encoded data removed]"
     },
     "metadata": {
      "needs_background": "light"
     }
    }
   ],
   "source": [
    "plt.scatter(x_vals,y_vals)\n",
    "plt.xlabel('random x integer',fontsize=15)\n",
    "plt.ylabel('random y integer',fontsize=15)"
   ]
  },
  {
   "cell_type": "markdown",
   "metadata": {},
   "source": [
    "Here we have also changed the font size of the lables to make them more readable. There are lots of things you can change in these plots, the matplotlib website has a lot of information on these:\n",
    "\n",
    "https://matplotlib.org\n",
    "\n",
    "**Task**\n",
    "\n",
    "Load the data you made earlier from the file you created. Then, plot this in the cell below. You will have to work out how to split the 2D data back into 1D data, but you should be able to do this using the links provided. You should use the plt.plot function for this plot - how is it different from the scatter style?\n",
    "\n",
    "Then, load the data in the file 'thaipass_data.txt' plot this - what does it look like? Is this best presented with the scatter plot or the plt.plot function?"
   ]
  },
  {
   "cell_type": "code",
   "execution_count": null,
   "metadata": {},
   "outputs": [],
   "source": []
  }
 ],
 "metadata": {
  "kernelspec": {
   "name": "python3",
   "display_name": "Python 3.9.0 64-bit",
   "metadata": {
    "interpreter": {
     "hash": "bc306fe7e82136335ee344732f0b7e954ea6d0948474073c7af8f56a8d860abb"
    }
   }
  },
  "language_info": {
   "codemirror_mode": {
    "name": "ipython",
    "version": 2
   },
   "file_extension": ".py",
   "mimetype": "text/x-python",
   "name": "python",
   "nbconvert_exporter": "python",
   "pygments_lexer": "ipython2",
   "version": "3.9.0-final"
  }
 },
 "nbformat": 4,
 "nbformat_minor": 2
}